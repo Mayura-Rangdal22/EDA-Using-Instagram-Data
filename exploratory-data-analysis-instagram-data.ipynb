{
 "cells": [
  {
   "cell_type": "code",
   "execution_count": 1,
   "id": "2e6d0ab3",
   "metadata": {
    "_cell_guid": "b1076dfc-b9ad-4769-8c92-a6c4dae69d19",
    "_uuid": "8f2839f25d086af736a60e9eeb907d3b93b6e0e5",
    "execution": {
     "iopub.execute_input": "2023-07-18T16:39:27.301548Z",
     "iopub.status.busy": "2023-07-18T16:39:27.300699Z",
     "iopub.status.idle": "2023-07-18T16:39:29.640251Z",
     "shell.execute_reply": "2023-07-18T16:39:29.639321Z"
    },
    "papermill": {
     "duration": 2.351415,
     "end_time": "2023-07-18T16:39:29.642978",
     "exception": false,
     "start_time": "2023-07-18T16:39:27.291563",
     "status": "completed"
    },
    "tags": []
   },
   "outputs": [],
   "source": [
    "#import packages\n",
    "\n",
    "import pandas as pd\n",
    "import plotly.express as px\n",
    "import plotly.graph_objects as go\n",
    "import plotly.io as pio\n",
    "pio.templates.default = \"plotly_white\""
   ]
  },
  {
   "cell_type": "code",
   "execution_count": 2,
   "id": "a82f63e6",
   "metadata": {
    "execution": {
     "iopub.execute_input": "2023-07-18T16:39:29.658050Z",
     "iopub.status.busy": "2023-07-18T16:39:29.657409Z",
     "iopub.status.idle": "2023-07-18T16:39:29.693137Z",
     "shell.execute_reply": "2023-07-18T16:39:29.691989Z"
    },
    "papermill": {
     "duration": 0.046362,
     "end_time": "2023-07-18T16:39:29.695981",
     "exception": false,
     "start_time": "2023-07-18T16:39:29.649619",
     "status": "completed"
    },
    "tags": []
   },
   "outputs": [
    {
     "name": "stdout",
     "output_type": "stream",
     "text": [
      "   Impressions  From Home  From Hashtags  From Explore  From Other  Saves  \\\n",
      "0         3920       2586           1028           619          56     98   \n",
      "1         5394       2727           1838          1174          78    194   \n",
      "2         4021       2085           1188             0         533     41   \n",
      "3         4528       2700            621           932          73    172   \n",
      "4         2518       1704            255           279          37     96   \n",
      "5         3884       2046           1214           329          43     74   \n",
      "6         2621       1543            599           333          25     22   \n",
      "7         3541       2071            628           500          60    135   \n",
      "8         3749       2384            857           248          49    155   \n",
      "9         4115       2609           1104           178          46    122   \n",
      "\n",
      "   Comments  Shares  Likes  Profile Visits  Follows  \\\n",
      "0         9       5    162              35        2   \n",
      "1         7      14    224              48       10   \n",
      "2        11       1    131              62       12   \n",
      "3        10       7    213              23        8   \n",
      "4         5       4    123               8        0   \n",
      "5         7      10    144               9        2   \n",
      "6         5       1     76              26        0   \n",
      "7         4       9    124              12        6   \n",
      "8         6       8    159              36        4   \n",
      "9         6       3    191              31        6   \n",
      "\n",
      "                                             Caption  \\\n",
      "0  Here are some of the most important data visua...   \n",
      "1  Here are some of the best data science project...   \n",
      "2  Learn how to train a machine learning model an...   \n",
      "3  Heres how you can write a Python program to d...   \n",
      "4  Plotting annotations while visualizing your da...   \n",
      "5  Here are some of the most important soft skill...   \n",
      "6  Learn how to analyze a candlestick chart as a ...   \n",
      "7  Here are some of the best books that you can f...   \n",
      "8  Here are some of the best data analysis projec...   \n",
      "9  Here are two best ways to count the number of ...   \n",
      "\n",
      "                                            Hashtags  \n",
      "0  #finance #money #business #investing #investme...  \n",
      "1  #healthcare #health #covid #data #datascience ...  \n",
      "2  #data #datascience #dataanalysis #dataanalytic...  \n",
      "3  #python #pythonprogramming #pythonprojects #py...  \n",
      "4  #datavisualization #datascience #data #dataana...  \n",
      "5  #data #datascience #dataanalysis #dataanalytic...  \n",
      "6  #stockmarket #investing #stocks #trading #mone...  \n",
      "7  #python #pythonprogramming #pythonprojects #py...  \n",
      "8  #dataanalytics #datascience #data #machinelear...  \n",
      "9  #python #pythonprogramming #pythonprojects #py...  \n"
     ]
    }
   ],
   "source": [
    "#load the dataset and display the data\n",
    "\n",
    "data = pd.read_csv(\"/kaggle/input/exploratory-data-analysis/Instagram data.csv\", encoding='latin-1')\n",
    "print(data.head(10))"
   ]
  },
  {
   "cell_type": "code",
   "execution_count": 3,
   "id": "d5b3b556",
   "metadata": {
    "execution": {
     "iopub.execute_input": "2023-07-18T16:39:29.710700Z",
     "iopub.status.busy": "2023-07-18T16:39:29.710300Z",
     "iopub.status.idle": "2023-07-18T16:39:29.716371Z",
     "shell.execute_reply": "2023-07-18T16:39:29.715040Z"
    },
    "papermill": {
     "duration": 0.016478,
     "end_time": "2023-07-18T16:39:29.719106",
     "exception": false,
     "start_time": "2023-07-18T16:39:29.702628",
     "status": "completed"
    },
    "tags": []
   },
   "outputs": [
    {
     "name": "stdout",
     "output_type": "stream",
     "text": [
      "Index(['Impressions', 'From Home', 'From Hashtags', 'From Explore',\n",
      "       'From Other', 'Saves', 'Comments', 'Shares', 'Likes', 'Profile Visits',\n",
      "       'Follows', 'Caption', 'Hashtags'],\n",
      "      dtype='object')\n"
     ]
    }
   ],
   "source": [
    "#checking the columns\n",
    "\n",
    "print(data.columns)"
   ]
  },
  {
   "cell_type": "code",
   "execution_count": 4,
   "id": "18a691f3",
   "metadata": {
    "execution": {
     "iopub.execute_input": "2023-07-18T16:39:29.734139Z",
     "iopub.status.busy": "2023-07-18T16:39:29.733748Z",
     "iopub.status.idle": "2023-07-18T16:39:29.759032Z",
     "shell.execute_reply": "2023-07-18T16:39:29.757251Z"
    },
    "papermill": {
     "duration": 0.035689,
     "end_time": "2023-07-18T16:39:29.761458",
     "exception": false,
     "start_time": "2023-07-18T16:39:29.725769",
     "status": "completed"
    },
    "tags": []
   },
   "outputs": [
    {
     "name": "stdout",
     "output_type": "stream",
     "text": [
      "<class 'pandas.core.frame.DataFrame'>\n",
      "RangeIndex: 120 entries, 0 to 119\n",
      "Data columns (total 13 columns):\n",
      " #   Column          Non-Null Count  Dtype \n",
      "---  ------          --------------  ----- \n",
      " 0   Impressions     120 non-null    int64 \n",
      " 1   From Home       120 non-null    int64 \n",
      " 2   From Hashtags   120 non-null    int64 \n",
      " 3   From Explore    120 non-null    int64 \n",
      " 4   From Other      120 non-null    int64 \n",
      " 5   Saves           120 non-null    int64 \n",
      " 6   Comments        120 non-null    int64 \n",
      " 7   Shares          120 non-null    int64 \n",
      " 8   Likes           120 non-null    int64 \n",
      " 9   Profile Visits  120 non-null    int64 \n",
      " 10  Follows         120 non-null    int64 \n",
      " 11  Caption         120 non-null    object\n",
      " 12  Hashtags        120 non-null    object\n",
      "dtypes: int64(11), object(2)\n",
      "memory usage: 12.3+ KB\n",
      "None\n"
     ]
    }
   ],
   "source": [
    "#checking the information of about dataset\n",
    "\n",
    "print(data.info())"
   ]
  },
  {
   "cell_type": "code",
   "execution_count": 5,
   "id": "6797e4c1",
   "metadata": {
    "execution": {
     "iopub.execute_input": "2023-07-18T16:39:29.777161Z",
     "iopub.status.busy": "2023-07-18T16:39:29.776199Z",
     "iopub.status.idle": "2023-07-18T16:39:29.820042Z",
     "shell.execute_reply": "2023-07-18T16:39:29.818547Z"
    },
    "papermill": {
     "duration": 0.054345,
     "end_time": "2023-07-18T16:39:29.822593",
     "exception": false,
     "start_time": "2023-07-18T16:39:29.768248",
     "status": "completed"
    },
    "tags": []
   },
   "outputs": [
    {
     "name": "stdout",
     "output_type": "stream",
     "text": [
      "        Impressions    From Home  From Hashtags  From Explore   From Other  \\\n",
      "count    120.000000    120.00000     120.000000    120.000000   120.000000   \n",
      "mean    5914.958333   2472.70000    1896.800000   1167.158333   182.983333   \n",
      "std     5348.446502   1483.50142    1879.183314   2778.898461   316.280855   \n",
      "min     1941.000000   1133.00000     116.000000      0.000000     9.000000   \n",
      "25%     3473.500000   1945.00000     735.500000    157.750000    38.500000   \n",
      "50%     4293.500000   2201.00000    1278.000000    327.500000    74.500000   \n",
      "75%     6168.000000   2599.75000    2389.250000    711.500000   205.000000   \n",
      "max    36919.000000  13473.00000   11817.000000  17414.000000  2547.000000   \n",
      "\n",
      "             Saves    Comments      Shares       Likes  Profile Visits  \\\n",
      "count   120.000000  120.000000  120.000000  120.000000      120.000000   \n",
      "mean    152.533333    6.650000    9.458333  176.500000       51.266667   \n",
      "std     155.892439    3.532918   10.102746   87.270178       87.008908   \n",
      "min      22.000000    0.000000    0.000000   72.000000        4.000000   \n",
      "25%      63.000000    4.000000    3.000000  121.750000       15.000000   \n",
      "50%     107.500000    6.000000    6.000000  151.500000       23.000000   \n",
      "75%     168.000000    8.000000   14.000000  205.000000       42.750000   \n",
      "max    1095.000000   19.000000   75.000000  549.000000      611.000000   \n",
      "\n",
      "          Follows  \n",
      "count  120.000000  \n",
      "mean    22.308333  \n",
      "std     44.153817  \n",
      "min      0.000000  \n",
      "25%      4.000000  \n",
      "50%      8.000000  \n",
      "75%     18.000000  \n",
      "max    260.000000  \n"
     ]
    }
   ],
   "source": [
    "#checking the statistical summary of data \n",
    "\n",
    "print(data.describe())"
   ]
  },
  {
   "cell_type": "code",
   "execution_count": 6,
   "id": "3740529e",
   "metadata": {
    "execution": {
     "iopub.execute_input": "2023-07-18T16:39:29.838033Z",
     "iopub.status.busy": "2023-07-18T16:39:29.837593Z",
     "iopub.status.idle": "2023-07-18T16:39:29.846408Z",
     "shell.execute_reply": "2023-07-18T16:39:29.844383Z"
    },
    "papermill": {
     "duration": 0.019271,
     "end_time": "2023-07-18T16:39:29.848781",
     "exception": false,
     "start_time": "2023-07-18T16:39:29.829510",
     "status": "completed"
    },
    "tags": []
   },
   "outputs": [
    {
     "name": "stdout",
     "output_type": "stream",
     "text": [
      "Impressions       0\n",
      "From Home         0\n",
      "From Hashtags     0\n",
      "From Explore      0\n",
      "From Other        0\n",
      "Saves             0\n",
      "Comments          0\n",
      "Shares            0\n",
      "Likes             0\n",
      "Profile Visits    0\n",
      "Follows           0\n",
      "Caption           0\n",
      "Hashtags          0\n",
      "dtype: int64\n"
     ]
    }
   ],
   "source": [
    "#find null values from the data \n",
    "\n",
    "print(data.isnull().sum())"
   ]
  },
  {
   "cell_type": "code",
   "execution_count": 7,
   "id": "8e66074d",
   "metadata": {
    "execution": {
     "iopub.execute_input": "2023-07-18T16:39:29.864967Z",
     "iopub.status.busy": "2023-07-18T16:39:29.864559Z",
     "iopub.status.idle": "2023-07-18T16:39:30.248358Z",
     "shell.execute_reply": "2023-07-18T16:39:30.247117Z"
    },
    "papermill": {
     "duration": 0.395247,
     "end_time": "2023-07-18T16:39:30.251154",
     "exception": false,
     "start_time": "2023-07-18T16:39:29.855907",
     "status": "completed"
    },
    "tags": []
   },
   "outputs": [
    {
     "data": {
      "text/html": [
       "        <script type=\"text/javascript\">\n",
       "        window.PlotlyConfig = {MathJaxConfig: 'local'};\n",
       "        if (window.MathJax && window.MathJax.Hub && window.MathJax.Hub.Config) {window.MathJax.Hub.Config({SVG: {font: \"STIX-Web\"}});}\n",
       "        if (typeof require !== 'undefined') {\n",
       "        require.undef(\"plotly\");\n",
       "        requirejs.config({\n",
       "            paths: {\n",
       "                'plotly': ['https://cdn.plot.ly/plotly-2.24.1.min']\n",
       "            }\n",
       "        });\n",
       "        require(['plotly'], function(Plotly) {\n",
       "            window._Plotly = Plotly;\n",
       "        });\n",
       "        }\n",
       "        </script>\n",
       "        "
      ]
     },
     "metadata": {},
     "output_type": "display_data"
    },
    {
     "data": {
      "text/html": [
       "<div>                            <div id=\"8cea57e8-620d-484e-8d4a-2bc9dd93fe6d\" class=\"plotly-graph-div\" style=\"height:525px; width:100%;\"></div>            <script type=\"text/javascript\">                require([\"plotly\"], function(Plotly) {                    window.PLOTLYENV=window.PLOTLYENV || {};                                    if (document.getElementById(\"8cea57e8-620d-484e-8d4a-2bc9dd93fe6d\")) {                    Plotly.newPlot(                        \"8cea57e8-620d-484e-8d4a-2bc9dd93fe6d\",                        [{\"alignmentgroup\":\"True\",\"bingroup\":\"x\",\"hovertemplate\":\"Shares=%{x}\\u003cbr\\u003ecount=%{y}\\u003cextra\\u003e\\u003c\\u002fextra\\u003e\",\"legendgroup\":\"\",\"marker\":{\"color\":\"#636efa\",\"pattern\":{\"shape\":\"\"}},\"name\":\"\",\"nbinsx\":10,\"offsetgroup\":\"\",\"orientation\":\"v\",\"showlegend\":false,\"x\":[5,14,1,7,4,10,1,9,8,3,3,14,11,5,10,11,18,1,6,20,5,4,9,14,3,5,6,4,3,4,3,15,4,3,8,0,3,11,1,3,20,13,4,2,5,19,10,3,15,41,1,16,1,8,15,9,2,7,16,14,6,5,1,0,12,5,0,15,2,3,7,0,15,6,6,0,1,11,2,6,12,22,11,18,1,6,20,10,3,15,41,1,14,3,5,6,4,3,4,27,13,7,2,12,15,8,3,7,22,23,8,4,13,17,38,1,1,75,26,21],\"xaxis\":\"x\",\"yaxis\":\"y\",\"type\":\"histogram\"}],                        {\"template\":{\"data\":{\"histogram2dcontour\":[{\"type\":\"histogram2dcontour\",\"colorbar\":{\"outlinewidth\":0,\"ticks\":\"\"},\"colorscale\":[[0.0,\"#0d0887\"],[0.1111111111111111,\"#46039f\"],[0.2222222222222222,\"#7201a8\"],[0.3333333333333333,\"#9c179e\"],[0.4444444444444444,\"#bd3786\"],[0.5555555555555556,\"#d8576b\"],[0.6666666666666666,\"#ed7953\"],[0.7777777777777778,\"#fb9f3a\"],[0.8888888888888888,\"#fdca26\"],[1.0,\"#f0f921\"]]}],\"choropleth\":[{\"type\":\"choropleth\",\"colorbar\":{\"outlinewidth\":0,\"ticks\":\"\"}}],\"histogram2d\":[{\"type\":\"histogram2d\",\"colorbar\":{\"outlinewidth\":0,\"ticks\":\"\"},\"colorscale\":[[0.0,\"#0d0887\"],[0.1111111111111111,\"#46039f\"],[0.2222222222222222,\"#7201a8\"],[0.3333333333333333,\"#9c179e\"],[0.4444444444444444,\"#bd3786\"],[0.5555555555555556,\"#d8576b\"],[0.6666666666666666,\"#ed7953\"],[0.7777777777777778,\"#fb9f3a\"],[0.8888888888888888,\"#fdca26\"],[1.0,\"#f0f921\"]]}],\"heatmap\":[{\"type\":\"heatmap\",\"colorbar\":{\"outlinewidth\":0,\"ticks\":\"\"},\"colorscale\":[[0.0,\"#0d0887\"],[0.1111111111111111,\"#46039f\"],[0.2222222222222222,\"#7201a8\"],[0.3333333333333333,\"#9c179e\"],[0.4444444444444444,\"#bd3786\"],[0.5555555555555556,\"#d8576b\"],[0.6666666666666666,\"#ed7953\"],[0.7777777777777778,\"#fb9f3a\"],[0.8888888888888888,\"#fdca26\"],[1.0,\"#f0f921\"]]}],\"heatmapgl\":[{\"type\":\"heatmapgl\",\"colorbar\":{\"outlinewidth\":0,\"ticks\":\"\"},\"colorscale\":[[0.0,\"#0d0887\"],[0.1111111111111111,\"#46039f\"],[0.2222222222222222,\"#7201a8\"],[0.3333333333333333,\"#9c179e\"],[0.4444444444444444,\"#bd3786\"],[0.5555555555555556,\"#d8576b\"],[0.6666666666666666,\"#ed7953\"],[0.7777777777777778,\"#fb9f3a\"],[0.8888888888888888,\"#fdca26\"],[1.0,\"#f0f921\"]]}],\"contourcarpet\":[{\"type\":\"contourcarpet\",\"colorbar\":{\"outlinewidth\":0,\"ticks\":\"\"}}],\"contour\":[{\"type\":\"contour\",\"colorbar\":{\"outlinewidth\":0,\"ticks\":\"\"},\"colorscale\":[[0.0,\"#0d0887\"],[0.1111111111111111,\"#46039f\"],[0.2222222222222222,\"#7201a8\"],[0.3333333333333333,\"#9c179e\"],[0.4444444444444444,\"#bd3786\"],[0.5555555555555556,\"#d8576b\"],[0.6666666666666666,\"#ed7953\"],[0.7777777777777778,\"#fb9f3a\"],[0.8888888888888888,\"#fdca26\"],[1.0,\"#f0f921\"]]}],\"surface\":[{\"type\":\"surface\",\"colorbar\":{\"outlinewidth\":0,\"ticks\":\"\"},\"colorscale\":[[0.0,\"#0d0887\"],[0.1111111111111111,\"#46039f\"],[0.2222222222222222,\"#7201a8\"],[0.3333333333333333,\"#9c179e\"],[0.4444444444444444,\"#bd3786\"],[0.5555555555555556,\"#d8576b\"],[0.6666666666666666,\"#ed7953\"],[0.7777777777777778,\"#fb9f3a\"],[0.8888888888888888,\"#fdca26\"],[1.0,\"#f0f921\"]]}],\"mesh3d\":[{\"type\":\"mesh3d\",\"colorbar\":{\"outlinewidth\":0,\"ticks\":\"\"}}],\"scatter\":[{\"fillpattern\":{\"fillmode\":\"overlay\",\"size\":10,\"solidity\":0.2},\"type\":\"scatter\"}],\"parcoords\":[{\"type\":\"parcoords\",\"line\":{\"colorbar\":{\"outlinewidth\":0,\"ticks\":\"\"}}}],\"scatterpolargl\":[{\"type\":\"scatterpolargl\",\"marker\":{\"colorbar\":{\"outlinewidth\":0,\"ticks\":\"\"}}}],\"bar\":[{\"error_x\":{\"color\":\"#2a3f5f\"},\"error_y\":{\"color\":\"#2a3f5f\"},\"marker\":{\"line\":{\"color\":\"white\",\"width\":0.5},\"pattern\":{\"fillmode\":\"overlay\",\"size\":10,\"solidity\":0.2}},\"type\":\"bar\"}],\"scattergeo\":[{\"type\":\"scattergeo\",\"marker\":{\"colorbar\":{\"outlinewidth\":0,\"ticks\":\"\"}}}],\"scatterpolar\":[{\"type\":\"scatterpolar\",\"marker\":{\"colorbar\":{\"outlinewidth\":0,\"ticks\":\"\"}}}],\"histogram\":[{\"marker\":{\"pattern\":{\"fillmode\":\"overlay\",\"size\":10,\"solidity\":0.2}},\"type\":\"histogram\"}],\"scattergl\":[{\"type\":\"scattergl\",\"marker\":{\"colorbar\":{\"outlinewidth\":0,\"ticks\":\"\"}}}],\"scatter3d\":[{\"type\":\"scatter3d\",\"line\":{\"colorbar\":{\"outlinewidth\":0,\"ticks\":\"\"}},\"marker\":{\"colorbar\":{\"outlinewidth\":0,\"ticks\":\"\"}}}],\"scattermapbox\":[{\"type\":\"scattermapbox\",\"marker\":{\"colorbar\":{\"outlinewidth\":0,\"ticks\":\"\"}}}],\"scatterternary\":[{\"type\":\"scatterternary\",\"marker\":{\"colorbar\":{\"outlinewidth\":0,\"ticks\":\"\"}}}],\"scattercarpet\":[{\"type\":\"scattercarpet\",\"marker\":{\"colorbar\":{\"outlinewidth\":0,\"ticks\":\"\"}}}],\"carpet\":[{\"aaxis\":{\"endlinecolor\":\"#2a3f5f\",\"gridcolor\":\"#C8D4E3\",\"linecolor\":\"#C8D4E3\",\"minorgridcolor\":\"#C8D4E3\",\"startlinecolor\":\"#2a3f5f\"},\"baxis\":{\"endlinecolor\":\"#2a3f5f\",\"gridcolor\":\"#C8D4E3\",\"linecolor\":\"#C8D4E3\",\"minorgridcolor\":\"#C8D4E3\",\"startlinecolor\":\"#2a3f5f\"},\"type\":\"carpet\"}],\"table\":[{\"cells\":{\"fill\":{\"color\":\"#EBF0F8\"},\"line\":{\"color\":\"white\"}},\"header\":{\"fill\":{\"color\":\"#C8D4E3\"},\"line\":{\"color\":\"white\"}},\"type\":\"table\"}],\"barpolar\":[{\"marker\":{\"line\":{\"color\":\"white\",\"width\":0.5},\"pattern\":{\"fillmode\":\"overlay\",\"size\":10,\"solidity\":0.2}},\"type\":\"barpolar\"}],\"pie\":[{\"automargin\":true,\"type\":\"pie\"}]},\"layout\":{\"autotypenumbers\":\"strict\",\"colorway\":[\"#636efa\",\"#EF553B\",\"#00cc96\",\"#ab63fa\",\"#FFA15A\",\"#19d3f3\",\"#FF6692\",\"#B6E880\",\"#FF97FF\",\"#FECB52\"],\"font\":{\"color\":\"#2a3f5f\"},\"hovermode\":\"closest\",\"hoverlabel\":{\"align\":\"left\"},\"paper_bgcolor\":\"white\",\"plot_bgcolor\":\"white\",\"polar\":{\"bgcolor\":\"white\",\"angularaxis\":{\"gridcolor\":\"#EBF0F8\",\"linecolor\":\"#EBF0F8\",\"ticks\":\"\"},\"radialaxis\":{\"gridcolor\":\"#EBF0F8\",\"linecolor\":\"#EBF0F8\",\"ticks\":\"\"}},\"ternary\":{\"bgcolor\":\"white\",\"aaxis\":{\"gridcolor\":\"#DFE8F3\",\"linecolor\":\"#A2B1C6\",\"ticks\":\"\"},\"baxis\":{\"gridcolor\":\"#DFE8F3\",\"linecolor\":\"#A2B1C6\",\"ticks\":\"\"},\"caxis\":{\"gridcolor\":\"#DFE8F3\",\"linecolor\":\"#A2B1C6\",\"ticks\":\"\"}},\"coloraxis\":{\"colorbar\":{\"outlinewidth\":0,\"ticks\":\"\"}},\"colorscale\":{\"sequential\":[[0.0,\"#0d0887\"],[0.1111111111111111,\"#46039f\"],[0.2222222222222222,\"#7201a8\"],[0.3333333333333333,\"#9c179e\"],[0.4444444444444444,\"#bd3786\"],[0.5555555555555556,\"#d8576b\"],[0.6666666666666666,\"#ed7953\"],[0.7777777777777778,\"#fb9f3a\"],[0.8888888888888888,\"#fdca26\"],[1.0,\"#f0f921\"]],\"sequentialminus\":[[0.0,\"#0d0887\"],[0.1111111111111111,\"#46039f\"],[0.2222222222222222,\"#7201a8\"],[0.3333333333333333,\"#9c179e\"],[0.4444444444444444,\"#bd3786\"],[0.5555555555555556,\"#d8576b\"],[0.6666666666666666,\"#ed7953\"],[0.7777777777777778,\"#fb9f3a\"],[0.8888888888888888,\"#fdca26\"],[1.0,\"#f0f921\"]],\"diverging\":[[0,\"#8e0152\"],[0.1,\"#c51b7d\"],[0.2,\"#de77ae\"],[0.3,\"#f1b6da\"],[0.4,\"#fde0ef\"],[0.5,\"#f7f7f7\"],[0.6,\"#e6f5d0\"],[0.7,\"#b8e186\"],[0.8,\"#7fbc41\"],[0.9,\"#4d9221\"],[1,\"#276419\"]]},\"xaxis\":{\"gridcolor\":\"#EBF0F8\",\"linecolor\":\"#EBF0F8\",\"ticks\":\"\",\"title\":{\"standoff\":15},\"zerolinecolor\":\"#EBF0F8\",\"automargin\":true,\"zerolinewidth\":2},\"yaxis\":{\"gridcolor\":\"#EBF0F8\",\"linecolor\":\"#EBF0F8\",\"ticks\":\"\",\"title\":{\"standoff\":15},\"zerolinecolor\":\"#EBF0F8\",\"automargin\":true,\"zerolinewidth\":2},\"scene\":{\"xaxis\":{\"backgroundcolor\":\"white\",\"gridcolor\":\"#DFE8F3\",\"linecolor\":\"#EBF0F8\",\"showbackground\":true,\"ticks\":\"\",\"zerolinecolor\":\"#EBF0F8\",\"gridwidth\":2},\"yaxis\":{\"backgroundcolor\":\"white\",\"gridcolor\":\"#DFE8F3\",\"linecolor\":\"#EBF0F8\",\"showbackground\":true,\"ticks\":\"\",\"zerolinecolor\":\"#EBF0F8\",\"gridwidth\":2},\"zaxis\":{\"backgroundcolor\":\"white\",\"gridcolor\":\"#DFE8F3\",\"linecolor\":\"#EBF0F8\",\"showbackground\":true,\"ticks\":\"\",\"zerolinecolor\":\"#EBF0F8\",\"gridwidth\":2}},\"shapedefaults\":{\"line\":{\"color\":\"#2a3f5f\"}},\"annotationdefaults\":{\"arrowcolor\":\"#2a3f5f\",\"arrowhead\":0,\"arrowwidth\":1},\"geo\":{\"bgcolor\":\"white\",\"landcolor\":\"white\",\"subunitcolor\":\"#C8D4E3\",\"showland\":true,\"showlakes\":true,\"lakecolor\":\"white\"},\"title\":{\"x\":0.05},\"mapbox\":{\"style\":\"light\"}}},\"xaxis\":{\"anchor\":\"y\",\"domain\":[0.0,1.0],\"title\":{\"text\":\"Shares\"}},\"yaxis\":{\"anchor\":\"x\",\"domain\":[0.0,1.0],\"title\":{\"text\":\"count\"}},\"legend\":{\"tracegroupgap\":0},\"title\":{\"text\":\"Distribution of Shares\"},\"barmode\":\"relative\"},                        {\"responsive\": true}                    ).then(function(){\n",
       "                            \n",
       "var gd = document.getElementById('8cea57e8-620d-484e-8d4a-2bc9dd93fe6d');\n",
       "var x = new MutationObserver(function (mutations, observer) {{\n",
       "        var display = window.getComputedStyle(gd).display;\n",
       "        if (!display || display === 'none') {{\n",
       "            console.log([gd, 'removed!']);\n",
       "            Plotly.purge(gd);\n",
       "            observer.disconnect();\n",
       "        }}\n",
       "}});\n",
       "\n",
       "// Listen for the removal of the full notebook cells\n",
       "var notebookContainer = gd.closest('#notebook-container');\n",
       "if (notebookContainer) {{\n",
       "    x.observe(notebookContainer, {childList: true});\n",
       "}}\n",
       "\n",
       "// Listen for the clearing of the current output cell\n",
       "var outputEl = gd.closest('.output');\n",
       "if (outputEl) {{\n",
       "    x.observe(outputEl, {childList: true});\n",
       "}}\n",
       "\n",
       "                        })                };                });            </script>        </div>"
      ]
     },
     "metadata": {},
     "output_type": "display_data"
    }
   ],
   "source": [
    "#exploring the data starting with number of shares\n",
    "\n",
    "fig = px.histogram(data, \n",
    "                   x='Shares', \n",
    "                   nbins=10, \n",
    "                   title='Distribution of Shares')\n",
    "fig.show()"
   ]
  },
  {
   "cell_type": "code",
   "execution_count": 8,
   "id": "0bbacda4",
   "metadata": {
    "execution": {
     "iopub.execute_input": "2023-07-18T16:39:30.268838Z",
     "iopub.status.busy": "2023-07-18T16:39:30.268418Z",
     "iopub.status.idle": "2023-07-18T16:39:30.376270Z",
     "shell.execute_reply": "2023-07-18T16:39:30.375069Z"
    },
    "papermill": {
     "duration": 0.119956,
     "end_time": "2023-07-18T16:39:30.379341",
     "exception": false,
     "start_time": "2023-07-18T16:39:30.259385",
     "status": "completed"
    },
    "tags": []
   },
   "outputs": [
    {
     "data": {
      "text/html": [
       "<div>                            <div id=\"1bea8cc5-3625-4a0a-b639-b797f747f949\" class=\"plotly-graph-div\" style=\"height:525px; width:100%;\"></div>            <script type=\"text/javascript\">                require([\"plotly\"], function(Plotly) {                    window.PLOTLYENV=window.PLOTLYENV || {};                                    if (document.getElementById(\"1bea8cc5-3625-4a0a-b639-b797f747f949\")) {                    Plotly.newPlot(                        \"1bea8cc5-3625-4a0a-b639-b797f747f949\",                        [{\"hovertemplate\":\"index=%{x}\\u003cbr\\u003eImpressions=%{y}\\u003cextra\\u003e\\u003c\\u002fextra\\u003e\",\"legendgroup\":\"\",\"line\":{\"color\":\"#636efa\",\"dash\":\"solid\"},\"marker\":{\"symbol\":\"circle\"},\"mode\":\"lines\",\"name\":\"\",\"orientation\":\"v\",\"showlegend\":false,\"x\":[0,1,2,3,4,5,6,7,8,9,10,11,12,13,14,15,16,17,18,19,20,21,22,23,24,25,26,27,28,29,30,31,32,33,34,35,36,37,38,39,40,41,42,43,44,45,46,47,48,49,50,51,52,53,54,55,56,57,58,59,60,61,62,63,64,65,66,67,68,69,70,71,72,73,74,75,76,77,78,79,80,81,82,83,84,85,86,87,88,89,90,91,92,93,94,95,96,97,98,99,100,101,102,103,104,105,106,107,108,109,110,111,112,113,114,115,116,117,118,119],\"xaxis\":\"x\",\"y\":[3920,5394,4021,4528,2518,3884,2621,3541,3749,4115,2218,3234,4344,3216,9453,5055,4002,3169,6168,2407,2064,3973,7281,3052,4628,4082,5394,2766,3924,3015,6666,3854,4355,4343,6108,2523,2327,3990,2191,1941,16062,4998,4289,3880,3786,4298,3630,2826,7407,10386,2998,7018,2941,6432,10667,3988,4978,3388,4467,3246,5072,6339,4239,3454,7571,3333,3818,10933,5058,3601,3480,3525,3606,5542,6559,3623,10493,4446,2957,5538,4681,5273,5055,4002,3169,6168,2407,3630,2826,7407,10386,2998,3052,4628,4082,5394,2766,3924,3015,5409,5323,8001,4150,4609,6348,11068,7231,17396,6814,17713,5563,4842,11149,10206,13700,5731,4139,32695,36919,31020],\"yaxis\":\"y\",\"type\":\"scatter\"}],                        {\"template\":{\"data\":{\"histogram2dcontour\":[{\"type\":\"histogram2dcontour\",\"colorbar\":{\"outlinewidth\":0,\"ticks\":\"\"},\"colorscale\":[[0.0,\"#0d0887\"],[0.1111111111111111,\"#46039f\"],[0.2222222222222222,\"#7201a8\"],[0.3333333333333333,\"#9c179e\"],[0.4444444444444444,\"#bd3786\"],[0.5555555555555556,\"#d8576b\"],[0.6666666666666666,\"#ed7953\"],[0.7777777777777778,\"#fb9f3a\"],[0.8888888888888888,\"#fdca26\"],[1.0,\"#f0f921\"]]}],\"choropleth\":[{\"type\":\"choropleth\",\"colorbar\":{\"outlinewidth\":0,\"ticks\":\"\"}}],\"histogram2d\":[{\"type\":\"histogram2d\",\"colorbar\":{\"outlinewidth\":0,\"ticks\":\"\"},\"colorscale\":[[0.0,\"#0d0887\"],[0.1111111111111111,\"#46039f\"],[0.2222222222222222,\"#7201a8\"],[0.3333333333333333,\"#9c179e\"],[0.4444444444444444,\"#bd3786\"],[0.5555555555555556,\"#d8576b\"],[0.6666666666666666,\"#ed7953\"],[0.7777777777777778,\"#fb9f3a\"],[0.8888888888888888,\"#fdca26\"],[1.0,\"#f0f921\"]]}],\"heatmap\":[{\"type\":\"heatmap\",\"colorbar\":{\"outlinewidth\":0,\"ticks\":\"\"},\"colorscale\":[[0.0,\"#0d0887\"],[0.1111111111111111,\"#46039f\"],[0.2222222222222222,\"#7201a8\"],[0.3333333333333333,\"#9c179e\"],[0.4444444444444444,\"#bd3786\"],[0.5555555555555556,\"#d8576b\"],[0.6666666666666666,\"#ed7953\"],[0.7777777777777778,\"#fb9f3a\"],[0.8888888888888888,\"#fdca26\"],[1.0,\"#f0f921\"]]}],\"heatmapgl\":[{\"type\":\"heatmapgl\",\"colorbar\":{\"outlinewidth\":0,\"ticks\":\"\"},\"colorscale\":[[0.0,\"#0d0887\"],[0.1111111111111111,\"#46039f\"],[0.2222222222222222,\"#7201a8\"],[0.3333333333333333,\"#9c179e\"],[0.4444444444444444,\"#bd3786\"],[0.5555555555555556,\"#d8576b\"],[0.6666666666666666,\"#ed7953\"],[0.7777777777777778,\"#fb9f3a\"],[0.8888888888888888,\"#fdca26\"],[1.0,\"#f0f921\"]]}],\"contourcarpet\":[{\"type\":\"contourcarpet\",\"colorbar\":{\"outlinewidth\":0,\"ticks\":\"\"}}],\"contour\":[{\"type\":\"contour\",\"colorbar\":{\"outlinewidth\":0,\"ticks\":\"\"},\"colorscale\":[[0.0,\"#0d0887\"],[0.1111111111111111,\"#46039f\"],[0.2222222222222222,\"#7201a8\"],[0.3333333333333333,\"#9c179e\"],[0.4444444444444444,\"#bd3786\"],[0.5555555555555556,\"#d8576b\"],[0.6666666666666666,\"#ed7953\"],[0.7777777777777778,\"#fb9f3a\"],[0.8888888888888888,\"#fdca26\"],[1.0,\"#f0f921\"]]}],\"surface\":[{\"type\":\"surface\",\"colorbar\":{\"outlinewidth\":0,\"ticks\":\"\"},\"colorscale\":[[0.0,\"#0d0887\"],[0.1111111111111111,\"#46039f\"],[0.2222222222222222,\"#7201a8\"],[0.3333333333333333,\"#9c179e\"],[0.4444444444444444,\"#bd3786\"],[0.5555555555555556,\"#d8576b\"],[0.6666666666666666,\"#ed7953\"],[0.7777777777777778,\"#fb9f3a\"],[0.8888888888888888,\"#fdca26\"],[1.0,\"#f0f921\"]]}],\"mesh3d\":[{\"type\":\"mesh3d\",\"colorbar\":{\"outlinewidth\":0,\"ticks\":\"\"}}],\"scatter\":[{\"fillpattern\":{\"fillmode\":\"overlay\",\"size\":10,\"solidity\":0.2},\"type\":\"scatter\"}],\"parcoords\":[{\"type\":\"parcoords\",\"line\":{\"colorbar\":{\"outlinewidth\":0,\"ticks\":\"\"}}}],\"scatterpolargl\":[{\"type\":\"scatterpolargl\",\"marker\":{\"colorbar\":{\"outlinewidth\":0,\"ticks\":\"\"}}}],\"bar\":[{\"error_x\":{\"color\":\"#2a3f5f\"},\"error_y\":{\"color\":\"#2a3f5f\"},\"marker\":{\"line\":{\"color\":\"white\",\"width\":0.5},\"pattern\":{\"fillmode\":\"overlay\",\"size\":10,\"solidity\":0.2}},\"type\":\"bar\"}],\"scattergeo\":[{\"type\":\"scattergeo\",\"marker\":{\"colorbar\":{\"outlinewidth\":0,\"ticks\":\"\"}}}],\"scatterpolar\":[{\"type\":\"scatterpolar\",\"marker\":{\"colorbar\":{\"outlinewidth\":0,\"ticks\":\"\"}}}],\"histogram\":[{\"marker\":{\"pattern\":{\"fillmode\":\"overlay\",\"size\":10,\"solidity\":0.2}},\"type\":\"histogram\"}],\"scattergl\":[{\"type\":\"scattergl\",\"marker\":{\"colorbar\":{\"outlinewidth\":0,\"ticks\":\"\"}}}],\"scatter3d\":[{\"type\":\"scatter3d\",\"line\":{\"colorbar\":{\"outlinewidth\":0,\"ticks\":\"\"}},\"marker\":{\"colorbar\":{\"outlinewidth\":0,\"ticks\":\"\"}}}],\"scattermapbox\":[{\"type\":\"scattermapbox\",\"marker\":{\"colorbar\":{\"outlinewidth\":0,\"ticks\":\"\"}}}],\"scatterternary\":[{\"type\":\"scatterternary\",\"marker\":{\"colorbar\":{\"outlinewidth\":0,\"ticks\":\"\"}}}],\"scattercarpet\":[{\"type\":\"scattercarpet\",\"marker\":{\"colorbar\":{\"outlinewidth\":0,\"ticks\":\"\"}}}],\"carpet\":[{\"aaxis\":{\"endlinecolor\":\"#2a3f5f\",\"gridcolor\":\"#C8D4E3\",\"linecolor\":\"#C8D4E3\",\"minorgridcolor\":\"#C8D4E3\",\"startlinecolor\":\"#2a3f5f\"},\"baxis\":{\"endlinecolor\":\"#2a3f5f\",\"gridcolor\":\"#C8D4E3\",\"linecolor\":\"#C8D4E3\",\"minorgridcolor\":\"#C8D4E3\",\"startlinecolor\":\"#2a3f5f\"},\"type\":\"carpet\"}],\"table\":[{\"cells\":{\"fill\":{\"color\":\"#EBF0F8\"},\"line\":{\"color\":\"white\"}},\"header\":{\"fill\":{\"color\":\"#C8D4E3\"},\"line\":{\"color\":\"white\"}},\"type\":\"table\"}],\"barpolar\":[{\"marker\":{\"line\":{\"color\":\"white\",\"width\":0.5},\"pattern\":{\"fillmode\":\"overlay\",\"size\":10,\"solidity\":0.2}},\"type\":\"barpolar\"}],\"pie\":[{\"automargin\":true,\"type\":\"pie\"}]},\"layout\":{\"autotypenumbers\":\"strict\",\"colorway\":[\"#636efa\",\"#EF553B\",\"#00cc96\",\"#ab63fa\",\"#FFA15A\",\"#19d3f3\",\"#FF6692\",\"#B6E880\",\"#FF97FF\",\"#FECB52\"],\"font\":{\"color\":\"#2a3f5f\"},\"hovermode\":\"closest\",\"hoverlabel\":{\"align\":\"left\"},\"paper_bgcolor\":\"white\",\"plot_bgcolor\":\"white\",\"polar\":{\"bgcolor\":\"white\",\"angularaxis\":{\"gridcolor\":\"#EBF0F8\",\"linecolor\":\"#EBF0F8\",\"ticks\":\"\"},\"radialaxis\":{\"gridcolor\":\"#EBF0F8\",\"linecolor\":\"#EBF0F8\",\"ticks\":\"\"}},\"ternary\":{\"bgcolor\":\"white\",\"aaxis\":{\"gridcolor\":\"#DFE8F3\",\"linecolor\":\"#A2B1C6\",\"ticks\":\"\"},\"baxis\":{\"gridcolor\":\"#DFE8F3\",\"linecolor\":\"#A2B1C6\",\"ticks\":\"\"},\"caxis\":{\"gridcolor\":\"#DFE8F3\",\"linecolor\":\"#A2B1C6\",\"ticks\":\"\"}},\"coloraxis\":{\"colorbar\":{\"outlinewidth\":0,\"ticks\":\"\"}},\"colorscale\":{\"sequential\":[[0.0,\"#0d0887\"],[0.1111111111111111,\"#46039f\"],[0.2222222222222222,\"#7201a8\"],[0.3333333333333333,\"#9c179e\"],[0.4444444444444444,\"#bd3786\"],[0.5555555555555556,\"#d8576b\"],[0.6666666666666666,\"#ed7953\"],[0.7777777777777778,\"#fb9f3a\"],[0.8888888888888888,\"#fdca26\"],[1.0,\"#f0f921\"]],\"sequentialminus\":[[0.0,\"#0d0887\"],[0.1111111111111111,\"#46039f\"],[0.2222222222222222,\"#7201a8\"],[0.3333333333333333,\"#9c179e\"],[0.4444444444444444,\"#bd3786\"],[0.5555555555555556,\"#d8576b\"],[0.6666666666666666,\"#ed7953\"],[0.7777777777777778,\"#fb9f3a\"],[0.8888888888888888,\"#fdca26\"],[1.0,\"#f0f921\"]],\"diverging\":[[0,\"#8e0152\"],[0.1,\"#c51b7d\"],[0.2,\"#de77ae\"],[0.3,\"#f1b6da\"],[0.4,\"#fde0ef\"],[0.5,\"#f7f7f7\"],[0.6,\"#e6f5d0\"],[0.7,\"#b8e186\"],[0.8,\"#7fbc41\"],[0.9,\"#4d9221\"],[1,\"#276419\"]]},\"xaxis\":{\"gridcolor\":\"#EBF0F8\",\"linecolor\":\"#EBF0F8\",\"ticks\":\"\",\"title\":{\"standoff\":15},\"zerolinecolor\":\"#EBF0F8\",\"automargin\":true,\"zerolinewidth\":2},\"yaxis\":{\"gridcolor\":\"#EBF0F8\",\"linecolor\":\"#EBF0F8\",\"ticks\":\"\",\"title\":{\"standoff\":15},\"zerolinecolor\":\"#EBF0F8\",\"automargin\":true,\"zerolinewidth\":2},\"scene\":{\"xaxis\":{\"backgroundcolor\":\"white\",\"gridcolor\":\"#DFE8F3\",\"linecolor\":\"#EBF0F8\",\"showbackground\":true,\"ticks\":\"\",\"zerolinecolor\":\"#EBF0F8\",\"gridwidth\":2},\"yaxis\":{\"backgroundcolor\":\"white\",\"gridcolor\":\"#DFE8F3\",\"linecolor\":\"#EBF0F8\",\"showbackground\":true,\"ticks\":\"\",\"zerolinecolor\":\"#EBF0F8\",\"gridwidth\":2},\"zaxis\":{\"backgroundcolor\":\"white\",\"gridcolor\":\"#DFE8F3\",\"linecolor\":\"#EBF0F8\",\"showbackground\":true,\"ticks\":\"\",\"zerolinecolor\":\"#EBF0F8\",\"gridwidth\":2}},\"shapedefaults\":{\"line\":{\"color\":\"#2a3f5f\"}},\"annotationdefaults\":{\"arrowcolor\":\"#2a3f5f\",\"arrowhead\":0,\"arrowwidth\":1},\"geo\":{\"bgcolor\":\"white\",\"landcolor\":\"white\",\"subunitcolor\":\"#C8D4E3\",\"showland\":true,\"showlakes\":true,\"lakecolor\":\"white\"},\"title\":{\"x\":0.05},\"mapbox\":{\"style\":\"light\"}}},\"xaxis\":{\"anchor\":\"y\",\"domain\":[0.0,1.0],\"title\":{\"text\":\"index\"}},\"yaxis\":{\"anchor\":\"x\",\"domain\":[0.0,1.0],\"title\":{\"text\":\"Impressions\"}},\"legend\":{\"tracegroupgap\":0},\"title\":{\"text\":\"Impressions Over Time\"}},                        {\"responsive\": true}                    ).then(function(){\n",
       "                            \n",
       "var gd = document.getElementById('1bea8cc5-3625-4a0a-b639-b797f747f949');\n",
       "var x = new MutationObserver(function (mutations, observer) {{\n",
       "        var display = window.getComputedStyle(gd).display;\n",
       "        if (!display || display === 'none') {{\n",
       "            console.log([gd, 'removed!']);\n",
       "            Plotly.purge(gd);\n",
       "            observer.disconnect();\n",
       "        }}\n",
       "}});\n",
       "\n",
       "// Listen for the removal of the full notebook cells\n",
       "var notebookContainer = gd.closest('#notebook-container');\n",
       "if (notebookContainer) {{\n",
       "    x.observe(notebookContainer, {childList: true});\n",
       "}}\n",
       "\n",
       "// Listen for the clearing of the current output cell\n",
       "var outputEl = gd.closest('.output');\n",
       "if (outputEl) {{\n",
       "    x.observe(outputEl, {childList: true});\n",
       "}}\n",
       "\n",
       "                        })                };                });            </script>        </div>"
      ]
     },
     "metadata": {},
     "output_type": "display_data"
    }
   ],
   "source": [
    "#check number of impressions on each post over time\n",
    "\n",
    "fig = px.line(data, x= data.index, \n",
    "              y='Impressions', \n",
    "              title='Impressions Over Time')\n",
    "fig.show()"
   ]
  },
  {
   "cell_type": "code",
   "execution_count": 9,
   "id": "2214894b",
   "metadata": {
    "execution": {
     "iopub.execute_input": "2023-07-18T16:39:30.397340Z",
     "iopub.status.busy": "2023-07-18T16:39:30.396563Z",
     "iopub.status.idle": "2023-07-18T16:39:30.416512Z",
     "shell.execute_reply": "2023-07-18T16:39:30.415357Z"
    },
    "papermill": {
     "duration": 0.03227,
     "end_time": "2023-07-18T16:39:30.419631",
     "exception": false,
     "start_time": "2023-07-18T16:39:30.387361",
     "status": "completed"
    },
    "tags": []
   },
   "outputs": [
    {
     "data": {
      "text/html": [
       "<div>                            <div id=\"8afc4e13-60bc-4241-bf31-885562958891\" class=\"plotly-graph-div\" style=\"height:525px; width:100%;\"></div>            <script type=\"text/javascript\">                require([\"plotly\"], function(Plotly) {                    window.PLOTLYENV=window.PLOTLYENV || {};                                    if (document.getElementById(\"8afc4e13-60bc-4241-bf31-885562958891\")) {                    Plotly.newPlot(                        \"8afc4e13-60bc-4241-bf31-885562958891\",                        [{\"name\":\"Likes\",\"x\":[0,1,2,3,4,5,6,7,8,9,10,11,12,13,14,15,16,17,18,19,20,21,22,23,24,25,26,27,28,29,30,31,32,33,34,35,36,37,38,39,40,41,42,43,44,45,46,47,48,49,50,51,52,53,54,55,56,57,58,59,60,61,62,63,64,65,66,67,68,69,70,71,72,73,74,75,76,77,78,79,80,81,82,83,84,85,86,87,88,89,90,91,92,93,94,95,96,97,98,99,100,101,102,103,104,105,106,107,108,109,110,111,112,113,114,115,116,117,118,119],\"y\":[162,224,131,213,123,144,76,124,159,191,81,151,162,142,294,159,205,121,151,72,76,91,195,129,160,175,147,114,151,92,214,150,122,152,196,86,85,156,72,82,416,180,150,127,167,225,137,114,263,328,126,236,99,212,297,142,186,112,149,132,115,248,178,107,269,96,134,301,187,94,114,96,138,122,257,95,244,190,118,178,170,250,159,205,121,151,72,137,114,263,328,126,129,160,175,147,114,151,92,275,192,203,145,168,194,250,171,416,249,308,163,86,210,172,373,148,92,549,443,500],\"type\":\"scatter\"},{\"name\":\"Saves\",\"x\":[0,1,2,3,4,5,6,7,8,9,10,11,12,13,14,15,16,17,18,19,20,21,22,23,24,25,26,27,28,29,30,31,32,33,34,35,36,37,38,39,40,41,42,43,44,45,46,47,48,49,50,51,52,53,54,55,56,57,58,59,60,61,62,63,64,65,66,67,68,69,70,71,72,73,74,75,76,77,78,79,80,81,82,83,84,85,86,87,88,89,90,91,92,93,94,95,96,97,98,99,100,101,102,103,104,105,106,107,108,109,110,111,112,113,114,115,116,117,118,119],\"y\":[98,194,41,172,96,74,22,135,155,122,28,122,119,121,100,101,111,106,82,40,49,72,167,63,144,135,61,40,139,52,84,81,79,105,90,34,45,98,35,49,252,167,111,90,144,263,137,67,288,668,42,342,48,250,219,118,143,99,89,148,42,171,109,38,421,38,116,225,144,51,104,33,174,46,179,34,99,174,70,149,207,318,101,111,106,82,40,137,67,288,668,42,63,144,135,61,40,139,52,393,152,83,74,94,188,214,73,285,469,504,149,55,273,182,573,135,36,1095,653,60],\"type\":\"scatter\"},{\"name\":\"Follows\",\"x\":[0,1,2,3,4,5,6,7,8,9,10,11,12,13,14,15,16,17,18,19,20,21,22,23,24,25,26,27,28,29,30,31,32,33,34,35,36,37,38,39,40,41,42,43,44,45,46,47,48,49,50,51,52,53,54,55,56,57,58,59,60,61,62,63,64,65,66,67,68,69,70,71,72,73,74,75,76,77,78,79,80,81,82,83,84,85,86,87,88,89,90,91,92,93,94,95,96,97,98,99,100,101,102,103,104,105,106,107,108,109,110,111,112,113,114,115,116,117,118,119],\"y\":[2,10,12,8,0,2,0,6,4,6,4,0,2,4,42,6,2,2,30,0,0,24,100,2,4,6,6,6,2,2,20,2,4,8,26,2,2,4,0,2,94,8,18,10,4,4,4,4,18,38,10,12,4,4,74,0,6,6,0,6,12,10,8,8,46,12,10,94,6,10,6,4,12,16,12,8,32,8,16,6,10,10,6,2,2,30,0,4,4,18,38,10,2,4,6,6,6,2,2,14,8,14,28,18,12,34,26,260,16,96,20,30,58,100,80,18,10,214,228,207],\"type\":\"scatter\"}],                        {\"template\":{\"data\":{\"histogram2dcontour\":[{\"type\":\"histogram2dcontour\",\"colorbar\":{\"outlinewidth\":0,\"ticks\":\"\"},\"colorscale\":[[0.0,\"#0d0887\"],[0.1111111111111111,\"#46039f\"],[0.2222222222222222,\"#7201a8\"],[0.3333333333333333,\"#9c179e\"],[0.4444444444444444,\"#bd3786\"],[0.5555555555555556,\"#d8576b\"],[0.6666666666666666,\"#ed7953\"],[0.7777777777777778,\"#fb9f3a\"],[0.8888888888888888,\"#fdca26\"],[1.0,\"#f0f921\"]]}],\"choropleth\":[{\"type\":\"choropleth\",\"colorbar\":{\"outlinewidth\":0,\"ticks\":\"\"}}],\"histogram2d\":[{\"type\":\"histogram2d\",\"colorbar\":{\"outlinewidth\":0,\"ticks\":\"\"},\"colorscale\":[[0.0,\"#0d0887\"],[0.1111111111111111,\"#46039f\"],[0.2222222222222222,\"#7201a8\"],[0.3333333333333333,\"#9c179e\"],[0.4444444444444444,\"#bd3786\"],[0.5555555555555556,\"#d8576b\"],[0.6666666666666666,\"#ed7953\"],[0.7777777777777778,\"#fb9f3a\"],[0.8888888888888888,\"#fdca26\"],[1.0,\"#f0f921\"]]}],\"heatmap\":[{\"type\":\"heatmap\",\"colorbar\":{\"outlinewidth\":0,\"ticks\":\"\"},\"colorscale\":[[0.0,\"#0d0887\"],[0.1111111111111111,\"#46039f\"],[0.2222222222222222,\"#7201a8\"],[0.3333333333333333,\"#9c179e\"],[0.4444444444444444,\"#bd3786\"],[0.5555555555555556,\"#d8576b\"],[0.6666666666666666,\"#ed7953\"],[0.7777777777777778,\"#fb9f3a\"],[0.8888888888888888,\"#fdca26\"],[1.0,\"#f0f921\"]]}],\"heatmapgl\":[{\"type\":\"heatmapgl\",\"colorbar\":{\"outlinewidth\":0,\"ticks\":\"\"},\"colorscale\":[[0.0,\"#0d0887\"],[0.1111111111111111,\"#46039f\"],[0.2222222222222222,\"#7201a8\"],[0.3333333333333333,\"#9c179e\"],[0.4444444444444444,\"#bd3786\"],[0.5555555555555556,\"#d8576b\"],[0.6666666666666666,\"#ed7953\"],[0.7777777777777778,\"#fb9f3a\"],[0.8888888888888888,\"#fdca26\"],[1.0,\"#f0f921\"]]}],\"contourcarpet\":[{\"type\":\"contourcarpet\",\"colorbar\":{\"outlinewidth\":0,\"ticks\":\"\"}}],\"contour\":[{\"type\":\"contour\",\"colorbar\":{\"outlinewidth\":0,\"ticks\":\"\"},\"colorscale\":[[0.0,\"#0d0887\"],[0.1111111111111111,\"#46039f\"],[0.2222222222222222,\"#7201a8\"],[0.3333333333333333,\"#9c179e\"],[0.4444444444444444,\"#bd3786\"],[0.5555555555555556,\"#d8576b\"],[0.6666666666666666,\"#ed7953\"],[0.7777777777777778,\"#fb9f3a\"],[0.8888888888888888,\"#fdca26\"],[1.0,\"#f0f921\"]]}],\"surface\":[{\"type\":\"surface\",\"colorbar\":{\"outlinewidth\":0,\"ticks\":\"\"},\"colorscale\":[[0.0,\"#0d0887\"],[0.1111111111111111,\"#46039f\"],[0.2222222222222222,\"#7201a8\"],[0.3333333333333333,\"#9c179e\"],[0.4444444444444444,\"#bd3786\"],[0.5555555555555556,\"#d8576b\"],[0.6666666666666666,\"#ed7953\"],[0.7777777777777778,\"#fb9f3a\"],[0.8888888888888888,\"#fdca26\"],[1.0,\"#f0f921\"]]}],\"mesh3d\":[{\"type\":\"mesh3d\",\"colorbar\":{\"outlinewidth\":0,\"ticks\":\"\"}}],\"scatter\":[{\"fillpattern\":{\"fillmode\":\"overlay\",\"size\":10,\"solidity\":0.2},\"type\":\"scatter\"}],\"parcoords\":[{\"type\":\"parcoords\",\"line\":{\"colorbar\":{\"outlinewidth\":0,\"ticks\":\"\"}}}],\"scatterpolargl\":[{\"type\":\"scatterpolargl\",\"marker\":{\"colorbar\":{\"outlinewidth\":0,\"ticks\":\"\"}}}],\"bar\":[{\"error_x\":{\"color\":\"#2a3f5f\"},\"error_y\":{\"color\":\"#2a3f5f\"},\"marker\":{\"line\":{\"color\":\"white\",\"width\":0.5},\"pattern\":{\"fillmode\":\"overlay\",\"size\":10,\"solidity\":0.2}},\"type\":\"bar\"}],\"scattergeo\":[{\"type\":\"scattergeo\",\"marker\":{\"colorbar\":{\"outlinewidth\":0,\"ticks\":\"\"}}}],\"scatterpolar\":[{\"type\":\"scatterpolar\",\"marker\":{\"colorbar\":{\"outlinewidth\":0,\"ticks\":\"\"}}}],\"histogram\":[{\"marker\":{\"pattern\":{\"fillmode\":\"overlay\",\"size\":10,\"solidity\":0.2}},\"type\":\"histogram\"}],\"scattergl\":[{\"type\":\"scattergl\",\"marker\":{\"colorbar\":{\"outlinewidth\":0,\"ticks\":\"\"}}}],\"scatter3d\":[{\"type\":\"scatter3d\",\"line\":{\"colorbar\":{\"outlinewidth\":0,\"ticks\":\"\"}},\"marker\":{\"colorbar\":{\"outlinewidth\":0,\"ticks\":\"\"}}}],\"scattermapbox\":[{\"type\":\"scattermapbox\",\"marker\":{\"colorbar\":{\"outlinewidth\":0,\"ticks\":\"\"}}}],\"scatterternary\":[{\"type\":\"scatterternary\",\"marker\":{\"colorbar\":{\"outlinewidth\":0,\"ticks\":\"\"}}}],\"scattercarpet\":[{\"type\":\"scattercarpet\",\"marker\":{\"colorbar\":{\"outlinewidth\":0,\"ticks\":\"\"}}}],\"carpet\":[{\"aaxis\":{\"endlinecolor\":\"#2a3f5f\",\"gridcolor\":\"#C8D4E3\",\"linecolor\":\"#C8D4E3\",\"minorgridcolor\":\"#C8D4E3\",\"startlinecolor\":\"#2a3f5f\"},\"baxis\":{\"endlinecolor\":\"#2a3f5f\",\"gridcolor\":\"#C8D4E3\",\"linecolor\":\"#C8D4E3\",\"minorgridcolor\":\"#C8D4E3\",\"startlinecolor\":\"#2a3f5f\"},\"type\":\"carpet\"}],\"table\":[{\"cells\":{\"fill\":{\"color\":\"#EBF0F8\"},\"line\":{\"color\":\"white\"}},\"header\":{\"fill\":{\"color\":\"#C8D4E3\"},\"line\":{\"color\":\"white\"}},\"type\":\"table\"}],\"barpolar\":[{\"marker\":{\"line\":{\"color\":\"white\",\"width\":0.5},\"pattern\":{\"fillmode\":\"overlay\",\"size\":10,\"solidity\":0.2}},\"type\":\"barpolar\"}],\"pie\":[{\"automargin\":true,\"type\":\"pie\"}]},\"layout\":{\"autotypenumbers\":\"strict\",\"colorway\":[\"#636efa\",\"#EF553B\",\"#00cc96\",\"#ab63fa\",\"#FFA15A\",\"#19d3f3\",\"#FF6692\",\"#B6E880\",\"#FF97FF\",\"#FECB52\"],\"font\":{\"color\":\"#2a3f5f\"},\"hovermode\":\"closest\",\"hoverlabel\":{\"align\":\"left\"},\"paper_bgcolor\":\"white\",\"plot_bgcolor\":\"white\",\"polar\":{\"bgcolor\":\"white\",\"angularaxis\":{\"gridcolor\":\"#EBF0F8\",\"linecolor\":\"#EBF0F8\",\"ticks\":\"\"},\"radialaxis\":{\"gridcolor\":\"#EBF0F8\",\"linecolor\":\"#EBF0F8\",\"ticks\":\"\"}},\"ternary\":{\"bgcolor\":\"white\",\"aaxis\":{\"gridcolor\":\"#DFE8F3\",\"linecolor\":\"#A2B1C6\",\"ticks\":\"\"},\"baxis\":{\"gridcolor\":\"#DFE8F3\",\"linecolor\":\"#A2B1C6\",\"ticks\":\"\"},\"caxis\":{\"gridcolor\":\"#DFE8F3\",\"linecolor\":\"#A2B1C6\",\"ticks\":\"\"}},\"coloraxis\":{\"colorbar\":{\"outlinewidth\":0,\"ticks\":\"\"}},\"colorscale\":{\"sequential\":[[0.0,\"#0d0887\"],[0.1111111111111111,\"#46039f\"],[0.2222222222222222,\"#7201a8\"],[0.3333333333333333,\"#9c179e\"],[0.4444444444444444,\"#bd3786\"],[0.5555555555555556,\"#d8576b\"],[0.6666666666666666,\"#ed7953\"],[0.7777777777777778,\"#fb9f3a\"],[0.8888888888888888,\"#fdca26\"],[1.0,\"#f0f921\"]],\"sequentialminus\":[[0.0,\"#0d0887\"],[0.1111111111111111,\"#46039f\"],[0.2222222222222222,\"#7201a8\"],[0.3333333333333333,\"#9c179e\"],[0.4444444444444444,\"#bd3786\"],[0.5555555555555556,\"#d8576b\"],[0.6666666666666666,\"#ed7953\"],[0.7777777777777778,\"#fb9f3a\"],[0.8888888888888888,\"#fdca26\"],[1.0,\"#f0f921\"]],\"diverging\":[[0,\"#8e0152\"],[0.1,\"#c51b7d\"],[0.2,\"#de77ae\"],[0.3,\"#f1b6da\"],[0.4,\"#fde0ef\"],[0.5,\"#f7f7f7\"],[0.6,\"#e6f5d0\"],[0.7,\"#b8e186\"],[0.8,\"#7fbc41\"],[0.9,\"#4d9221\"],[1,\"#276419\"]]},\"xaxis\":{\"gridcolor\":\"#EBF0F8\",\"linecolor\":\"#EBF0F8\",\"ticks\":\"\",\"title\":{\"standoff\":15},\"zerolinecolor\":\"#EBF0F8\",\"automargin\":true,\"zerolinewidth\":2},\"yaxis\":{\"gridcolor\":\"#EBF0F8\",\"linecolor\":\"#EBF0F8\",\"ticks\":\"\",\"title\":{\"standoff\":15},\"zerolinecolor\":\"#EBF0F8\",\"automargin\":true,\"zerolinewidth\":2},\"scene\":{\"xaxis\":{\"backgroundcolor\":\"white\",\"gridcolor\":\"#DFE8F3\",\"linecolor\":\"#EBF0F8\",\"showbackground\":true,\"ticks\":\"\",\"zerolinecolor\":\"#EBF0F8\",\"gridwidth\":2},\"yaxis\":{\"backgroundcolor\":\"white\",\"gridcolor\":\"#DFE8F3\",\"linecolor\":\"#EBF0F8\",\"showbackground\":true,\"ticks\":\"\",\"zerolinecolor\":\"#EBF0F8\",\"gridwidth\":2},\"zaxis\":{\"backgroundcolor\":\"white\",\"gridcolor\":\"#DFE8F3\",\"linecolor\":\"#EBF0F8\",\"showbackground\":true,\"ticks\":\"\",\"zerolinecolor\":\"#EBF0F8\",\"gridwidth\":2}},\"shapedefaults\":{\"line\":{\"color\":\"#2a3f5f\"}},\"annotationdefaults\":{\"arrowcolor\":\"#2a3f5f\",\"arrowhead\":0,\"arrowwidth\":1},\"geo\":{\"bgcolor\":\"white\",\"landcolor\":\"white\",\"subunitcolor\":\"#C8D4E3\",\"showland\":true,\"showlakes\":true,\"lakecolor\":\"white\"},\"title\":{\"x\":0.05},\"mapbox\":{\"style\":\"light\"}}},\"title\":{\"text\":\"Metrics Over Time\"},\"xaxis\":{\"title\":{\"text\":\"Date\"}},\"yaxis\":{\"title\":{\"text\":\"Count\"}}},                        {\"responsive\": true}                    ).then(function(){\n",
       "                            \n",
       "var gd = document.getElementById('8afc4e13-60bc-4241-bf31-885562958891');\n",
       "var x = new MutationObserver(function (mutations, observer) {{\n",
       "        var display = window.getComputedStyle(gd).display;\n",
       "        if (!display || display === 'none') {{\n",
       "            console.log([gd, 'removed!']);\n",
       "            Plotly.purge(gd);\n",
       "            observer.disconnect();\n",
       "        }}\n",
       "}});\n",
       "\n",
       "// Listen for the removal of the full notebook cells\n",
       "var notebookContainer = gd.closest('#notebook-container');\n",
       "if (notebookContainer) {{\n",
       "    x.observe(notebookContainer, {childList: true});\n",
       "}}\n",
       "\n",
       "// Listen for the clearing of the current output cell\n",
       "var outputEl = gd.closest('.output');\n",
       "if (outputEl) {{\n",
       "    x.observe(outputEl, {childList: true});\n",
       "}}\n",
       "\n",
       "                        })                };                });            </script>        </div>"
      ]
     },
     "metadata": {},
     "output_type": "display_data"
    }
   ],
   "source": [
    "#check the metrics considering likes,saves and follows \n",
    "\n",
    "fig = go.Figure()\n",
    "\n",
    "fig.add_trace(go.Scatter(x=data.index, y=data['Likes'], name='Likes'))\n",
    "fig.add_trace(go.Scatter(x=data.index, y=data['Saves'], name='Saves'))\n",
    "fig.add_trace(go.Scatter(x=data.index, y=data['Follows'], name='Follows'))\n",
    "\n",
    "fig.update_layout(title='Metrics Over Time',\n",
    "                  xaxis_title='Date',\n",
    "                  yaxis_title='Count')\n",
    "\n",
    "fig.show()"
   ]
  },
  {
   "cell_type": "code",
   "execution_count": 10,
   "id": "85326516",
   "metadata": {
    "execution": {
     "iopub.execute_input": "2023-07-18T16:39:30.438488Z",
     "iopub.status.busy": "2023-07-18T16:39:30.438042Z",
     "iopub.status.idle": "2023-07-18T16:39:30.523128Z",
     "shell.execute_reply": "2023-07-18T16:39:30.521766Z"
    },
    "papermill": {
     "duration": 0.097648,
     "end_time": "2023-07-18T16:39:30.525614",
     "exception": false,
     "start_time": "2023-07-18T16:39:30.427966",
     "status": "completed"
    },
    "tags": []
   },
   "outputs": [
    {
     "data": {
      "text/html": [
       "<div>                            <div id=\"41bec905-72ca-470f-8e2c-1df75b60ccd5\" class=\"plotly-graph-div\" style=\"height:525px; width:100%;\"></div>            <script type=\"text/javascript\">                require([\"plotly\"], function(Plotly) {                    window.PLOTLYENV=window.PLOTLYENV || {};                                    if (document.getElementById(\"41bec905-72ca-470f-8e2c-1df75b60ccd5\")) {                    Plotly.newPlot(                        \"41bec905-72ca-470f-8e2c-1df75b60ccd5\",                        [{\"domain\":{\"x\":[0.0,1.0],\"y\":[0.0,1.0]},\"hovertemplate\":\"label=%{label}\\u003cbr\\u003evalue=%{value}\\u003cextra\\u003e\\u003c\\u002fextra\\u003e\",\"labels\":[\"From Home\",\"From Hashtags\",\"From Explore\",\"From Other\"],\"legendgroup\":\"\",\"name\":\"\",\"showlegend\":true,\"values\":[296724,227616,140059,21958],\"type\":\"pie\"}],                        {\"template\":{\"data\":{\"histogram2dcontour\":[{\"type\":\"histogram2dcontour\",\"colorbar\":{\"outlinewidth\":0,\"ticks\":\"\"},\"colorscale\":[[0.0,\"#0d0887\"],[0.1111111111111111,\"#46039f\"],[0.2222222222222222,\"#7201a8\"],[0.3333333333333333,\"#9c179e\"],[0.4444444444444444,\"#bd3786\"],[0.5555555555555556,\"#d8576b\"],[0.6666666666666666,\"#ed7953\"],[0.7777777777777778,\"#fb9f3a\"],[0.8888888888888888,\"#fdca26\"],[1.0,\"#f0f921\"]]}],\"choropleth\":[{\"type\":\"choropleth\",\"colorbar\":{\"outlinewidth\":0,\"ticks\":\"\"}}],\"histogram2d\":[{\"type\":\"histogram2d\",\"colorbar\":{\"outlinewidth\":0,\"ticks\":\"\"},\"colorscale\":[[0.0,\"#0d0887\"],[0.1111111111111111,\"#46039f\"],[0.2222222222222222,\"#7201a8\"],[0.3333333333333333,\"#9c179e\"],[0.4444444444444444,\"#bd3786\"],[0.5555555555555556,\"#d8576b\"],[0.6666666666666666,\"#ed7953\"],[0.7777777777777778,\"#fb9f3a\"],[0.8888888888888888,\"#fdca26\"],[1.0,\"#f0f921\"]]}],\"heatmap\":[{\"type\":\"heatmap\",\"colorbar\":{\"outlinewidth\":0,\"ticks\":\"\"},\"colorscale\":[[0.0,\"#0d0887\"],[0.1111111111111111,\"#46039f\"],[0.2222222222222222,\"#7201a8\"],[0.3333333333333333,\"#9c179e\"],[0.4444444444444444,\"#bd3786\"],[0.5555555555555556,\"#d8576b\"],[0.6666666666666666,\"#ed7953\"],[0.7777777777777778,\"#fb9f3a\"],[0.8888888888888888,\"#fdca26\"],[1.0,\"#f0f921\"]]}],\"heatmapgl\":[{\"type\":\"heatmapgl\",\"colorbar\":{\"outlinewidth\":0,\"ticks\":\"\"},\"colorscale\":[[0.0,\"#0d0887\"],[0.1111111111111111,\"#46039f\"],[0.2222222222222222,\"#7201a8\"],[0.3333333333333333,\"#9c179e\"],[0.4444444444444444,\"#bd3786\"],[0.5555555555555556,\"#d8576b\"],[0.6666666666666666,\"#ed7953\"],[0.7777777777777778,\"#fb9f3a\"],[0.8888888888888888,\"#fdca26\"],[1.0,\"#f0f921\"]]}],\"contourcarpet\":[{\"type\":\"contourcarpet\",\"colorbar\":{\"outlinewidth\":0,\"ticks\":\"\"}}],\"contour\":[{\"type\":\"contour\",\"colorbar\":{\"outlinewidth\":0,\"ticks\":\"\"},\"colorscale\":[[0.0,\"#0d0887\"],[0.1111111111111111,\"#46039f\"],[0.2222222222222222,\"#7201a8\"],[0.3333333333333333,\"#9c179e\"],[0.4444444444444444,\"#bd3786\"],[0.5555555555555556,\"#d8576b\"],[0.6666666666666666,\"#ed7953\"],[0.7777777777777778,\"#fb9f3a\"],[0.8888888888888888,\"#fdca26\"],[1.0,\"#f0f921\"]]}],\"surface\":[{\"type\":\"surface\",\"colorbar\":{\"outlinewidth\":0,\"ticks\":\"\"},\"colorscale\":[[0.0,\"#0d0887\"],[0.1111111111111111,\"#46039f\"],[0.2222222222222222,\"#7201a8\"],[0.3333333333333333,\"#9c179e\"],[0.4444444444444444,\"#bd3786\"],[0.5555555555555556,\"#d8576b\"],[0.6666666666666666,\"#ed7953\"],[0.7777777777777778,\"#fb9f3a\"],[0.8888888888888888,\"#fdca26\"],[1.0,\"#f0f921\"]]}],\"mesh3d\":[{\"type\":\"mesh3d\",\"colorbar\":{\"outlinewidth\":0,\"ticks\":\"\"}}],\"scatter\":[{\"fillpattern\":{\"fillmode\":\"overlay\",\"size\":10,\"solidity\":0.2},\"type\":\"scatter\"}],\"parcoords\":[{\"type\":\"parcoords\",\"line\":{\"colorbar\":{\"outlinewidth\":0,\"ticks\":\"\"}}}],\"scatterpolargl\":[{\"type\":\"scatterpolargl\",\"marker\":{\"colorbar\":{\"outlinewidth\":0,\"ticks\":\"\"}}}],\"bar\":[{\"error_x\":{\"color\":\"#2a3f5f\"},\"error_y\":{\"color\":\"#2a3f5f\"},\"marker\":{\"line\":{\"color\":\"white\",\"width\":0.5},\"pattern\":{\"fillmode\":\"overlay\",\"size\":10,\"solidity\":0.2}},\"type\":\"bar\"}],\"scattergeo\":[{\"type\":\"scattergeo\",\"marker\":{\"colorbar\":{\"outlinewidth\":0,\"ticks\":\"\"}}}],\"scatterpolar\":[{\"type\":\"scatterpolar\",\"marker\":{\"colorbar\":{\"outlinewidth\":0,\"ticks\":\"\"}}}],\"histogram\":[{\"marker\":{\"pattern\":{\"fillmode\":\"overlay\",\"size\":10,\"solidity\":0.2}},\"type\":\"histogram\"}],\"scattergl\":[{\"type\":\"scattergl\",\"marker\":{\"colorbar\":{\"outlinewidth\":0,\"ticks\":\"\"}}}],\"scatter3d\":[{\"type\":\"scatter3d\",\"line\":{\"colorbar\":{\"outlinewidth\":0,\"ticks\":\"\"}},\"marker\":{\"colorbar\":{\"outlinewidth\":0,\"ticks\":\"\"}}}],\"scattermapbox\":[{\"type\":\"scattermapbox\",\"marker\":{\"colorbar\":{\"outlinewidth\":0,\"ticks\":\"\"}}}],\"scatterternary\":[{\"type\":\"scatterternary\",\"marker\":{\"colorbar\":{\"outlinewidth\":0,\"ticks\":\"\"}}}],\"scattercarpet\":[{\"type\":\"scattercarpet\",\"marker\":{\"colorbar\":{\"outlinewidth\":0,\"ticks\":\"\"}}}],\"carpet\":[{\"aaxis\":{\"endlinecolor\":\"#2a3f5f\",\"gridcolor\":\"#C8D4E3\",\"linecolor\":\"#C8D4E3\",\"minorgridcolor\":\"#C8D4E3\",\"startlinecolor\":\"#2a3f5f\"},\"baxis\":{\"endlinecolor\":\"#2a3f5f\",\"gridcolor\":\"#C8D4E3\",\"linecolor\":\"#C8D4E3\",\"minorgridcolor\":\"#C8D4E3\",\"startlinecolor\":\"#2a3f5f\"},\"type\":\"carpet\"}],\"table\":[{\"cells\":{\"fill\":{\"color\":\"#EBF0F8\"},\"line\":{\"color\":\"white\"}},\"header\":{\"fill\":{\"color\":\"#C8D4E3\"},\"line\":{\"color\":\"white\"}},\"type\":\"table\"}],\"barpolar\":[{\"marker\":{\"line\":{\"color\":\"white\",\"width\":0.5},\"pattern\":{\"fillmode\":\"overlay\",\"size\":10,\"solidity\":0.2}},\"type\":\"barpolar\"}],\"pie\":[{\"automargin\":true,\"type\":\"pie\"}]},\"layout\":{\"autotypenumbers\":\"strict\",\"colorway\":[\"#636efa\",\"#EF553B\",\"#00cc96\",\"#ab63fa\",\"#FFA15A\",\"#19d3f3\",\"#FF6692\",\"#B6E880\",\"#FF97FF\",\"#FECB52\"],\"font\":{\"color\":\"#2a3f5f\"},\"hovermode\":\"closest\",\"hoverlabel\":{\"align\":\"left\"},\"paper_bgcolor\":\"white\",\"plot_bgcolor\":\"white\",\"polar\":{\"bgcolor\":\"white\",\"angularaxis\":{\"gridcolor\":\"#EBF0F8\",\"linecolor\":\"#EBF0F8\",\"ticks\":\"\"},\"radialaxis\":{\"gridcolor\":\"#EBF0F8\",\"linecolor\":\"#EBF0F8\",\"ticks\":\"\"}},\"ternary\":{\"bgcolor\":\"white\",\"aaxis\":{\"gridcolor\":\"#DFE8F3\",\"linecolor\":\"#A2B1C6\",\"ticks\":\"\"},\"baxis\":{\"gridcolor\":\"#DFE8F3\",\"linecolor\":\"#A2B1C6\",\"ticks\":\"\"},\"caxis\":{\"gridcolor\":\"#DFE8F3\",\"linecolor\":\"#A2B1C6\",\"ticks\":\"\"}},\"coloraxis\":{\"colorbar\":{\"outlinewidth\":0,\"ticks\":\"\"}},\"colorscale\":{\"sequential\":[[0.0,\"#0d0887\"],[0.1111111111111111,\"#46039f\"],[0.2222222222222222,\"#7201a8\"],[0.3333333333333333,\"#9c179e\"],[0.4444444444444444,\"#bd3786\"],[0.5555555555555556,\"#d8576b\"],[0.6666666666666666,\"#ed7953\"],[0.7777777777777778,\"#fb9f3a\"],[0.8888888888888888,\"#fdca26\"],[1.0,\"#f0f921\"]],\"sequentialminus\":[[0.0,\"#0d0887\"],[0.1111111111111111,\"#46039f\"],[0.2222222222222222,\"#7201a8\"],[0.3333333333333333,\"#9c179e\"],[0.4444444444444444,\"#bd3786\"],[0.5555555555555556,\"#d8576b\"],[0.6666666666666666,\"#ed7953\"],[0.7777777777777778,\"#fb9f3a\"],[0.8888888888888888,\"#fdca26\"],[1.0,\"#f0f921\"]],\"diverging\":[[0,\"#8e0152\"],[0.1,\"#c51b7d\"],[0.2,\"#de77ae\"],[0.3,\"#f1b6da\"],[0.4,\"#fde0ef\"],[0.5,\"#f7f7f7\"],[0.6,\"#e6f5d0\"],[0.7,\"#b8e186\"],[0.8,\"#7fbc41\"],[0.9,\"#4d9221\"],[1,\"#276419\"]]},\"xaxis\":{\"gridcolor\":\"#EBF0F8\",\"linecolor\":\"#EBF0F8\",\"ticks\":\"\",\"title\":{\"standoff\":15},\"zerolinecolor\":\"#EBF0F8\",\"automargin\":true,\"zerolinewidth\":2},\"yaxis\":{\"gridcolor\":\"#EBF0F8\",\"linecolor\":\"#EBF0F8\",\"ticks\":\"\",\"title\":{\"standoff\":15},\"zerolinecolor\":\"#EBF0F8\",\"automargin\":true,\"zerolinewidth\":2},\"scene\":{\"xaxis\":{\"backgroundcolor\":\"white\",\"gridcolor\":\"#DFE8F3\",\"linecolor\":\"#EBF0F8\",\"showbackground\":true,\"ticks\":\"\",\"zerolinecolor\":\"#EBF0F8\",\"gridwidth\":2},\"yaxis\":{\"backgroundcolor\":\"white\",\"gridcolor\":\"#DFE8F3\",\"linecolor\":\"#EBF0F8\",\"showbackground\":true,\"ticks\":\"\",\"zerolinecolor\":\"#EBF0F8\",\"gridwidth\":2},\"zaxis\":{\"backgroundcolor\":\"white\",\"gridcolor\":\"#DFE8F3\",\"linecolor\":\"#EBF0F8\",\"showbackground\":true,\"ticks\":\"\",\"zerolinecolor\":\"#EBF0F8\",\"gridwidth\":2}},\"shapedefaults\":{\"line\":{\"color\":\"#2a3f5f\"}},\"annotationdefaults\":{\"arrowcolor\":\"#2a3f5f\",\"arrowhead\":0,\"arrowwidth\":1},\"geo\":{\"bgcolor\":\"white\",\"landcolor\":\"white\",\"subunitcolor\":\"#C8D4E3\",\"showland\":true,\"showlakes\":true,\"lakecolor\":\"white\"},\"title\":{\"x\":0.05},\"mapbox\":{\"style\":\"light\"}}},\"legend\":{\"tracegroupgap\":0},\"title\":{\"text\":\"Reach from Multiple Sources\"},\"piecolorway\":[\"#FDFFB6\",\"#FAD1FA\",\"#D9EDF8\",\"#DEDAF4\"]},                        {\"responsive\": true}                    ).then(function(){\n",
       "                            \n",
       "var gd = document.getElementById('41bec905-72ca-470f-8e2c-1df75b60ccd5');\n",
       "var x = new MutationObserver(function (mutations, observer) {{\n",
       "        var display = window.getComputedStyle(gd).display;\n",
       "        if (!display || display === 'none') {{\n",
       "            console.log([gd, 'removed!']);\n",
       "            Plotly.purge(gd);\n",
       "            observer.disconnect();\n",
       "        }}\n",
       "}});\n",
       "\n",
       "// Listen for the removal of the full notebook cells\n",
       "var notebookContainer = gd.closest('#notebook-container');\n",
       "if (notebookContainer) {{\n",
       "    x.observe(notebookContainer, {childList: true});\n",
       "}}\n",
       "\n",
       "// Listen for the clearing of the current output cell\n",
       "var outputEl = gd.closest('.output');\n",
       "if (outputEl) {{\n",
       "    x.observe(outputEl, {childList: true});\n",
       "}}\n",
       "\n",
       "                        })                };                });            </script>        </div>"
      ]
     },
     "metadata": {},
     "output_type": "display_data"
    }
   ],
   "source": [
    "#distribution of reach from multiple sources\n",
    "\n",
    "reach_sources = ['From Home', 'From Hashtags', 'From Explore', 'From Other']\n",
    "reach_counts = [data[source].sum() for source in reach_sources]\n",
    "\n",
    "colors = ['#FDFFB6', '#FAD1FA', '#D9EDF8', '#DEDAF4']\n",
    "\n",
    "fig = px.pie(data_frame=data, names=reach_sources, \n",
    "             values=reach_counts, \n",
    "             title='Reach from Multiple Sources',\n",
    "             color_discrete_sequence=colors)\n",
    "fig.show()"
   ]
  },
  {
   "cell_type": "code",
   "execution_count": 11,
   "id": "cd2543f6",
   "metadata": {
    "execution": {
     "iopub.execute_input": "2023-07-18T16:39:30.546164Z",
     "iopub.status.busy": "2023-07-18T16:39:30.545785Z",
     "iopub.status.idle": "2023-07-18T16:39:30.606004Z",
     "shell.execute_reply": "2023-07-18T16:39:30.604994Z"
    },
    "papermill": {
     "duration": 0.0732,
     "end_time": "2023-07-18T16:39:30.608476",
     "exception": false,
     "start_time": "2023-07-18T16:39:30.535276",
     "status": "completed"
    },
    "tags": []
   },
   "outputs": [
    {
     "data": {
      "text/html": [
       "<div>                            <div id=\"9286ac7c-347a-4669-b5b4-4afc212f28d6\" class=\"plotly-graph-div\" style=\"height:525px; width:100%;\"></div>            <script type=\"text/javascript\">                require([\"plotly\"], function(Plotly) {                    window.PLOTLYENV=window.PLOTLYENV || {};                                    if (document.getElementById(\"9286ac7c-347a-4669-b5b4-4afc212f28d6\")) {                    Plotly.newPlot(                        \"9286ac7c-347a-4669-b5b4-4afc212f28d6\",                        [{\"domain\":{\"x\":[0.0,1.0],\"y\":[0.0,1.0]},\"hovertemplate\":\"label=%{label}\\u003cbr\\u003evalue=%{value}\\u003cextra\\u003e\\u003c\\u002fextra\\u003e\",\"labels\":[\"Saves\",\"Comments\",\"Shares\",\"Likes\"],\"legendgroup\":\"\",\"name\":\"\",\"showlegend\":true,\"values\":[18304,798,1135,21180],\"type\":\"pie\"}],                        {\"template\":{\"data\":{\"histogram2dcontour\":[{\"type\":\"histogram2dcontour\",\"colorbar\":{\"outlinewidth\":0,\"ticks\":\"\"},\"colorscale\":[[0.0,\"#0d0887\"],[0.1111111111111111,\"#46039f\"],[0.2222222222222222,\"#7201a8\"],[0.3333333333333333,\"#9c179e\"],[0.4444444444444444,\"#bd3786\"],[0.5555555555555556,\"#d8576b\"],[0.6666666666666666,\"#ed7953\"],[0.7777777777777778,\"#fb9f3a\"],[0.8888888888888888,\"#fdca26\"],[1.0,\"#f0f921\"]]}],\"choropleth\":[{\"type\":\"choropleth\",\"colorbar\":{\"outlinewidth\":0,\"ticks\":\"\"}}],\"histogram2d\":[{\"type\":\"histogram2d\",\"colorbar\":{\"outlinewidth\":0,\"ticks\":\"\"},\"colorscale\":[[0.0,\"#0d0887\"],[0.1111111111111111,\"#46039f\"],[0.2222222222222222,\"#7201a8\"],[0.3333333333333333,\"#9c179e\"],[0.4444444444444444,\"#bd3786\"],[0.5555555555555556,\"#d8576b\"],[0.6666666666666666,\"#ed7953\"],[0.7777777777777778,\"#fb9f3a\"],[0.8888888888888888,\"#fdca26\"],[1.0,\"#f0f921\"]]}],\"heatmap\":[{\"type\":\"heatmap\",\"colorbar\":{\"outlinewidth\":0,\"ticks\":\"\"},\"colorscale\":[[0.0,\"#0d0887\"],[0.1111111111111111,\"#46039f\"],[0.2222222222222222,\"#7201a8\"],[0.3333333333333333,\"#9c179e\"],[0.4444444444444444,\"#bd3786\"],[0.5555555555555556,\"#d8576b\"],[0.6666666666666666,\"#ed7953\"],[0.7777777777777778,\"#fb9f3a\"],[0.8888888888888888,\"#fdca26\"],[1.0,\"#f0f921\"]]}],\"heatmapgl\":[{\"type\":\"heatmapgl\",\"colorbar\":{\"outlinewidth\":0,\"ticks\":\"\"},\"colorscale\":[[0.0,\"#0d0887\"],[0.1111111111111111,\"#46039f\"],[0.2222222222222222,\"#7201a8\"],[0.3333333333333333,\"#9c179e\"],[0.4444444444444444,\"#bd3786\"],[0.5555555555555556,\"#d8576b\"],[0.6666666666666666,\"#ed7953\"],[0.7777777777777778,\"#fb9f3a\"],[0.8888888888888888,\"#fdca26\"],[1.0,\"#f0f921\"]]}],\"contourcarpet\":[{\"type\":\"contourcarpet\",\"colorbar\":{\"outlinewidth\":0,\"ticks\":\"\"}}],\"contour\":[{\"type\":\"contour\",\"colorbar\":{\"outlinewidth\":0,\"ticks\":\"\"},\"colorscale\":[[0.0,\"#0d0887\"],[0.1111111111111111,\"#46039f\"],[0.2222222222222222,\"#7201a8\"],[0.3333333333333333,\"#9c179e\"],[0.4444444444444444,\"#bd3786\"],[0.5555555555555556,\"#d8576b\"],[0.6666666666666666,\"#ed7953\"],[0.7777777777777778,\"#fb9f3a\"],[0.8888888888888888,\"#fdca26\"],[1.0,\"#f0f921\"]]}],\"surface\":[{\"type\":\"surface\",\"colorbar\":{\"outlinewidth\":0,\"ticks\":\"\"},\"colorscale\":[[0.0,\"#0d0887\"],[0.1111111111111111,\"#46039f\"],[0.2222222222222222,\"#7201a8\"],[0.3333333333333333,\"#9c179e\"],[0.4444444444444444,\"#bd3786\"],[0.5555555555555556,\"#d8576b\"],[0.6666666666666666,\"#ed7953\"],[0.7777777777777778,\"#fb9f3a\"],[0.8888888888888888,\"#fdca26\"],[1.0,\"#f0f921\"]]}],\"mesh3d\":[{\"type\":\"mesh3d\",\"colorbar\":{\"outlinewidth\":0,\"ticks\":\"\"}}],\"scatter\":[{\"fillpattern\":{\"fillmode\":\"overlay\",\"size\":10,\"solidity\":0.2},\"type\":\"scatter\"}],\"parcoords\":[{\"type\":\"parcoords\",\"line\":{\"colorbar\":{\"outlinewidth\":0,\"ticks\":\"\"}}}],\"scatterpolargl\":[{\"type\":\"scatterpolargl\",\"marker\":{\"colorbar\":{\"outlinewidth\":0,\"ticks\":\"\"}}}],\"bar\":[{\"error_x\":{\"color\":\"#2a3f5f\"},\"error_y\":{\"color\":\"#2a3f5f\"},\"marker\":{\"line\":{\"color\":\"white\",\"width\":0.5},\"pattern\":{\"fillmode\":\"overlay\",\"size\":10,\"solidity\":0.2}},\"type\":\"bar\"}],\"scattergeo\":[{\"type\":\"scattergeo\",\"marker\":{\"colorbar\":{\"outlinewidth\":0,\"ticks\":\"\"}}}],\"scatterpolar\":[{\"type\":\"scatterpolar\",\"marker\":{\"colorbar\":{\"outlinewidth\":0,\"ticks\":\"\"}}}],\"histogram\":[{\"marker\":{\"pattern\":{\"fillmode\":\"overlay\",\"size\":10,\"solidity\":0.2}},\"type\":\"histogram\"}],\"scattergl\":[{\"type\":\"scattergl\",\"marker\":{\"colorbar\":{\"outlinewidth\":0,\"ticks\":\"\"}}}],\"scatter3d\":[{\"type\":\"scatter3d\",\"line\":{\"colorbar\":{\"outlinewidth\":0,\"ticks\":\"\"}},\"marker\":{\"colorbar\":{\"outlinewidth\":0,\"ticks\":\"\"}}}],\"scattermapbox\":[{\"type\":\"scattermapbox\",\"marker\":{\"colorbar\":{\"outlinewidth\":0,\"ticks\":\"\"}}}],\"scatterternary\":[{\"type\":\"scatterternary\",\"marker\":{\"colorbar\":{\"outlinewidth\":0,\"ticks\":\"\"}}}],\"scattercarpet\":[{\"type\":\"scattercarpet\",\"marker\":{\"colorbar\":{\"outlinewidth\":0,\"ticks\":\"\"}}}],\"carpet\":[{\"aaxis\":{\"endlinecolor\":\"#2a3f5f\",\"gridcolor\":\"#C8D4E3\",\"linecolor\":\"#C8D4E3\",\"minorgridcolor\":\"#C8D4E3\",\"startlinecolor\":\"#2a3f5f\"},\"baxis\":{\"endlinecolor\":\"#2a3f5f\",\"gridcolor\":\"#C8D4E3\",\"linecolor\":\"#C8D4E3\",\"minorgridcolor\":\"#C8D4E3\",\"startlinecolor\":\"#2a3f5f\"},\"type\":\"carpet\"}],\"table\":[{\"cells\":{\"fill\":{\"color\":\"#EBF0F8\"},\"line\":{\"color\":\"white\"}},\"header\":{\"fill\":{\"color\":\"#C8D4E3\"},\"line\":{\"color\":\"white\"}},\"type\":\"table\"}],\"barpolar\":[{\"marker\":{\"line\":{\"color\":\"white\",\"width\":0.5},\"pattern\":{\"fillmode\":\"overlay\",\"size\":10,\"solidity\":0.2}},\"type\":\"barpolar\"}],\"pie\":[{\"automargin\":true,\"type\":\"pie\"}]},\"layout\":{\"autotypenumbers\":\"strict\",\"colorway\":[\"#636efa\",\"#EF553B\",\"#00cc96\",\"#ab63fa\",\"#FFA15A\",\"#19d3f3\",\"#FF6692\",\"#B6E880\",\"#FF97FF\",\"#FECB52\"],\"font\":{\"color\":\"#2a3f5f\"},\"hovermode\":\"closest\",\"hoverlabel\":{\"align\":\"left\"},\"paper_bgcolor\":\"white\",\"plot_bgcolor\":\"white\",\"polar\":{\"bgcolor\":\"white\",\"angularaxis\":{\"gridcolor\":\"#EBF0F8\",\"linecolor\":\"#EBF0F8\",\"ticks\":\"\"},\"radialaxis\":{\"gridcolor\":\"#EBF0F8\",\"linecolor\":\"#EBF0F8\",\"ticks\":\"\"}},\"ternary\":{\"bgcolor\":\"white\",\"aaxis\":{\"gridcolor\":\"#DFE8F3\",\"linecolor\":\"#A2B1C6\",\"ticks\":\"\"},\"baxis\":{\"gridcolor\":\"#DFE8F3\",\"linecolor\":\"#A2B1C6\",\"ticks\":\"\"},\"caxis\":{\"gridcolor\":\"#DFE8F3\",\"linecolor\":\"#A2B1C6\",\"ticks\":\"\"}},\"coloraxis\":{\"colorbar\":{\"outlinewidth\":0,\"ticks\":\"\"}},\"colorscale\":{\"sequential\":[[0.0,\"#0d0887\"],[0.1111111111111111,\"#46039f\"],[0.2222222222222222,\"#7201a8\"],[0.3333333333333333,\"#9c179e\"],[0.4444444444444444,\"#bd3786\"],[0.5555555555555556,\"#d8576b\"],[0.6666666666666666,\"#ed7953\"],[0.7777777777777778,\"#fb9f3a\"],[0.8888888888888888,\"#fdca26\"],[1.0,\"#f0f921\"]],\"sequentialminus\":[[0.0,\"#0d0887\"],[0.1111111111111111,\"#46039f\"],[0.2222222222222222,\"#7201a8\"],[0.3333333333333333,\"#9c179e\"],[0.4444444444444444,\"#bd3786\"],[0.5555555555555556,\"#d8576b\"],[0.6666666666666666,\"#ed7953\"],[0.7777777777777778,\"#fb9f3a\"],[0.8888888888888888,\"#fdca26\"],[1.0,\"#f0f921\"]],\"diverging\":[[0,\"#8e0152\"],[0.1,\"#c51b7d\"],[0.2,\"#de77ae\"],[0.3,\"#f1b6da\"],[0.4,\"#fde0ef\"],[0.5,\"#f7f7f7\"],[0.6,\"#e6f5d0\"],[0.7,\"#b8e186\"],[0.8,\"#7fbc41\"],[0.9,\"#4d9221\"],[1,\"#276419\"]]},\"xaxis\":{\"gridcolor\":\"#EBF0F8\",\"linecolor\":\"#EBF0F8\",\"ticks\":\"\",\"title\":{\"standoff\":15},\"zerolinecolor\":\"#EBF0F8\",\"automargin\":true,\"zerolinewidth\":2},\"yaxis\":{\"gridcolor\":\"#EBF0F8\",\"linecolor\":\"#EBF0F8\",\"ticks\":\"\",\"title\":{\"standoff\":15},\"zerolinecolor\":\"#EBF0F8\",\"automargin\":true,\"zerolinewidth\":2},\"scene\":{\"xaxis\":{\"backgroundcolor\":\"white\",\"gridcolor\":\"#DFE8F3\",\"linecolor\":\"#EBF0F8\",\"showbackground\":true,\"ticks\":\"\",\"zerolinecolor\":\"#EBF0F8\",\"gridwidth\":2},\"yaxis\":{\"backgroundcolor\":\"white\",\"gridcolor\":\"#DFE8F3\",\"linecolor\":\"#EBF0F8\",\"showbackground\":true,\"ticks\":\"\",\"zerolinecolor\":\"#EBF0F8\",\"gridwidth\":2},\"zaxis\":{\"backgroundcolor\":\"white\",\"gridcolor\":\"#DFE8F3\",\"linecolor\":\"#EBF0F8\",\"showbackground\":true,\"ticks\":\"\",\"zerolinecolor\":\"#EBF0F8\",\"gridwidth\":2}},\"shapedefaults\":{\"line\":{\"color\":\"#2a3f5f\"}},\"annotationdefaults\":{\"arrowcolor\":\"#2a3f5f\",\"arrowhead\":0,\"arrowwidth\":1},\"geo\":{\"bgcolor\":\"white\",\"landcolor\":\"white\",\"subunitcolor\":\"#C8D4E3\",\"showland\":true,\"showlakes\":true,\"lakecolor\":\"white\"},\"title\":{\"x\":0.05},\"mapbox\":{\"style\":\"light\"}}},\"legend\":{\"tracegroupgap\":0},\"title\":{\"text\":\"Users Engagement Sources\"},\"piecolorway\":[\"#FD8A8A\",\"#E9A1D4\",\"#F1F7B5\",\"#A8D1D1\"]},                        {\"responsive\": true}                    ).then(function(){\n",
       "                            \n",
       "var gd = document.getElementById('9286ac7c-347a-4669-b5b4-4afc212f28d6');\n",
       "var x = new MutationObserver(function (mutations, observer) {{\n",
       "        var display = window.getComputedStyle(gd).display;\n",
       "        if (!display || display === 'none') {{\n",
       "            console.log([gd, 'removed!']);\n",
       "            Plotly.purge(gd);\n",
       "            observer.disconnect();\n",
       "        }}\n",
       "}});\n",
       "\n",
       "// Listen for the removal of the full notebook cells\n",
       "var notebookContainer = gd.closest('#notebook-container');\n",
       "if (notebookContainer) {{\n",
       "    x.observe(notebookContainer, {childList: true});\n",
       "}}\n",
       "\n",
       "// Listen for the clearing of the current output cell\n",
       "var outputEl = gd.closest('.output');\n",
       "if (outputEl) {{\n",
       "    x.observe(outputEl, {childList: true});\n",
       "}}\n",
       "\n",
       "                        })                };                });            </script>        </div>"
      ]
     },
     "metadata": {},
     "output_type": "display_data"
    }
   ],
   "source": [
    "#distribution of user engagement from multiple sources\n",
    "\n",
    "engagement_metrics = ['Saves', 'Comments', 'Shares', 'Likes']\n",
    "engagement_counts = [data[metric].sum() for metric in engagement_metrics]\n",
    "\n",
    "colors = ['#FD8A8A', '#E9A1D4', '#F1F7B5', '#A8D1D1']\n",
    "\n",
    "fig = px.pie(data_frame=data, names=engagement_metrics, \n",
    "             values=engagement_counts, \n",
    "             title='Users Engagement Sources',\n",
    "             color_discrete_sequence=colors)\n",
    "fig.show()"
   ]
  },
  {
   "cell_type": "code",
   "execution_count": 12,
   "id": "d05da89f",
   "metadata": {
    "execution": {
     "iopub.execute_input": "2023-07-18T16:39:30.627735Z",
     "iopub.status.busy": "2023-07-18T16:39:30.627323Z",
     "iopub.status.idle": "2023-07-18T16:39:33.580971Z",
     "shell.execute_reply": "2023-07-18T16:39:33.579726Z"
    },
    "papermill": {
     "duration": 2.966624,
     "end_time": "2023-07-18T16:39:33.583842",
     "exception": false,
     "start_time": "2023-07-18T16:39:30.617218",
     "status": "completed"
    },
    "tags": []
   },
   "outputs": [
    {
     "name": "stderr",
     "output_type": "stream",
     "text": [
      "/opt/conda/lib/python3.10/site-packages/scipy/__init__.py:146: UserWarning:\n",
      "\n",
      "A NumPy version >=1.16.5 and <1.23.0 is required for this version of SciPy (detected version 1.23.5\n",
      "\n"
     ]
    },
    {
     "data": {
      "text/html": [
       "<div>                            <div id=\"291154b4-7f2c-4afc-867a-4e4b9ba1983a\" class=\"plotly-graph-div\" style=\"height:525px; width:100%;\"></div>            <script type=\"text/javascript\">                require([\"plotly\"], function(Plotly) {                    window.PLOTLYENV=window.PLOTLYENV || {};                                    if (document.getElementById(\"291154b4-7f2c-4afc-867a-4e4b9ba1983a\")) {                    Plotly.newPlot(                        \"291154b4-7f2c-4afc-867a-4e4b9ba1983a\",                        [{\"hovertemplate\":\"Likes=%{x}\\u003cbr\\u003eFollows=%{y}\\u003cextra\\u003e\\u003c\\u002fextra\\u003e\",\"legendgroup\":\"\",\"marker\":{\"color\":\"#636efa\",\"symbol\":\"circle\"},\"mode\":\"markers\",\"name\":\"\",\"orientation\":\"v\",\"showlegend\":false,\"x\":[162,224,131,213,123,144,76,124,159,191,81,151,162,142,294,159,205,121,151,72,76,91,195,129,160,175,147,114,151,92,214,150,122,152,196,86,85,156,72,82,416,180,150,127,167,225,137,114,263,328,126,236,99,212,297,142,186,112,149,132,115,248,178,107,269,96,134,301,187,94,114,96,138,122,257,95,244,190,118,178,170,250,159,205,121,151,72,137,114,263,328,126,129,160,175,147,114,151,92,275,192,203,145,168,194,250,171,416,249,308,163,86,210,172,373,148,92,549,443,500],\"xaxis\":\"x\",\"y\":[2,10,12,8,0,2,0,6,4,6,4,0,2,4,42,6,2,2,30,0,0,24,100,2,4,6,6,6,2,2,20,2,4,8,26,2,2,4,0,2,94,8,18,10,4,4,4,4,18,38,10,12,4,4,74,0,6,6,0,6,12,10,8,8,46,12,10,94,6,10,6,4,12,16,12,8,32,8,16,6,10,10,6,2,2,30,0,4,4,18,38,10,2,4,6,6,6,2,2,14,8,14,28,18,12,34,26,260,16,96,20,30,58,100,80,18,10,214,228,207],\"yaxis\":\"y\",\"type\":\"scatter\"},{\"hovertemplate\":\"\\u003cb\\u003eOLS trendline\\u003c\\u002fb\\u003e\\u003cbr\\u003eFollows = 0.394048 * Likes + -47.2412\\u003cbr\\u003eR\\u003csup\\u003e2\\u003c\\u002fsup\\u003e=0.606588\\u003cbr\\u003e\\u003cbr\\u003eLikes=%{x}\\u003cbr\\u003eFollows=%{y} \\u003cb\\u003e(trend)\\u003c\\u002fb\\u003e\\u003cextra\\u003e\\u003c\\u002fextra\\u003e\",\"legendgroup\":\"\",\"marker\":{\"color\":\"#636efa\",\"symbol\":\"circle\"},\"mode\":\"lines\",\"name\":\"\",\"showlegend\":false,\"x\":[72,72,72,76,76,81,82,85,86,86,91,92,92,92,94,95,96,96,99,107,112,114,114,114,114,114,115,118,121,121,122,122,123,124,126,126,127,129,129,131,132,134,137,137,138,142,142,144,145,147,147,148,149,150,150,151,151,151,151,151,152,156,159,159,159,160,160,162,162,163,167,168,170,171,172,175,175,178,178,180,186,187,190,191,192,194,195,196,203,205,205,210,212,213,214,224,225,236,244,248,249,250,250,257,263,263,269,275,294,297,301,308,328,328,373,416,416,443,500,549],\"xaxis\":\"x\",\"y\":[-18.869715058283695,-18.869715058283695,-18.869715058283695,-17.29352181841319,-17.29352181841319,-15.323280268575054,-14.929231958607424,-13.747087028704549,-13.353038718736919,-13.353038718736919,-11.382797168898783,-10.988748858931153,-10.988748858931153,-10.988748858931153,-10.2006522389959,-9.806603929028277,-9.412555619060647,-9.412555619060647,-8.230410689157765,-5.078024209416746,-3.1077826595786178,-2.319686039643358,-2.319686039643358,-2.319686039643358,-2.319686039643358,-2.319686039643358,-1.925637729675735,-0.7434927997728522,0.43865213013003057,0.43865213013003057,0.8327004400976534,0.8327004400976534,1.2267487500652834,1.6207970600329134,2.408893679968166,2.408893679968166,2.802941989935789,3.591038609871049,3.591038609871049,4.379135229806302,4.773183539773925,5.5612801597091845,6.74342508961206,6.74342508961206,7.13747339957969,8.713666639450196,8.713666639450196,9.501763259385456,9.895811569353079,10.683908189288331,10.683908189288331,11.077956499255961,11.472004809223584,11.866053119191214,11.866053119191214,12.260101429158844,12.260101429158844,12.260101429158844,12.260101429158844,12.260101429158844,12.654149739126467,14.23034297899698,15.412487908899855,15.412487908899855,15.412487908899855,15.806536218867485,15.806536218867485,16.594632838802738,16.594632838802738,16.988681148770368,18.564874388640874,18.958922698608504,19.74701931854375,20.14106762851138,20.53511593847901,21.717260868381885,21.717260868381885,22.899405798284775,22.899405798284775,23.68750241822002,26.051792278025786,26.445840587993416,27.627985517896292,28.022033827863922,28.416082137831552,29.20417875776681,29.598227067734427,29.992275377702057,32.75061354747545,33.5387101674107,33.5387101674107,35.508951717248834,36.297048337184094,36.691096647151724,37.085144957119354,41.02562805679561,41.41967636676324,45.75420777640714,48.90659425614815,50.48278749601867,50.87683580598629,51.27088411595392,51.27088411595392,54.029222285727315,56.39351214553308,56.39351214553308,58.75780200533883,61.1220918651446,68.60900975452951,69.7911546844324,71.3673479243029,74.12568609407629,82.00665229342884,82.00665229342884,99.73882624197206,116.68290357058002,116.68290357058002,127.32220793970596,149.78296160786067,169.0913287962744],\"yaxis\":\"y\",\"type\":\"scatter\"}],                        {\"template\":{\"data\":{\"histogram2dcontour\":[{\"type\":\"histogram2dcontour\",\"colorbar\":{\"outlinewidth\":0,\"ticks\":\"\"},\"colorscale\":[[0.0,\"#0d0887\"],[0.1111111111111111,\"#46039f\"],[0.2222222222222222,\"#7201a8\"],[0.3333333333333333,\"#9c179e\"],[0.4444444444444444,\"#bd3786\"],[0.5555555555555556,\"#d8576b\"],[0.6666666666666666,\"#ed7953\"],[0.7777777777777778,\"#fb9f3a\"],[0.8888888888888888,\"#fdca26\"],[1.0,\"#f0f921\"]]}],\"choropleth\":[{\"type\":\"choropleth\",\"colorbar\":{\"outlinewidth\":0,\"ticks\":\"\"}}],\"histogram2d\":[{\"type\":\"histogram2d\",\"colorbar\":{\"outlinewidth\":0,\"ticks\":\"\"},\"colorscale\":[[0.0,\"#0d0887\"],[0.1111111111111111,\"#46039f\"],[0.2222222222222222,\"#7201a8\"],[0.3333333333333333,\"#9c179e\"],[0.4444444444444444,\"#bd3786\"],[0.5555555555555556,\"#d8576b\"],[0.6666666666666666,\"#ed7953\"],[0.7777777777777778,\"#fb9f3a\"],[0.8888888888888888,\"#fdca26\"],[1.0,\"#f0f921\"]]}],\"heatmap\":[{\"type\":\"heatmap\",\"colorbar\":{\"outlinewidth\":0,\"ticks\":\"\"},\"colorscale\":[[0.0,\"#0d0887\"],[0.1111111111111111,\"#46039f\"],[0.2222222222222222,\"#7201a8\"],[0.3333333333333333,\"#9c179e\"],[0.4444444444444444,\"#bd3786\"],[0.5555555555555556,\"#d8576b\"],[0.6666666666666666,\"#ed7953\"],[0.7777777777777778,\"#fb9f3a\"],[0.8888888888888888,\"#fdca26\"],[1.0,\"#f0f921\"]]}],\"heatmapgl\":[{\"type\":\"heatmapgl\",\"colorbar\":{\"outlinewidth\":0,\"ticks\":\"\"},\"colorscale\":[[0.0,\"#0d0887\"],[0.1111111111111111,\"#46039f\"],[0.2222222222222222,\"#7201a8\"],[0.3333333333333333,\"#9c179e\"],[0.4444444444444444,\"#bd3786\"],[0.5555555555555556,\"#d8576b\"],[0.6666666666666666,\"#ed7953\"],[0.7777777777777778,\"#fb9f3a\"],[0.8888888888888888,\"#fdca26\"],[1.0,\"#f0f921\"]]}],\"contourcarpet\":[{\"type\":\"contourcarpet\",\"colorbar\":{\"outlinewidth\":0,\"ticks\":\"\"}}],\"contour\":[{\"type\":\"contour\",\"colorbar\":{\"outlinewidth\":0,\"ticks\":\"\"},\"colorscale\":[[0.0,\"#0d0887\"],[0.1111111111111111,\"#46039f\"],[0.2222222222222222,\"#7201a8\"],[0.3333333333333333,\"#9c179e\"],[0.4444444444444444,\"#bd3786\"],[0.5555555555555556,\"#d8576b\"],[0.6666666666666666,\"#ed7953\"],[0.7777777777777778,\"#fb9f3a\"],[0.8888888888888888,\"#fdca26\"],[1.0,\"#f0f921\"]]}],\"surface\":[{\"type\":\"surface\",\"colorbar\":{\"outlinewidth\":0,\"ticks\":\"\"},\"colorscale\":[[0.0,\"#0d0887\"],[0.1111111111111111,\"#46039f\"],[0.2222222222222222,\"#7201a8\"],[0.3333333333333333,\"#9c179e\"],[0.4444444444444444,\"#bd3786\"],[0.5555555555555556,\"#d8576b\"],[0.6666666666666666,\"#ed7953\"],[0.7777777777777778,\"#fb9f3a\"],[0.8888888888888888,\"#fdca26\"],[1.0,\"#f0f921\"]]}],\"mesh3d\":[{\"type\":\"mesh3d\",\"colorbar\":{\"outlinewidth\":0,\"ticks\":\"\"}}],\"scatter\":[{\"fillpattern\":{\"fillmode\":\"overlay\",\"size\":10,\"solidity\":0.2},\"type\":\"scatter\"}],\"parcoords\":[{\"type\":\"parcoords\",\"line\":{\"colorbar\":{\"outlinewidth\":0,\"ticks\":\"\"}}}],\"scatterpolargl\":[{\"type\":\"scatterpolargl\",\"marker\":{\"colorbar\":{\"outlinewidth\":0,\"ticks\":\"\"}}}],\"bar\":[{\"error_x\":{\"color\":\"#2a3f5f\"},\"error_y\":{\"color\":\"#2a3f5f\"},\"marker\":{\"line\":{\"color\":\"white\",\"width\":0.5},\"pattern\":{\"fillmode\":\"overlay\",\"size\":10,\"solidity\":0.2}},\"type\":\"bar\"}],\"scattergeo\":[{\"type\":\"scattergeo\",\"marker\":{\"colorbar\":{\"outlinewidth\":0,\"ticks\":\"\"}}}],\"scatterpolar\":[{\"type\":\"scatterpolar\",\"marker\":{\"colorbar\":{\"outlinewidth\":0,\"ticks\":\"\"}}}],\"histogram\":[{\"marker\":{\"pattern\":{\"fillmode\":\"overlay\",\"size\":10,\"solidity\":0.2}},\"type\":\"histogram\"}],\"scattergl\":[{\"type\":\"scattergl\",\"marker\":{\"colorbar\":{\"outlinewidth\":0,\"ticks\":\"\"}}}],\"scatter3d\":[{\"type\":\"scatter3d\",\"line\":{\"colorbar\":{\"outlinewidth\":0,\"ticks\":\"\"}},\"marker\":{\"colorbar\":{\"outlinewidth\":0,\"ticks\":\"\"}}}],\"scattermapbox\":[{\"type\":\"scattermapbox\",\"marker\":{\"colorbar\":{\"outlinewidth\":0,\"ticks\":\"\"}}}],\"scatterternary\":[{\"type\":\"scatterternary\",\"marker\":{\"colorbar\":{\"outlinewidth\":0,\"ticks\":\"\"}}}],\"scattercarpet\":[{\"type\":\"scattercarpet\",\"marker\":{\"colorbar\":{\"outlinewidth\":0,\"ticks\":\"\"}}}],\"carpet\":[{\"aaxis\":{\"endlinecolor\":\"#2a3f5f\",\"gridcolor\":\"#C8D4E3\",\"linecolor\":\"#C8D4E3\",\"minorgridcolor\":\"#C8D4E3\",\"startlinecolor\":\"#2a3f5f\"},\"baxis\":{\"endlinecolor\":\"#2a3f5f\",\"gridcolor\":\"#C8D4E3\",\"linecolor\":\"#C8D4E3\",\"minorgridcolor\":\"#C8D4E3\",\"startlinecolor\":\"#2a3f5f\"},\"type\":\"carpet\"}],\"table\":[{\"cells\":{\"fill\":{\"color\":\"#EBF0F8\"},\"line\":{\"color\":\"white\"}},\"header\":{\"fill\":{\"color\":\"#C8D4E3\"},\"line\":{\"color\":\"white\"}},\"type\":\"table\"}],\"barpolar\":[{\"marker\":{\"line\":{\"color\":\"white\",\"width\":0.5},\"pattern\":{\"fillmode\":\"overlay\",\"size\":10,\"solidity\":0.2}},\"type\":\"barpolar\"}],\"pie\":[{\"automargin\":true,\"type\":\"pie\"}]},\"layout\":{\"autotypenumbers\":\"strict\",\"colorway\":[\"#636efa\",\"#EF553B\",\"#00cc96\",\"#ab63fa\",\"#FFA15A\",\"#19d3f3\",\"#FF6692\",\"#B6E880\",\"#FF97FF\",\"#FECB52\"],\"font\":{\"color\":\"#2a3f5f\"},\"hovermode\":\"closest\",\"hoverlabel\":{\"align\":\"left\"},\"paper_bgcolor\":\"white\",\"plot_bgcolor\":\"white\",\"polar\":{\"bgcolor\":\"white\",\"angularaxis\":{\"gridcolor\":\"#EBF0F8\",\"linecolor\":\"#EBF0F8\",\"ticks\":\"\"},\"radialaxis\":{\"gridcolor\":\"#EBF0F8\",\"linecolor\":\"#EBF0F8\",\"ticks\":\"\"}},\"ternary\":{\"bgcolor\":\"white\",\"aaxis\":{\"gridcolor\":\"#DFE8F3\",\"linecolor\":\"#A2B1C6\",\"ticks\":\"\"},\"baxis\":{\"gridcolor\":\"#DFE8F3\",\"linecolor\":\"#A2B1C6\",\"ticks\":\"\"},\"caxis\":{\"gridcolor\":\"#DFE8F3\",\"linecolor\":\"#A2B1C6\",\"ticks\":\"\"}},\"coloraxis\":{\"colorbar\":{\"outlinewidth\":0,\"ticks\":\"\"}},\"colorscale\":{\"sequential\":[[0.0,\"#0d0887\"],[0.1111111111111111,\"#46039f\"],[0.2222222222222222,\"#7201a8\"],[0.3333333333333333,\"#9c179e\"],[0.4444444444444444,\"#bd3786\"],[0.5555555555555556,\"#d8576b\"],[0.6666666666666666,\"#ed7953\"],[0.7777777777777778,\"#fb9f3a\"],[0.8888888888888888,\"#fdca26\"],[1.0,\"#f0f921\"]],\"sequentialminus\":[[0.0,\"#0d0887\"],[0.1111111111111111,\"#46039f\"],[0.2222222222222222,\"#7201a8\"],[0.3333333333333333,\"#9c179e\"],[0.4444444444444444,\"#bd3786\"],[0.5555555555555556,\"#d8576b\"],[0.6666666666666666,\"#ed7953\"],[0.7777777777777778,\"#fb9f3a\"],[0.8888888888888888,\"#fdca26\"],[1.0,\"#f0f921\"]],\"diverging\":[[0,\"#8e0152\"],[0.1,\"#c51b7d\"],[0.2,\"#de77ae\"],[0.3,\"#f1b6da\"],[0.4,\"#fde0ef\"],[0.5,\"#f7f7f7\"],[0.6,\"#e6f5d0\"],[0.7,\"#b8e186\"],[0.8,\"#7fbc41\"],[0.9,\"#4d9221\"],[1,\"#276419\"]]},\"xaxis\":{\"gridcolor\":\"#EBF0F8\",\"linecolor\":\"#EBF0F8\",\"ticks\":\"\",\"title\":{\"standoff\":15},\"zerolinecolor\":\"#EBF0F8\",\"automargin\":true,\"zerolinewidth\":2},\"yaxis\":{\"gridcolor\":\"#EBF0F8\",\"linecolor\":\"#EBF0F8\",\"ticks\":\"\",\"title\":{\"standoff\":15},\"zerolinecolor\":\"#EBF0F8\",\"automargin\":true,\"zerolinewidth\":2},\"scene\":{\"xaxis\":{\"backgroundcolor\":\"white\",\"gridcolor\":\"#DFE8F3\",\"linecolor\":\"#EBF0F8\",\"showbackground\":true,\"ticks\":\"\",\"zerolinecolor\":\"#EBF0F8\",\"gridwidth\":2},\"yaxis\":{\"backgroundcolor\":\"white\",\"gridcolor\":\"#DFE8F3\",\"linecolor\":\"#EBF0F8\",\"showbackground\":true,\"ticks\":\"\",\"zerolinecolor\":\"#EBF0F8\",\"gridwidth\":2},\"zaxis\":{\"backgroundcolor\":\"white\",\"gridcolor\":\"#DFE8F3\",\"linecolor\":\"#EBF0F8\",\"showbackground\":true,\"ticks\":\"\",\"zerolinecolor\":\"#EBF0F8\",\"gridwidth\":2}},\"shapedefaults\":{\"line\":{\"color\":\"#2a3f5f\"}},\"annotationdefaults\":{\"arrowcolor\":\"#2a3f5f\",\"arrowhead\":0,\"arrowwidth\":1},\"geo\":{\"bgcolor\":\"white\",\"landcolor\":\"white\",\"subunitcolor\":\"#C8D4E3\",\"showland\":true,\"showlakes\":true,\"lakecolor\":\"white\"},\"title\":{\"x\":0.05},\"mapbox\":{\"style\":\"light\"}}},\"xaxis\":{\"anchor\":\"y\",\"domain\":[0.0,1.0],\"title\":{\"text\":\"Likes\"}},\"yaxis\":{\"anchor\":\"x\",\"domain\":[0.0,1.0],\"title\":{\"text\":\"Follows\"}},\"legend\":{\"tracegroupgap\":0},\"title\":{\"text\":\"Likes vs. Follows\"}},                        {\"responsive\": true}                    ).then(function(){\n",
       "                            \n",
       "var gd = document.getElementById('291154b4-7f2c-4afc-867a-4e4b9ba1983a');\n",
       "var x = new MutationObserver(function (mutations, observer) {{\n",
       "        var display = window.getComputedStyle(gd).display;\n",
       "        if (!display || display === 'none') {{\n",
       "            console.log([gd, 'removed!']);\n",
       "            Plotly.purge(gd);\n",
       "            observer.disconnect();\n",
       "        }}\n",
       "}});\n",
       "\n",
       "// Listen for the removal of the full notebook cells\n",
       "var notebookContainer = gd.closest('#notebook-container');\n",
       "if (notebookContainer) {{\n",
       "    x.observe(notebookContainer, {childList: true});\n",
       "}}\n",
       "\n",
       "// Listen for the clearing of the current output cell\n",
       "var outputEl = gd.closest('.output');\n",
       "if (outputEl) {{\n",
       "    x.observe(outputEl, {childList: true});\n",
       "}}\n",
       "\n",
       "                        })                };                });            </script>        </div>"
      ]
     },
     "metadata": {},
     "output_type": "display_data"
    }
   ],
   "source": [
    "#finding the relationship between \n",
    "\n",
    "fig = px.scatter(data, \n",
    "                 x='Likes', \n",
    "                 y='Follows', \n",
    "                 trendline = 'ols',\n",
    "                 title='Likes vs. Follows')\n",
    "fig.show()"
   ]
  },
  {
   "cell_type": "code",
   "execution_count": 13,
   "id": "f0757f69",
   "metadata": {
    "execution": {
     "iopub.execute_input": "2023-07-18T16:39:33.604019Z",
     "iopub.status.busy": "2023-07-18T16:39:33.603593Z",
     "iopub.status.idle": "2023-07-18T16:39:34.069232Z",
     "shell.execute_reply": "2023-07-18T16:39:34.068199Z"
    },
    "papermill": {
     "duration": 0.479861,
     "end_time": "2023-07-18T16:39:34.072810",
     "exception": false,
     "start_time": "2023-07-18T16:39:33.592949",
     "status": "completed"
    },
    "tags": []
   },
   "outputs": [
    {
     "data": {
      "text/html": [
       "<div>                            <div id=\"651a9635-59c9-454f-9155-fbf3e04d7c88\" class=\"plotly-graph-div\" style=\"height:525px; width:100%;\"></div>            <script type=\"text/javascript\">                require([\"plotly\"], function(Plotly) {                    window.PLOTLYENV=window.PLOTLYENV || {};                                    if (document.getElementById(\"651a9635-59c9-454f-9155-fbf3e04d7c88\")) {                    Plotly.newPlot(                        \"651a9635-59c9-454f-9155-fbf3e04d7c88\",                        [{\"name\":\"0\",\"source\":\"data:image\\u002fpng;base64,iVBORw0KGgoAAAANSUhEUgAAAZAAAADICAIAAABJdyC1AACvlUlEQVR4Xuydd5jc1NXwj7o0vc\\u002fO9r7rXfdecTfGBmx6bwGSQCAkJLwQCATSgSRfSA81gQQIvXeMcccN97K2d73e3qY3zah8f2is1WpmtMXrAuzv8eNHOvecc8890ty9urqSAEYYYYQRviIgasEII3wVQFBUFAS19IRBUAxABEAAxJPhf4QTBFULRjg5ICgmbZgLavqWqMFpfc7YBRhBqQv6Q+8owEhGLR0wA48QAPTOIpzWq6VpDLkt\\u002fWIaPQk3mlGSQnACEBTBcMJsxWiGtLsAACUp3GhCMBw3mqUiAMioQzncTEGJpAkAmN5grBkv\\u002fQ8AkjKCYaTNiWC4pCYZAoISVjsAItuOcArA1YIzGzPuCnCdaumZBMEYMYIWeC4R8ZEGayLswwgKwQjP2AXehp2RrkajqyQe6EQQNB7o1DsKEhF\\u002fMhYidCYUJyUhF4+IPIfiJJ9kdfY8Lh5ORAIIiumdhYmwn0tEMZykjPZI1zGcMchWKE6iOCnySaUrADC4ikVRjAc6+URsuCLUOwsNriKOjXDxiByh7AoQlDLaJKGyLb2uFAEAgOSBS8Tldoli\\u002f0Mb3GgyVNQIyQQfDrFdbbqicpHjIg11tCc\\u002f0dNpnTqHj0UxRk9YbNGGOpHjkgGfsXpMuk7S1w2iaJsxn7DYOj9+kwsFQBSl\\u002fwFAFATak8\\u002fkFWGMzrdlrW3mQsJiS\\u002fp7+FgUBCHe2pSEXluBjaujHGG4ORUjLA9Vlk9XW3C3jfDkUVUW3G3BXflUtQl3mnFXPlXlocrkIj1mLqBrLLgrn6oqYcZ6qHJ5g0b1ZtyhdCibq6s8fbhq5tAWd87Y+RhB24rHETqTs2oGimEYyYg8J+nobHk5o+c5q2bgjCFn9Dyc0rtGzZaEGEnLruxlk2iz2zN2EU7rCcaAoFjepHMYS07u+CUIhouiqLQSRcGUV0UwJqXQXjYRpw2u6hly1XDCEToqpxGMSWfPV0VoL52I0wZn1QxLQY0slCvt40oRgOxB2S7ZShuM1iEoqisqA4BEdyfl8uBGM+VwIyiWDPiS3m4u6A\\u002fX7ZWKsukkvN2ExS5pCgmWtLsoZ470P4KikrIoCCLPi4IoqUmGIscRFhsgiGyrjg9AR1hxlFRL00ARzG2o0BEWdcFXFhPlVouGiVMxwqJRQ0NsZwkzjhUiPq4tygeL6TFH47tLmHGsEOOBTwoJGtVLRWbcyQoRK5HDixwnJjEERwGVNuJCBAEUAHSo6UjsyyJ6dFJMSObqKk8fCIIEmvfjlI7UW7oPb7WXT8ZpQyIS4OLhqLcFAAAB39FdOK2njPaugxtRjKDNTgRBJCFO6vhE6g+1zp6fiPjYsBdFcZ29gDJYcZIBgGBrXajtsFSXbMWGvcloUCWM+TvsZZOi3laBTw5XhLTJ2Vz3BaEzqSLsqd9uKxmH0wZCZ5aFcqUqV3IAsgdQtGsg9Kz\\u002fFBAERFH6nwuH4p2tIIpdq98HgODubSk9BAFRjHe2AkC8oyWjjn\\u002fHF7KfRE+nVCr9L+2ax04GEDFGF9i1JVVpyjkKoqgWAuQYqjrCdSKIbkNFV6Q+nOiWizIiioIgCi59+VH\\u002fVnXZV5Miy6TdHe8pJXJOlMIhcCo6LBwh8qjKhBADAF7kAIAVo7lURVyI8CJnwCwhrodEKanIgudwIiuKogii9MdWRFIbesxiwu0m3MGJqZ8fJyYkc7mu044oiu6aObTZ1XNkmyjwJGMMdx4FAATFnFXTuw5ukrQAINh2yDN2IaEzNW95x1JYKwkBgLHkGFzFgKD+Y7tNuZV8kk3GQpTRBkhqONx3DJLaps0ug7sYJaS\\u002f5ykhgmI4pWdDPQiGy6OnE4ww1HY4b+I5tNkZbK1TRiiKgs6WF2g5wMXDslBui9KVuaBGDkD2IAUmRThQJH3ZKqP5EHTSCOxS9CNKNfnSVSE0UTnF1qk60uqLNQNAvmkMhhJtoQNBtr3UOh1FsJbQ3hDbiQBSbp+NIbg31tQZOcxyIT1hBQAcJWU1K5PfGtzDCYlS2\\u002fRj\\u002fu1KcwKjC80TCZTyxVtQBKVxM4Mbm4I741xIlvtiTSXWaQggTcGdCT5WZp2OoWQ40d3o36Y098Wai61TCJQ+FthuZQr0hDWWDOAolRBi8vZR\\u002f5ZstXeE6+S2ExhTYZsV58MAQGI62S0CmJwTX6xZWRRiu2TzM4UiejSSdjtSkpQxE0y4vYQZn140EDKan17yJy1HEBQAAQAERfMnLZcns+UNGQTt55IcQVBAUtnoVzmd\\u002fMnnohjuqJwmXcGlhCccoVKojLAf4XErZQCQRfkrzWj3UgRBAaDEOtWuK8IQfIz7nCLLpELLRIeuZLznfABw6svyTKNlExPlKrZMBgClmo0pyDeNNVHuIssklTmF6cfmnCvZllinWpk8FMFHu5cq5eX22TrCgiDoaPdSl748x1Dl1Jd6jNUqcwCgcVOusabMNqPWtcREuQvNE6oc85TbGrUrKbZMNtM5OEqNyzkPFG5BkRMJZdGgyHA6DjttiSPpQ0FJ0hDfJYjC0diu9KKBkNH89OJv2ieKgjQYMeVWdh\\u002f6QhR4qUjekOn3xrkoCvJf736V0+k8sN5ePiUR8Ud7mmXhiUeoFCoj7Ed43EoZAGRR\\u002fmqjaA3LRXiRA0BwlOIFVhD5eu8mAMBRMsGnboMoUap5Y01WJi\\u002fHWNUa2qcyB4A4F5KteIETRA5FMKUcRwhOSIiigCJYT+yYx1hjJF2dkXqVea6x1mOsTgosgqCCyAsiz4tJBBDltnbtMhhKcEKCFxIiiEq3AH1yoi4aDKfiklC6GMyIIPJh3qeWDpgTND8ZhDsb5O1A8wFFyWkgEfZ1HdyoEp72CJUBfC0JsO1VjnntoYNKYWtwT7l9VhT3B+LtANAVqa91LbbQnkC8PZL05ppG6wlrONGjUoskfRRmSPIxlVxFvnksACivzgCgObirwj6HF5PtoYM4QpCYjsL1VjqvO9on\\u002fyLwOsKCIYTGJbl27TId4boy28xIwssLSZVbOSf+eMtAahxhhBFOHdJgJx3VmCLbEGNQ8hLrVD1py1gEkJpgqXYuIDAGAMa4l6k1skerIlsVSpTzOSq3yt0B1ngmYrtoXuEf71BLz1RQhir9133lL\\u002f2i\\u002fKVf0NVF6uKhgpBE8V9\\u002fxIwqVhecTM7YzJ\\u002fKbJzKuk4SLn0FjRvU0r6YKHel\\u002faxy+6yTt+Dg1HAqLgmHEVTPAMcL7GlbxyDE2Prrf4U7LcV\\u002f\\u002fZG6rD+0gkcAAEROPYV05qAV\\u002fLAz3NnQCn5IdWk5POV0Rg6pRWkE2Y4g26GWfgXpf4x3RuH81nJmbJlaeurJNBXdLxrBi2zy6Pd+Hz\\u002fUpC44Y9AIftgZ9mxoBD+0ujQcDg2SSF1JLV+s61syCKZNoh22wV1qSfX2W6nDhv3f7RajYdDdxeTxlMU0aCsNhtPX0BjExBuC6Ib1LDmlnHnBj2R+iJyAwxwXVlFKFObhAFCUjwOA0YC6HNiv7rNNm0QDwMwpTFkJUVlGAMCkcVSOCwMAjxuThQBQVkJMmUChaK8CAEydSE+bSJnN6PjRVL5HfeUk1ytXajX31qusFDLV2+3l43FRr0v1qlIVJIHMmkpLbTHoUbcTmz6ZVoaq16F6HRpnRaUrAJg+mZ42iR5aR6Zu2KkAQWwXzzcvmYrSZGT7wWR777JPwmO3XTyfqSnBTDrOFwp+utX3+hqpKP\\u002fnN5HFHpQmPXddKUl8r33e8+In2lYaRYW\\u002fv93\\u002f9jpmdKl+yiiR46M7DnU99Y4QjWtbZYMqyS14+Jamu\\u002f7KNqZuo1BFOQWPfq\\u002fpnr+z9a0awQNA6TP3ojoaEKTt4f9EtvW5tUTmOmxXLGJqS1Ga5H0h\\u002f\\u002fub\\u002fO+sl4rM50w3nz2NcFqEeII92tb99LuJlv7W4J3CzINmhBrt0siGcdZY64VziRwb1x0IfrrV984GaaircSg1ggfNurIFr+2wX773LfPWHeyiucx9v\\u002fZedJ7hhddCV1xofOmNsNWMxeOpvx8TRlNL5jFbdrAtbdxlKw0P\\u002f8l\\u002f6w3mnXsTS+Yxdz3UM3EsNWkctX0Xe+NVJllhxTJ9Tw8\\u002fcRzV4xUEUZw9zfSzh73d3t7rXLnehmOcVOkLr4UwFJHrlSq966GeS1cYMtYru7rqIqNUxW\\u002f+6CMI5Oc\\u002fsV1\\u002fW2dtNXnNJcZX3wkrTeJxcfFc5mhTsrGJk+Wr18ciUfH8c\\u002fS33d3f6ZqJ09BhmeaOt66c0\\u002fXk2\\u002fG6Jt3YcvtVi5PdAalIiLGcN9jxp5c4X4ipLnJ9dyV7tD36ZR0AtP7qWYTES576SftjL0W3HQTFvIOGlUYRADhuPNf\\u002fzobm+x7H7Sb39y+xXTS3+7kP+7XKCNvQGj\\u002fUZFo8pevJtyWJcd6ERFMnW98KmsEDQP0Nv0YpsvS5+2WJBG415v3i5sTR9vbfv8B5g2SBmw9GpCKmpthx9dntf\\u002fhforkDMxuY0aWcN9jXOgOnMvMaEWq0C7JnQzeu3Pnt87ueeCt+pIXMdbi+uxIwzPf651JptkOpETxkr0sjeG2H\\u002fYJhyHufRq1WND8Xf+6l0NWXGJ12rLmN6+zmd+5lAQBB4NV3wjYrWlpEPPFckKaQijICwxBJaDGjk8ZR\\u002f3k51N7JL56rkxUqS4l7\\u002fhvMcWMTxpLHmrn6xiRF9lmLK9e7eTt7+QVGpx1r6+ABQKr3spUG2X+2emVXchUTx1FFBbjFlBrifbom+tm62OK5OtmkMci1dqSSI7vaV5e86mLDzj1s7HgHPShOQ4dlPntaeMPu4GfbASDR0sWMKyNy7FIR7w\\u002f3\\u002fPcjaTvZ7jUvm0GVeFJdD5tABAEAxAQnxPtMdmpYaRQBAFvf6v3fpwCQaO4MrdtJVxZKcm2rbAQ++MJ503k9\\u002f\\u002flQiCcQDDXOHud\\u002fe51UpBG8RMb1mabFU0AU2x79r2SSbOv9K4fSFABw\\u002flCyw5fs8MXrBjQFcyozrxGhRrskMmbDdvH8wAdfhNbtAoBkW0\\u002fg4y3mJVPkDivbodQIXiJjXRrB9+tQG0EQb7\\u002fJXF1OPP9KOJEUPW5s45Y4ABAE3HS16cn\\u002fBAFSq2g\\u002fWxe75w5rjhP7yS97zj9bL1++v\\u002f9p9O7brcdaOKWC2Yj+\\u002fB5bRSnxt6eDi+YyobDQ3pV6EktCWe\\u002f1l6cqheP1wvFKIUu9eh06YwqNYcjjzwbffD8qVVFSSCifg5ATKbuqKidmTqENeuQf\\u002f+ptF0GA3YbVN3IUibCJQfdZp6HDIjx26bSTSDR1yj8blCYt587ST6rCnRZAUUxHRbf3002AppVGEQCwh1vkbSEcR3W0tK1tlY3wxj2Oa88xzBob\\u002fHSrbkIlZmRCa3eqlQYDVeJhj7Rk\\u002fFVEvqwLrtqe\\u002f8tvs0dagp9tC63ZKSb7nKAZOZWZ14hQo10akIVuuqrQesFZSiGCYSLPQ\\u002fZDOTQ0gj9BEAR57HG\\u002fIIAoAo4jySS883EUAO56sEea\\u002f773Vz0A8PizQQBYtS7GcaJKCAB3PtCNosDzvQoffhb9dG1qe8OWmCiqbwvJ9WJYb6VwvN5EUoTj\\u002fhubuIz1XvHt1E3GtZtichU4jvy\\u002ff\\u002fgB4IttqR5QFerVt6SsZPlvfmq\\u002f9a6uKy821lSRX+5mpdKBcxo6LABFJ9x3RO363kVkvrPzn2+y9a1iIlnw8K1ykQYaVhpFAJDtN6NtlQ2R44OrtpoXTwl+utU4d3x052HOF1IrDQ5EFLL8CRLFrqfe9r2xxjRvgu2SBdYVZzXf\\u002fwQfCKvV0jlVmdeMMHu7soEgKE16\\u002f\\u002fdpcPV2pVjqrSD7oRwiWsGfEO9+HDkeMiw6i3nmxWAymUqF1GsokXqNdEQRJCdKBXlb9q9ErldVKQymXhm5in410\\u002fnHvwLXXGpsbOKG0FvBablLmGz3kkU58i6Z75K39RMqAh9tjh9oFBNJhMAJt1UuAgAQRBBFBFPHrGGlUaTB0KwAIPDRZqo4h64u0k+sCn6+o09ZluA1SDR10GV5CJm6d5MO1xPwvrr62B2PIQRuPGu8ujiNU5l5iYwR9tuuDIgie7SdzHdxPUHlP7VaRrIE3y8ZgwcYukMA2HD8WgwAPlgVPVzf+9qfk4pc76msVAWOUgggjc3cE88FP1qdGuINltMwwgp8vNn5rXPj+4\\u002fG65roUcW6MaWcP\\u002fW3K9nh040tj2zaizKU7bKFCJaaz5MQeT7Z7jWeNZ5t7AAQxXhCGsJoWGkUadCvlSRJP2W5nmBk6wHn9cvEBBfZsl9ZlC14CQTHAAD6vhoh8NFm85KpOXde5nt9DR8IEy4rQlORzfsAwDCtFtVRbEObEItTpXmYgVHe8svGqcy8RoQa7ZLImA3vy6s8P77C1jwvvHkfIAhV4AYMDa3ZodTJSLbgJTLWpRE89OdwhIzQuLHMdVZX6FBX6JD8dgMr6UERnMFNLZF9qlce6BgHzycsluKOzl1KeZ9bCacIBLFfvtC0aApKEuEt+6M7D1svOOvYDx4DAKosz\\u002fXt88l8Fx+M+N9aj7utYjyhvGdMVxU6bzyXzHPyoWjPC5+EPv9S20qjqPD3t4c37fW+vErybLtkgWF67bEf\\u002fVnbyvmtc00LJyFEqqMXeT5+sKnlwaekXQBgRpfmPXBD4OMtXU+8JQslMgZvv3yR5dyZ8nBD5PlEc1fTXX+VdslCt\\u002f2KxUxNMULgnDfof2td4KPNAKCfVG27fCHhsiI4luz0BT\\u002fe4n9P\\u002fZBzBk5h5rUjzNYu7WzoJ1ZZL5pLFXtEjk+2dvveWBv+Yi9oHkqJjMFr1KUdfDaHI2iAIliJfXqMC7b6d8tCA2GjMEOU88c49WA5xz2BwJlkMtLRtVv5yuzT0WF9raHL8\\u002fN\\u002f\\u002fZ3mnz4+wDt3A6Hi579r\\u002fOvvEx1t6oJThXH8JOvMucf+9gd1wanFNn8JgqI9n36gkuurapzLVmJGY9Lbc+yvv5fn6bLpZ2Tgykxpueu8iwiL1b9xXfdH76hKB+5nUGSrNJtc4iQFM2QQQFQjKQwhRBAEUT3xZjTmgSgiCBoMNauKRhhOHNedU\\u002fiH29XSwYBSlPvCK5SSip\\u002f\\u002fjnR7lJJTjHH8pMJb71RLTw7pze+X4h\\u002f91Dx5OgBgjE5ddtJwX3SFY8m5aulgGEJLs1WaTX7moCOtRtrtNlYpX+dAY4YC\\u002fehS4+T0d3a6XeNyPVNyPZNVcvUszAhDA6VIwm3VT60xL57iezW1OGhoMCXluNmiln5jGHTzEYSwWGONDQDAx4Y4lXtaGHRLv8rEEn4z7cFQQjnC4sQEjlIIguToKhS6AAAUZUrvxeC0TLp\\u002fLSFLPLn3Xismkr431obW904TVvz8d+2vPu9YvByhqPDeXV3vvCZynK6i2n3h5Q2P\\u002flxaLYNbrMU\\u002fvFfa9VxxPeXJRQiy9J6HAMC34XPfmlUAoK+ozr36Rkynjzcf63j1eS4YAABMb3AuX6krqxR5Lrh9q3fVB9IyyPKHHu149Xn74uUqfQAwTZpmnXkWbrGJXNK39jPfus+y+cGNJtcFlzFFJUmfN3Kw9wYCSpKOpefrR41GECS0+8vuD98ROa01SvrKUbaFZ5MOl8hxkbr9nW+8JK1FMNSOM4weFz180L7gbEyn861b7d+4Nlvz6bxC98VX4GZLaOf2zjdfTrlGkILv3oEbTYAg+TffBoIQ2r2j693Xs+oDQKYMZFPOFnk2svlJPxwix2Vr6WDTm42MwWA6vfuCywiHk7DYEBxn21tbn32CCwWzVZoeufaJlM0PAJC4HkFQNtn7SAMAUKg+zocNuK0tql70xyVjCIpJH50Z4dRR8cs\\u002feK66ASUpTG8ovPVO2\\u002fwlAAAIUvzDe\\u002fVVNZKO9ayFnqtukE0s02fn3XCLvAsAFT\\u002f\\u002fXf5Nt2F6A0KQudfe7FpxiSTPu+EW53kXIgSBGYz5N91mX3C2tr5x3KSSux+kC4oAQXCjibDZNfzkXvWtnEuvRghC6k\\u002flS0L3BZd5Lr8OJSmUYfJvus2+cKkkzwbpcNH5hQiK4iZzyY\\u002fvN02YIskNteNK7\\u002f2FY8m5CEGiJIVbUksi0psv41y+Um6Lkopf\\u002foF09i7RkEnXz5YByKScLXKJbFdh6X6yHY6MLdVOb7ZKs8lVwbjOv9i18lIAwC3W8gcfkZufrdJskWdLYzY\\u002fAICjZKljVq55tCwBAAKlcITU46lDr8RsLirIn1mQP1Ml1+rA5E8S2HJG9S35imGwFhCUQdoeWlsIUp9fNR\\u002fDKXXBAPBvWCskWD4S9n+x3lA7FgBAFANbNpgmTZUUjOMmBrd+oTRJx7d2FR8Ji8lEZP8e0pUDALjFqiur6PnoPTGZ5MMh7+efmKf2Ht10fQAwT57uW\\u002ftZvKkRRJELBZPenmx+EBTVV9X41qwSk0nO7wtuT4WHYJhxwpSeVR8ICVaIxQJbNxpGjz9eZ2YS3Z3x5mOiIHDBQLThiLKPQFC0+5P3xGRCSLCc36cwOllkzEA2NCIfLBkPRzpDSO+goHJyYw1HAIDz+5J+L2F3Qn+VZow8Yxq1\\u002feAoxZAWTkgoL\\u002fQwhNQT1giX4dDrda6m5g1NzRtUchwASNqI4bQgJNmon9JZ2agPwykUI\\u002fIr53e37Ap5G432kmi4C0GQWKjLYM1PxAKJeIikpU8BI7FQl+yBS8RQjKT1trCvSRQFWdloKwKAWKhTFAVZARDEaC1kYz5R4HFSB4DGQh0EpZe3dWZPkg0nYgEMp5RupdARFJPM2aifpI0pq3CnQpiKUGdy8xyLIAjPscq2yB6UYROUARAkyYYJUk\\u002fr7ZKrZCIi8ByGkzzHKtM3EPhIaq0THwriBqO0Hdj2hW3eEkxvwAxGTKePHDrQa5AJLuCXNkSek9Z\\u002f4SazwLLy14a5gB8zGOVHVdL1AQC3WDmfV9qWyegH1ekBRblQ6mazvIEZTQiKFnz3h9IuAIiZPiCqhCkqsZ61EDdbQBRxsyWwuXd9ABcMqB8hOclkzEA2NCIfLBkPRzpDSO+gSPR00\\u002fmFoZ3bMIMRN5qT3Z3QX6UZI8+YRm0\\u002fCT4aT\\u002fhxjFLOYSWFmJMu1uPW1mif89\\u002ftGkuRxuKi+TzPqvosHAA8ZbPCvmazq6Jx7\\u002fuOvLFdTV86CyZ0Ne\\u002fASUb+AKfBnGtxV4V9TWws4Mgf33xwladsZsTfanFXNex+W\\u002fbQdWy7q3BSd8suURRzSqZLyhF\\u002fq8AnbJ7aIzte05tzZQWSNiIoWlRzDpeMIQgaj3opndnqrpa29RYPiKKpZNqxvR\\u002fSBodsJYdOUAbJvG7rC\\u002flVC1MegmaBT0pCOcJgTwOjt+vMOc0HV8ttadj9NoZTkoe2+g2yf1fhJIygAl31jNEZDbZLruRKhwBuNCU62wEAN5nlX74Qi4X37TKOm4jpDcHtW\\u002fr8bvvc9k2R\\u002fu4qzu9HKQqlaSEeBwDcbOHDIXmSJV0fALhgQL7y6hVm8iNEIyAIuMEo9baYPjU+5UNBURCO\\u002feVR7bGJDILjudd9p\\u002fOtl0M7tgGA5\\u002fLr1BrpZAh82MiYgYwMJfLsZDwc6S0dbHoHS8\\u002fH7xZ89w5deaUoCF3vvZH0eaG\\u002fSjNGnjGN2n4EkT\\u002fSvV71Vnhe5Joiu9Mn1zs6d+n17kikQ6dzqopQAAAE9bbvj\\u002fibKcbceWyrs2ACQRkSsUCCDUcCrQAACHS37A77mmm93de+P+RtZAxOQFBJiBOM7AEA\\u002fJ2HAl2HAURZOR7pMdlLIoHU94dlBYMlX2\\u002fOxUgmyYZj4S5\\u002fRx2G0\\u002fK2wZJHUIZ4xItguNJKDl02BwClB1koRwgAruKpvo46AFFuC04wSg+yf0Hg2GjAllvLRv29rk4Ay8yzUIrG9AbztFnhfb2r5vyb1hlqxxlGjQlu36xQBy4UIJ1OlGEAUkvqM8IF\\u002fZG6\\u002fY4l5yIEgekNtrmLAv1dVwa3b7bOnkfl5gOCYDo9lZMLWfyIghCp22+dswDBcdxoMo1P3V0WeT64fbPj7HMxRgcIQlhtdEFRnzr6guAEShDJ7m4AoPMLdeWVao00Btj8oZExAxkZQuSDJb2lg03vYKFy85PenmN\\u002f+d2xPz8a3JY6W4ZQacY0avvRU3aPubbMOafXC4AON5sIp4spVfVZNG0tzJ9dkD\\u002fTkzNRVYQDAIhibtlsxujqPLZdFHiCNoZ6GgEARbCckuntDZsAQOop\\u002fF2H86sWkrTx6J53bbmpTwErPUSDnbJQVu48tg2n9PFIz\\u002fFvl6cUaL0dyf4FzZC3SbqUS8ZDFGNRdlUSGc1J2tRXmLJq3Pu+q3BSMi49QpExgJRQ4LlEPGhxVShLdSa30V6MIGh7w0aeSxw3GRDRQwcKvvsDzGAI793lW5tajQ0AbGszgiB8NJzs6fMms8iBvYbacSU\\u002ful9IJno+eV8+sdLpePm\\u002fzuUXlPz4fpHnQju2ez\\u002f7UK3Rl+D2zShB5lxyNW62iAnWu\\u002foTtr0VsvjpfPNl94WXl\\u002f7k50mf1\\u002f\\u002fFemmhEwB0vfu6fcHZBbfeien1XDDoXf1RvKlRWYsSIR7r\\u002fvCd3Ku\\u002fBQCxxnrfus8QnFQr9SVj810rLmFKynGTCUEQXWk529ba9uK\\u002f1ZYKsulnzEBGZY3Icy69ms4rwE1mURT1NWPijfUdr\\u002f9Po9JsZGxptvRmqzSbPHMwokgXlpTe9ysEAYFlvas\\u002f8W9aq1FpNjKmETT9sFykK3QoGGtX+olxwTx9jSDyqtWk8bivuXVTONymXOPeS1HtMkT+FDCCFtUu0\\u002foUcKZP\\u002fSg9KJGUi0cvRzHcXTzNYMnLqJANBOnnm8AZzTMKs6GtrF06ECp++QfSkeEGlkTBd+8wTVAvjRthhJMBlZNbctcD2PFZVMrtKX\\u002foUSTTl71PBhkXjjKY0c2UlZumpl8VShgN6iEwDgC+dulLvAAAFldlZ+NmrU8BZ+rzlB6USMK2+g2uwsnxqC\\u002fsb8mokA3tUsiikFGYDW1l7dKBkn4sEARE0Th2Im4yh3Z9qS4dYYSTAGYwioIgvRoGwTCmtJwLBjK+v\\u002fBkEEv48yzjBJFTDqZYIYoiWGesQTXCMpkKjIZcFMUMBs\\u002f+A68qi9J\\u002fTCMMJxW\\u002f\\u002fEPjY79NdHUqhYbase4Lr+CCgY7XXtAee48wwrCBII7Fy4xjJyI4LgoC29LU\\u002ffF70u2gMxCKMrFsUKdzRqNDefX7CCOMMMLQYQizy1hZ5pytvPojMV2NZV6VebZCMYXZVKgWAYD2wlGJggL1NJYsmThBPYGqUTTCCCN8Y2G5MIbgnYqXYQEALySaI3vjvHQrrA86nZNh7CSZmnGTydxhjR9HXHqxrqwUHzeWuOtOY3U1Xl6GX3+tftJEUpZ4crBxY4mMynJRaQl+07f048cRso66ppNG7gM3uX94pVo6wiBx\\u002f\\u002fBKx\\u002fXnqaVfHb6ip0Her79nPmemWvpVhsT10aQ\\u002fFO9QCgUQGNyklMjE4l6zqcBmLVPJM3dYggAWCxKJiHv3JffuSx44wBmNSHsHP30aKUva2nmSzKwsFy1fRj\\u002f5dGTHzqSs07eeYQAz6MgCt1o6wnCBIIP6jNXpYuQ00Oa05yfJx0x0jupZQgxwHCEDiT69mATPJyjSBGnLVjN3WDiGeL3CjOkkx4HLiVWU49OmUBYzKvAgSyrK8dG1xNgxRLqyXHToMHfLtw0Tx5OyjrqmE8YwZ7zp7NQSoRGGnY4\\u002f\\u002fLfnP++ppWceX7PToOXevwbeVz9GdyKc9vzwQrItsLctsFcp5MRES3S\\u002fP5Fh4t9o8DQ2rQEEzbRwNI3tOxK79oD0Zohf\\u002fTYoCHDocBhFUw+QSBIAuP0HfklfpSwX7dqdxLDUNzZkneGFGVvO9QTU0hG+YYycBtqc9vxkfKc7ienKjVN5kTsYWNdXHcKRjsL8WWwipFrxkLnDAujtXOSFGukbMunKMoovAvWRy+Q++O3o9gMIgZsWTUV1dGzPke6n3pQ+tEvmu\\u002fIfvaP90eei23ufjcy5+1qUoVsffNx951X0qGLMoAMA08KpUmnD1feLfCoIkeMtF8wzLZqG6ZlEc0fPc+\\u002fFD6bWEDBjym2XLiKLPEKMjXyxx\\u002fvCh0KMlYpyH7gpuvswCKJpyTRMr1MZakQLAMVP3d\\u002fx\\u002f57HHRbLynm43cx1+9t+8wzX6eu3Ut34Kuuli8h8l\\u002fy2+Nje+rZfPtWvW8ykt6yYqxtfhTvMQjQe23+057n3eF9QN67SesnC8PqdtssWR7Yd8L\\u002f+mfuuaxAM63zsxfihY9qlUqUFf\\u002fwR4bYBQHjj7s4\\u002fvSgJob\\u002f8QH9tyYZGYr8hpwFC4MXP\\u002fEx+wDiyeW\\u002fH\\u002f3te2pYgC3PsVy2lq4pFno9uP9jz7Dt8KCqXIhRhvXCBfvpo3GYW44lEc0fnX17iegL95oepLbVesogscAOKcl2+0OfbA++qu48TJ+PDz9Kku5VSrw4FAIa2RqJdcdZfVDj3WNNaeUVk1g7rVGI576zYvvrOv76M6mj7NcvcP7iy5YF\\u002fAECiuTN+sNE4f5J8pmIGHTOmvOeZdwCg59\\u002fvAIp6fnI9W9\\u002fi\\u002fd\\u002fHkoJ8GABAN76ScFm7n3pTZBPWSxa5f3x10\\u002fd\\u002fJ8RYprbUc891oc+3e1\\u002f4EDXpbZctySlwt\\u002f7iKbm7NS+bxbX3dD\\u002f1lspQKs0Wbcp26QyEJHqefVeIxumqIq7LL8k1KiU8DvePrvK9uqr918+QJbk5d13je3WV\\u002f83PZZ8absVEEreZ\\u002fG9+nmzvJnLs9uvORakV7Y8+BwBkgRt3WLqefNP1vUsIj6PnmbfNy2dbL17Q9pt\\u002f9VsKAE0\\u002f\\u002fAOqoz333iDtKtHIz0Dako1sif2GnAZikmu4+n6EJFCazPnxNbIrCcJly33w2\\u002fH9De2\\u002few6lSdsVS913XtX60BOpYhT13H09WZTje3UVe6QZ1TN0VZHUgWrnB7MYc+6+Lrhqi\\u002fe\\u002fHyAkTpbkCZFYyuewYmI8\\u002flgLQ1iUr3XX4RYz6U4KbA5T0R47pNTHUBJwxGHweL2HdDpHJJJayXhGdFiiIHT+5SXp47oim8y55zq6qkj6axZatcXx7Qsxs0H6jKV+xhgQxPDGXQAgDXFFXhDiLNeV+vOlBMGx9keelf4K8eG38397G1WaF9tbb71kUbzuWNfjr0tqyZau\\u002fEe+r59SE\\u002flijyRBSSKjoVSqES0AELnO5rsek06I+IGjkhAANCrVja8Uk5z\\u002fzc9BFGO7D0d31tHVxdD3R57NrRBPdDyWGv7E644ROQ7T0hnSLkIS\\u002fnfW8b6g7bLF7OGm6I463Gm1nJt6+lS7FABAFIVILOMXjzXyM5C2ZEMjsd+E00CSiIkkn0imv2XUsnKuEGM7\\u002fviCVCMfiuY++G1mTFls9xEA0E+spkcVtz\\u002f8bHTHQUlf7ty180O4bQiBhz7dkmjqAAC5dcMOx8cx3NgTOaocYcX5cFusjhMSFjJHoQsAEI526BlnNNplt1cda1oryzNPup9iEo1t8g8jtq8eAMjCVAPCm\\u002faIcdYwZ4K0a5g1Lrr9gBCNS7vasA2t8piZ6\\u002fYDAGYxIjhGVxREd9TJaommDs4bYEb33kDNaCiXakQLANGdh5R\\u002f3iW0K0VoEnih94YIJ0Dak94Z3aaT7PSiDCVfVvD+EAAIkZh01goxFiF7\\u002f0Rpl2qgkZ+BtCUbGon9JpwG2tA1pfF99XKNbH0LiCJVnLqYomtKhGhc7q0GDlvfkmzr9tx7g2XFXGXrhp1Ywg8AedZxykn0pBDnhAQApM+7B4NNbR3bY3Hf0cbPBKG3+x7QCXqyUY5CxSQnJpKY2ZDaTSRD63aY5k8KvLMWd1joysL23\\u002f1HVtaGD0Z6d6SfEIKgDAUoKoR7L\\u002f4BQAhFMaNO3s1oKAs0ogUAQWl7HO1KYzvqbJcsMi2aGvp8O1mYw4yr8P73A6UmZHELAAiGGhdNNUwbg7utmFGf+iyohNDbcYiJ1HvNehuiXaqJRn4G0pZsaCT2m3AaaIMZdYbZ4w2zx\\u002fcRWk1yqfTnZ7CISa7lvr+Zl882nzPTesmiyIadPc+9p5waGzYQlML1sYRPNYmekcKC1EjfoHfvO\\u002fCKsuiM6LBQHS1vIwSOkIQy+6FPt5jPnkFVFDDVxXwoGtvZ+weqH9IWcQCAEGVFXkCNeqUQNer4Q029+5kMZbSjzYh2pWxDa8+\\u002f33XcuMJ+3bm8N+h\\u002f8\\u002fPgqi1KTQ3s1y43zB7f\\u002fa934vsb+EDYeNYEx00r1UrDTvb8nEhbtBP7tT8NtBHCsdiuQ743+lxcC6FUtyhE48ruclAIMdb3yqf+11frZ4yxX32O644r+r1DMgR4IdEROjjAtwl0dO5i2QAA6PUuVdEZ0WGRpXkIgUvDXaa2FAASjb1DxERTB3uoyTBjLF1ZGN6wSzXSFtkEevzjvQNB5Pn4gaO68ZX+N1ZLErLAjdvM8X0DvXrXjjYj\\u002fVZqmDvB++JHA5ycVqKbNCq8fmd47ZfSLlnk6Vt+GhhyW7QT+004DTSI7T1ClRckjrVn7EZj+4+alkxnRpfF9hxRlwHAAPIj8nx43Q7MqLNdvkRdNhzQuNFpLMcx+mj3JnmQRWNGCtOlLxxl2YDJVGAxF4MoyNPtEmfEHBaC4+4fXsmMKdNPqXHcuCJ+sFG+uS4RXLVFP3kUVZoXXpP6ZcrEDzfpJo3ST6mhSvOYMf3PBQCA76WPqfJ857cvYGpK9NNGu++8ij3SHNncZ0mbBv1GmxGNShECp4o8XI9\\u002fgFdkSpLtPUxtGVVRQBbmWFbO00+tVWsMFQTDMKMOIXCUxDGDboAv\\u002fzyRtvSb2K\\u002f3aaCN7\\u002fXVuNXkvvMq3fhKuqLQMGOM69aLpcUKABDdso890uy643LT4ml0ZaFuXKXt8iXKOals+dFPrrFduVQ3sZoqy9dPqTEumBLb3yCXDiOckMBRCgU0x1wjC5NCzES4cnXVCsUURkNuNNad5GIDWjh6iols3sP1BFy3XYbSZGzPka4n31QphDfusl+zLNHSxTa0qIp8r3yKmw3O71wICJJs627Z\\u002fXeVQjrxumNtv3rGdsWSnHuuF+KJ6NZ9Pf\\u002f9IH2KNBv9RpsRjUpFjo\\u002fuqHN971LX9y4FAD4cje063P3kG\\u002fIddA26n3zDcdPK3PtuFHk+snV\\u002f2y+fyn\\u002f0DrXS4DEvm2W\\u002fZtnxvbyiJ+4DgK4n3gj1d313Im3pN7Ff79NAG67L13L\\u002f322XLXHddilCErwvFNtzWEimJh9Fnm\\u002f71dPWSxdLc+dCNJ5oaAHFM1XZ8sP5gubyfOO8SaiO4gPh2I4674sfyVbDCIriJK6PJnzKxe4ESptJV2e8If0T9j7\\u002fERyjGdqmkg\\u002f6z+Cwk\\u002fvgt7meQOef\\u002f6cuUIDgWNE\\u002f7\\u002fW\\u002ftWYIFxrDy0CiHRwI4vnJ9WKS87+9VoixCIpgFqPjppXhdTu8L3yoVj7DOYG2DCSxX+fToC+5D9zEByMdfzyhr5+cUZC43m2sYrlwZ6h38hFFsBLjxDgXbonuV+hqcUaMsPq9fNBPG42QROjz7eqC00J\\u002f0Q4KwmNnxpQ33\\u002fOXRGObLEy2duF2s0Lrq8GJtqW\\u002fxH6NTwMVmNmQOKae2flKk+AiHcEDgtg76AMAQeSPhnaI0P8AUyZDh2WoyddXesL7miN1vafdaQFlKCLXidtM9qvPCX78Rb93Yb6KcD0BIcZazpsTeG+9dK9HP6WWqS39Kv51PUlt+SacBgBgmDWO6\\u002faDIOqnjSY8ju6n31JrfJWhcIPDUEpgTGPPZsWku8FJFxMo3RDaNpDlDpCxw9KVublgTF\\u002fhiR5uF4UBeTlJ4C6b9GiI9MiVuvhrgcgm23\\u002fzL+sli3J+cj2mo4Uoyza2dfy\\u002f5yNb9qlVz3hOUlu+CacBAJjOnk4V5khzTJ1\\u002feenkLTo\\u002fLXB8HENJXkgoOyZOTOAohSBIjq6iLdpnnYrbNQ7DSACxtW2rUp4BXZk7\\u002f1vzbfN6J\\u002fNVvPCPnNlTGbV0wNxxs2XbJ4X3\\u002fcCmLhgOzjtbf\\u002fftVrX05DN9Ev3ykxmWFAwhnq9Tft57Ps9qHtyd6Lkzh35qDQqmuKz49ruHdmVXds8vjLXj1NIThnS4Su96sOJnj5b++GfqslPFiaRFg4xfzaEwfZ5+VLFxQvpXcwoL5uR5puZ6JqvkGUZYQjzZ8eYW4+hCdcEw8dgT\\u002fjgrOmwDuk0+WN7+MPL2hxkWGZ8uhhDP1yk\\u002fy65U387rl5\\u002ffbZ+7olktPTmIAp9xWdPpItHdWf\\u002fog6ZxkxyLz1WXnUJORloyfjWHE1gMIXkhmX49yCVjCIohaeuuMnRYhuo8zEhzgSiCocobrg\\u002f8yHb2fH1LG+dypn5LN19tvnylEcVgzcbYzx7pSZfMnsrceYuFZcXCfOKTNVFJJ510P39\\u002fxFVZSup0yEerU1ZvP5e7al1s1lQ6x4Wfc0VLbRV5z+02jhddTuxYE3fNbe2iCLfeYLnuMuOqtbGf\\u002fKobAKZPotN1HnnAUVxAFBcSdiv6\\u002ffu63v1Y\\u002fet99GcOHYPOmEy\\u002f8X74onONP7i\\u002f67N10fR45s5kHrzLznOiTocuubQFAJwO7KUnPDlurKmZu\\u002fp7A40nve3ppOukx3OS8hMICOlHUFVXKCzc9wPbork6AHjno8jv\\u002f+4DgLtvt04cQ8+dySy6uHnPgUTGVqhyWFyA33O7bdJY+u3ncgFgxXWtggA\\u002fucO2aI4OQaH+aPKmO4dzHjp29EjjX3+nln7jOUlpEUFs9u9QShBAXUxZUogZcLtSLhGJdZmMeWppxg4rdqxbFEVVb1VVRi5frJ+xrAlBYPfnRQBQVkxccaFx4UXNoggfv5Q3ZTzt9fMqCQCUFZMTFjYCwMb3Cl54LXTgcEL2KZHuZ8uO+B33dSWSIoZB\\u002fZaSBx\\u002ftkbr7OCtcfGPvfYCxtdSoWUfZhLj6jfyaSnLvwcTfnvEHgvzoaiqbzqH65PLF+to5jVYz+smr+em9lcQna6J1RxIWM3bnz7qWzNV9ti6qigdF4ZnHcuac19TSzslWhXnE2Ze2DCqeOCumt11Wlji9+Zk9lcl4BJV1zZrCzJrKLLiwGQDe\\u002fW\\u002feui9iX2yPP\\u002fxnHwC8\\u002f0LqnEtvxfbdcVUO9xxIXH9HR91U5rxrWiUJAFxzifGq77Z\\u002fuYcdwhc\\u002f6fwix4KlVF4BgmJse2vnu6+x7S0AgJuthd++A2N0Iscd\\u002fvW9arNMIBjmOvci45gJYiLhXbdK5I4\\u002ffQkAANbZ863T5qCMjm1r7nr\\u002fjXhraoSYUV52zy863nrZNnsBlZOb6O7oeON\\u002fsr4GGV1B9jZSOXm5l1\\u002ff8tzj7gsup3ML+Ejo2OOPcaFg2f891Pnua5YZc+ncfC4Y6P7k3dCeHZKrbGnRMEFw3LXsAn3FKJTRoSQpsPHgl1s633tdttUCAR\\u002fbEufDejzDHIVe52pq3qCWZuywEAw1ji4AQYgc7D1vykqIPfsT0puC9h1MAMCoSrK8hPjof6kz0mBA3S5MJUkmxLojKau9BxKlxUR6h5Xuh6aQP\\u002f7SadChcVa0mFAMQzhOBID1m\\u002fv8mHfsibMJEQC6unmjIfPprNJJJMXV62OvPOUBgD894Vcpy3T38DYrFmc5Ni7SFJIej8eF9fh4ZW8FaXUpi2RUOiVF6oz10QaAMyA\\u002fGY+gsq5RleTWnXGp09y2Kz5mFPXFdnW3m96KXDeensN0Lrqh7ce3WksKid\\u002f93ffeJ5n\\u002fwGRDiEWDu7dH3\\u002fyfyHHOs89zr7zs2D\\u002f+AABcwFf\\u002f6IP6qhrPRVerbbJgnb1AX17V9NRf+UjYec4K3GiWi8wTp5knTG15\\u002fiku4DdPnp537XeO\\u002fum3fDSSTQ4AzqUr2l5+jvP12Bcs9Vx+\\u002fdE\\u002f\\u002flr7g6YarrK1EQBwk9m59PyuD99KdndRuflcKCjJXedf0v7a8\\u002fGmRvPEaTkXXBFtOMxHwqCZlmwm1plzqdyCo3\\u002f+rcjzeVfdlPD2aPdWCILKjxOKohDnwzhKRjl\\u002fHyUAt2ssRRqLi+bzPKvqtjJ0WLoyd7ylBzcwgCDypWxDY3L0KFL6K1dZRgLA\\u002frrEsWZu6RUtPA8EgfC8WFJIqCQzJzOjKkkMA1GE0aMo6a+uinQ\\u002fZ8\\u002fX2yzYpTe32SzYZSt7Hy8Q+t6ylN9lqkG6jsuB3ffrnoNH1P2mkuONTjF\\u002ftk4VT3sX77BhOS6svZOH4yty0utKR6WT3vY+xVl0TnF+Mh5BZV17DrAXnWuQkjBlPP3eJxkubNNbgWGIKoeiCIIgMjQiv4wbAI4cTd74ww6bBduzpih37OBunCV6uhI9XdJ2YOvG\\u002fBu+pzylB4V54jTfhs\\u002fZtmYA6PrgLeWMu3XOgp5VH7JtLQDgXfOpddZ8fWVNcMeWbHIACG7\\u002fIt50FAC6Pny7bMJUprQievig7DAdDVcabURw3LdxjfSl3uiR3ntwwS+3RA7uAwDv+s\\u002fsC8+h3J5o\\u002fSG5NCPZTOi8wljDYSGRAIBIfZ2hqlZlKIEgaI5pFIiinnYe7vxcltOYodw0rTPe0NX3488dnbv0enck0qHTOWWhRIYOK7izEdORVI5VeWj3H0p8vDq67u2Co8eS9UeTAHDkaPLx5wIfv5TP8yKKIudd05IuAQCvn3\\u002f+756CPPz9TyMHjyQMevTvj7hqq0iSREZVkPf9pjvdasuX8XvvsL3zn9y2Dn7XPlaOQRscR57+o7u6gjQZ0MI8\\u002fOe\\u002f96o1AIwGFEXh74+4eF7U6dDrv99+qL7P2D4j6fEkk+K3f9Tx0pOeBCviBHLBdb1DUZmBxJPedhRFzqj8QNoRVNsAbNoW\\u002f3xjbNVr+QgCH6yKbtyqHl5BppZGY+oc+gKCIMDLb4U2vV\\u002fY2JS85KY2FIVPX81PJEQEhb8941c77Q9Mb7DPXawrrUApGhAEwTAEQcTBd1gIihJmi\\u002fz5bi7gk1+wh2AYaXN4Lrnac0nvqISwWLPJpY2Et1vaENg4FwqQNrvG+1y0XWm3kW3PcGb2fu1ZFMVkEqV6XzuRjWwmie5OpqhM+pS0rqg0Y3USvsgxAmdiyYBSmBBiMT5IIH3emwwANG0tzJ8djrSRpLG+\\u002fqP0Kfk+GGryPZdMdywZqy4YPLOnMi\\u002f8I0ctPX384NuWW643S9u\\u002f+on92ktNfcu\\u002f6aTn5wSP4Mb3CooLCLX0VFFw0+15V9+Mm8wAwBQWV\\u002f78D4hiJkxfVVN+7697tbODoGjlQ7\\u002fXlVfJkvL7fiMNshAcr3zo9\\u002fqKUQiO9\\u002f5D0WxyACi75xem8VNkVyV33m+eMlPeBQDTuEnKZQ0ariB7G6mcvMqf\\u002fwEle+crJcr+7yHjmAnybvm9vzaMGqMoz5AWDROUogq\\u002f\\u002fYOyn\\u002fyy5If3eS69FqWzLkkhcX2Ve2GBdaJSiCComykrMvQOV2WMxjwEyTCPkWGExRQ7217e5Fgydsjj5zOW9z6J\\u002fv0R19L5ehyHHp\\u002fw20yXqN9k0vMzrkZ9xg+EebOY+39oxwnYvD1+tKn\\u002fMezJAMFxpqC4+dl\\u002fcsEAABB29cXFwBEFIRnwUU63dOGGGYwolUqLyHEJbzeVkxs51PdpOEHILAcAAPJ4MChN40ZT8viAKyNZqxjWNg4NwmLDzZajj\\u002f1GmlDTJprwsVxYKdH4LmEo1AIARkNuKNxn1KbusGzzagir3nPJdITET7y3Wrc5tm5zTC3NBIKgoiiC9tjvxEAQtK4+sfDi\\u002fu\\u002fIfGNJz8\\u002fAj6CS1etjq9ef5jyLHMdFwrqS8tjRI1ROru2sRWqNwRDcvtkyY270aD0fDjoWn6v8PJR39cfOZSvZzvb4sXqU0enKKkM7twmJRDY5AJgmTo0cPpDs6bIvWMoFA9GGw701ZSKbq+Ft4xAQkgmUIMru+QUACAk2evhg+2svCIkM0xQJLtLk264ScmKiI36EF9R\\u002f0kymAqMhF0Uxg8Gz\\u002f8CryiJ1h+Vdvc9QnWcYXSDGMsxWnCRQnLTk14Q6joAIyXiIMbsxShf1tmA4lYyHCNoIAILAEYwxGQ2gBJWMBjGSUe4iKEYZbGzEJ\\u002fKcZB7ubEAwnKD0yViINFjZkNdeOinQdjAZTd0rGeFrT8drLziXX2CdNT\\u002fR2dbxxov5190iyV3LLjCOmYDSDIJh5T\\u002f9jRCPd7z1cqRO6\\u002fkh77pVhNVWcONtYoLtWfMJYXPIRcGdWxGScC49n7DYhFg0dqwhuGOrhhwA\\u002fF+scy49n8rJS3S1t774L7n7y7ngcn1lTSqw+34jsLH2V5+PNhzWcJWtjUNgsGlBKargW7dJOqIgYHpD7uU3WKbN9q79VK0KYNHlYwjOEJYW\\u002f07ls4QZJ92DwSaWDbBsMH3SXb0iHgBcyycmvCHcwHR\\u002fsvvEB1kDwVkxHcWJUEe9s2Ja4xevmTyVACLHRqVdV9VMymjvObKNseRQBhvHRnsatgGAJb9W3rUWjsUopnP\\u002fOlEUJPNg26HcsYtJgzXS1RjpaY56W3LHLJKU+SQLACvX3dq6+sjmn36ojgYAAEbdPK3qukmrrn0xWJ9hcvpMY\\u002fRtM8svHy9tN31Ut+3nn\\u002fQpHg5OZUJOQXNOI2X3\\u002fKLz7VdCe3eqC75q6ErKPZdee+ThB2SJ5+KruWCg66O3FVopDJSDwo3RhC+W9MtCCtPl62szvl7GbCoMBI+phJDxjaPBnY3JnjBmoE9NbwUAoihgJGN0lQhcEgDYUDdlsMm7yWiQDfagOEGbXWzEFw91ozhJMGblrijyIs9LN0ckcwBIRPz+pn0Cz1EGGyCIrNy38q8Dh\\u002f775ZrvvLrlgY\\u002fUBV9NvmbN+bqS8HajNKOvqkVQFKVo49iJ+urR6RNtEkk+riOtOrJ3jSgCiI3K54Qkg5vSnyXU6ZwMYyfJ3lU7EupLQgBAcDRS18afwkvC7sObAUFABGkOiw17uw5vlnd9TXsktXBXo2ySjIVadnwg70o3FHBKx7GRlDlA95Et0n0DBEFBFHvqt8n6XzNYX4z1xYhGv7pg8JRdOi7WGW5dfURdcAoZxuaMcPLgAv72V\\u002f7jWLSMvPRagUsmujrbX3s+43wcgqB2QwmBMRTe26uIIHbG6nN11TG+zyscJGJxr9lUAADtHTuUcnWHRbnNORdOjdZ3EjZD8zOrT9kgS13RIOvtPpK6pE8hm4siAAzwWx0jAEDJBbVH38o6bTHCiXPkt\\u002ferRV9ZQnt3DuTaVhSFVv9utRSAF7mmSGo4ooLnExRpkr6do0TdYbEdgc63t0XrOwfynukRvmboPEZDgUUtHWGEU47R4GlsWpPjnqB63bu6wwIABMPcF0wFQWh\\u002fbbO67ITJmVVcuLTKUu2kHQY+nvQf7DrwzJaenW0AoM83L37xqtU3vjzux3ONxdbDL+xoeGPvtF8tNZXamj85tPP3a+S3CWo4AYBRN08rWVn78WX\\u002fqfnujNyzSnAdGWkNNry2u+HNvWkDz14MBZbZf1rBJ\\u002fn1d7wVbUvdScRofNyP52Zzoh2GxOjbZubOK\\u002fvo4udKLhhdevEYfa4pGWIb3z2w75+blr13Y9P7B3b\\u002feT0A5Mwsmv7I8s4vjm340TsAoPOYlrx89eb7P2z97MgAKzpBKq6aULCk0lhsBYDR35s5+nuppYwH\\u002f71t\\u002fxNfyGraCZEoPr+mZOVoQ7FVSPDePe0Hnt7s25daIy5hLLJWXD3ROSmPsur4eDLaFjr2\\u002foEjL+9S6vRLtlpIE7X0zes7Nh374ifvK\\u002fU9c0qm\\u002feac3Y+tU1aUzYmExrGTFGpvmVFwTtWnV70w+nszPXNKMBr3H+ja+4+N3t3H14UPwAlG4RVXTchfXKHLMSUjbNeW5v1Pbo609BlZYCRWcfXE\\u002fEUVulwTivfOO+\\u002f564bDL+yAAdQCmmdRvz89Xa5JW0H5ps8TzKpEONJRmD+LTYRUV4sZOqyMzxIOF+VXjKcsTNuahmhHmHEZis8bNeOR5Z9e82KsMywpTLp\\u002fUctnR4QEX\\u002f2tKa4pBf66rmhHqHhFbfv6o+0bUnNY\\u002fTohzfSsP56PEljDG3sFTig4u3Lcj+fySf7YuwckBRXGYuusP61IBuLrf\\u002fh2vLt3CdzEnywQBTGbk37DkKDt+lE3Tc1fUtn62RHWFzVXOJJhFgD8BzpN5am747axnmSYtdbmAAIggrnCAQD+\\u002fanDPMCKTgTvrvZIa9BYaB1189SmDw62rT8qyUNHfUo17YQAwNg7zyq9cHT7hqPNnxzCdUThOdVz\\u002fnrh+h++1bMjtfzPMSFvxqPLEQxp\\u002fuhQ8KgXZwjHxDyUGNzLvzRqSQTZtjUNnrmllIVh\\u002fb0ryAqXVQtJvunD3kf2NJzIOtmOXa+CTTfrj+ez\\u002ftih578kzXTx+bWzHlux9ruv+etSz\\u002feBphMUR2f+4Tz7OE\\u002fr6iONb++nbLrCZdXu6YVrbnlNmflxP5qbv6TywNObffs6rDXu6hunRpoDW372UaS5t1\\u002fTqEWi37NI46cXOubXVpB\\u002fm8OSVQBgaGsk2hVn\\u002fUWFc481rZVndTJ0WBmfJRwuNt31LhfrXSfmP9A5+cHFrqkFje+kbi50bW858NTm1tX2Bf++LBlN7Pp\\u002fa3Edkb+owlLtkpPSrxMAEEVYfdMrQpIHgMa39i155Zqi5aNUHZbACQBgKrPPeuz8aFto44\\u002ffSQTiSgUuzq299fVsTgYSBgCgBOqeXrjqmhd5NvUAmoRvf2fJytTDovaxnmPvHSi7dJypxBas95orHKw\\u002fFm1Pvbx8gBWdCD272wDAPtYDAIEjPdLILh3thNjHekovHH34xR17\\u002frJBktS\\u002funvx\\u002f64ee8fsz254CQAQDJ1473xAkdU3vRI80pNy+vSW1MbA6LeWxnf25y0sz19SeeSl1PQKaabdM4raPq9PBFM\\u002fjH6dSGQ7dkrCTf6tD34sbbd+dmTuExdX3zR10\\u002f+9KytoOCm5YLR9nGffPzfVPZdaVFn\\u002f6q6F\\u002f7liwt3z19zymiQhjFTh8urGt\\u002fdJOl3bWgwFlsJzqllvVOlQoxaJfs8ijZ+e1GFpKEi\\u002fzWHMKoaSgCMOg8frPaTTOeTPqaqXNdjm1djn1ZjGFeF6SlU0LChTBgC+\\u002fZ0AoMvpvXkZavACgHRRFjjYBQBcNMnFkoS+dzlCv04AoP6V3dLvCgBYfyx0zKfPVT85yEUS5nLH7D+vDDV419\\u002fxpqq3gv6cDCQMibr\\u002ffJl+bPwHOkkzTTv1KIFaql3t6xvj3RHb6BwAsFQ65OEVDKaik412QvIWVQDA0Tf2yhLWF\\u002fPubTdXOCgLAwDWGpfOYzr23oHe3mrw9FtL59amaHuoaHm1rFCwpBLFUWX\\u002f3q8TmYzHTknzR3Xytm9\\u002fp7+uyzkpD8H6\\u002fLKyOcldUCYkhSMv9V6lRttCrZ8dsY3J0XlSx9eQbwaAYEPvgCvY4AUEGKdBlkhkq0Wi37Oo359evwrDmNVwtANFsGi0y26visV6l\\u002f6pR1je1ftcyyd0vvulY9GYk3FJaMg3l1w42jbGw7gMhJ5ASRwAQPECaS6aBACREwAgGUlIQpEXAe3V6dcJAESa\\u002fcpdnuXSrztIEz3jD+eSJmrv3zZK9arQdjKQMCRCjX0urCSkM8Zc7uDCCYzA\\u002fHVdvv2dttE5R9\\u002faZ65wKH9dA6\\u002foZNNPQgrMALDoxat6NY5DWmjWH0v99k6gt4IB1AIiHHvvQPW3ppgrHYG6bgAoXFYdbQ91bWuWNft3cpyMx05JtKPPhXm0NWipdFJmOu6NysJsTvR55lhXWPXTlYYzhgJLtC0EAFIwupze7knnMQFAtF39zEa2WiT6PYv6\\u002fen1qzCMWQ0Gm4LBJoPB09Xd5561usMCgGhDl+eS6clAdNh7K1ute9ZjK5Ih9sgru4JHehJBlrIy0x9e1lert9KM3+wZmBP135OM5M4va\\u002f7kkGtKwdRfLl198yus4gyT0HAywDAk5FGJknh3JN4TNRZbQYRQoy8ZYr172guXVRNGinEZpO4MBlnRyUYjIQCAoAgA7Pp\\u002fa9NvMcd7enOb8bAOnIHUcuy9A1XXTy48p3p33TpTmd1c4Tjw9BZlvQNxIpHx2GkgeVa1UMNJ+t+dlOS4i2hbqGPTseLza4INPv\\u002fBTkuVq2hZddOHB+XLWxmNWgZ2FvXz0+tXYbiyWlgwR9ow6N37DryiLMrQYYX3NYf39f4tGkbKLhuH0fia774WONwtSRzjc\\u002fuq9M+wOJFoW9uw9cGP7WM8s\\u002f50\\u002fvTfLlt3+xvaw1QlwxKGf3+nocCC0XjPrjYA8O5pr\\u002f3uDPuYHADwH0h1WMNS0UDJcBIOgnBTwDkpv2t7i3TtkE6kNQgAphKbumAw9FsLAEjjqfzFFXv+sqFgSaU05lIqDMTJANG5jcoxo85j4lkuoRhNaBA+5reNzsFonI\\u002f3nnjSypKwYkJ964Mfz\\u002fnryvE\\u002fPksUxGhH+PCLO+Q5rwFyas6i4cpqR+cuaQWWXu9SFannsE4q0h3ZWFfvELpw+aje4oExLE4kpL8DPbvbtv9qlXWUa+JPF6Y9IZCVYQnDt7\\u002fTUGixVDqlDst\\u002foEvghdy5ZdH2EOtLnfHDUtEAYQMxANC5hzg7Js3mVF03SZVGnCGkDd\\u002fejlhnuOjcUSey2qvfWiQa39lPWRjn5Pzc+WXSrJaydIBOBkLhOVWyE2uNy1zh6NrWknEAkk7zR3UojpZfNk6W6DzG3Pllvn2d8toaAMhbUKbPM6+69n9vzf\\u002fnJ5f\\u002fd\\u002f+Tmwf+l1Xi1JxFw5VVlg2YTAWFBXPs1gpVUYYR1smjfeMxz1mlU35+dtMHB3CGyJlTguvIAR5amWFxoqL5k0P6PNOom6dFbp627\\u002fEv1MWZGJYwfAc6yy8fh+tJ7642AOBZLnCoO2d2cff2Flmn34owCtfnmwkDSTv0AKBzGVzTCrkwmwiy4Sa\\u002frDYQIs2BcJO\\u002feEWNwPHRthCuJ31727u29QajTc+utkPPf1lx5QR9nrljYyMXTdAOg2NCbqCu68uHVwOAwAlfPrx6+m\\u002fPmf\\u002fMpU0fHgw3+XGGMJXZuRi3\\u002fVefSk76bU6\\u002ftUi0rWlIBNnKqyboc02qNT4wYCcDwVRun\\u002f3Yis7NTYSRKl5Rwyf4A09uVitlofGd\\u002fZ6zSkfdPM1c4fDu7aBtusJl1UJS2PHIaqWac1J+IhhPRhNK4aDo9ywaFoYxq0ZDbjTWTeBM\\u002fwtHTx6Nb+8jjVTxiprx\\u002fzc\\u002fEYi1rq7f9\\u002fimOX+7QK2nybA4Sefgv7fpc82V104KN\\u002fmPvX9QXZzGsIThP9BJGKl4d0S6VgIA75526yiX7\\u002fj1IAygImuNe\\u002fafV8i79vG5M8fnAgDrjb5\\u002f\\u002fr9k+UAQBXHT3e+Nvm1W4TnVuI5kvdHo8cAGyN6\\u002fbfTt6yy9aHT5ZeNQEot3R337O4590JvPzi+OfX7zqxVXT8iZU0KZ6WQkGWkO1L\\u002fa+9zGQJrTby0AIK26KrtkrLQyS1kkMRAnA2Hrzz4uvXhMxVUTUAr37+\\u002fc+4+NykVY2oiC+MU975VfOaHwnKqc2SVcJNG1tXn\\u002fk5tVf2ka3tybO6906evXSbvJcCJwuHvfPzcpV6hq0+9ZNFwMV1Z9\\u002fiM4RjO0Lf0xw2Gm\\u002fK5fGGt6h7hapM83Dje6orKSW++GgV\\u002fpaZMl4KHUksXVyabsRw8ZayeopccZSkMyQTpcZXc+WHnfo2U\\u002f\\u002fJm67FQxXG3RoPaWGSvX3WootKgLhhX39MJl735r8oOLyy4ZW7KytuSC0VXXT178v6uWf3ATaabV2l93TukcloqSW+5WvmP7JCHy\\u002fIlOJh9HI+DB1qLh6vQy2IZkJNHdeeQPD7a\\u002f9aK64NQyLG3pF+Qk\\u002f+2Z8JMF3j3tWx\\u002f8+MjLuxre2Nvw+p6D\\u002f9q67\\u002fEvCANpPv6kxDeH0\\u002fabwY1m0qG+BTDsRBuPHP3n79TSIaER8GBr0XB1ehlsQ85kvh5tQTCUtunSFwlKC4yVK5u+IQzDHBaCYe5lFxlrJwjJhHf9KjGZSi6dV+SYt5TOLUAwjG1v7fgg9U1aBMcLb\\u002fg+5XQDQOV9j0jKB3\\u002f5fyAK2UwAABDEuWC5aexkTKfjwqHgrm3dn70nleiKyx3zzqFz80VBSHR3Nr\\u002fwBB8JE2Zr4bfuwHQ6keMOPXxvyslxbDPnW6emvqPb+eEb8bZmACj70UOd779mnZb6wm3Xp++G9u0AzYCz1pIlWg1XvbZ9MY+bQucXkw4X6XC1vvxv56LzCIut5cWn4q3HtNKVJS0AQFpthTd8X9XGrA3JnhbIkkZtMppoNITKycu75Prm5x\\u002fPOf9yOreAC4eOPfUYFw5qRJWtLdlMEBx3Lb3AUD4KZXQoQQpsPLBzS+cHr8uGpxGRF9rWNeQvquBiSe+edpEXKKvONa3ANaWgbU39CS7B\\u002fYZin7O49I77aU8+brLkXnxd1f2\\u002fl+awSJvTPG4KbrJgekPOiiuKbr5TacXkF1U90OezS6BpYho7ufT2+0i7E6UZJr9IV1p53MRRed+jjnlLCbMVN5iMo8bKJgBgqKypuPvXSgkAmCdMK7n1bionD2P09tkLy+\\u002f6BabTA0DZjx4qv+uXhsoajNHbZi6ovPdhTNe7vDhjwBLptWSLVkLDVTrmcVMq7v415c71rLyy4u5fM\\u002fnFrqUXeFZeCZrpypYW7TamNwSym2RLo4xpzCTVHFY2E42GUDl5lfc+knf5jUx+Ecbo5Exmi0omvS3ZTOyzFxbdfCdKkAiG5V\\u002f1Hfeyi5VWGkhzWMYiq7pgWMFoour6yQuevfzcD29a8fl3z3nnhtl\\u002fWlGyslb19M83hGFos3nCNN+mz+NtzVzQ3\\u002fXxW\\u002fJ0csLbFdi5hQv6+Ug4sH0j5fb0OwOqYYISJAAICVaIx2LNjdH6OklunTEv1ny0e\\u002fUHyYCPCwdD+3fJ3rJhm7mgZ83HbHsLH4v0rPsUADFU1EhFwZ1bwnX7+FjEu\\u002fEzQFHK7elrOlCyRTs0Et5utqM12nCICwdjzUfjzY242Qqa6dJIyxDamNFEI43ZyGai0RAAQHDc98WaWHMjH4sqM5kxKm0ymtC5hdGjh4VkQuT5aEMd5cpRm2Vh7983vjH7b\\u002f0+ZXKC8PHkwX9tXXXti++c\\u002feSbc\\u002f\\u002fx\\u002frnPrPv+mw1v7E1fTX4mkDdmiN137Tn5MADzE70kTH0Ut7tT2k0qPoqL6Q32OYt1JRWY9E1aFENQRHvph4ZJcNdWfcWo0u\\u002f\\u002fNHxgt3fj5\\u002fHWY5IJ5XDHmo8qnWiT+o7uhVd7LrxaFkq\\u002ffwBgs3zhdrBki3ZoCGwcAASO42NRABAFHsVx0EyXRlqG0MZ0E+00ZkTDRKMhEhk\\u002fKZweVZ\\u002fiTGQ0SfR0MoVlCIaLgsAUlsY7MtT19aZ2aT5lwDsPBzEctRbou+tDogiucmP7wQCKIs4KUzLGh7viUlEskCie6mw\\u002fEHCWGxkTGeqM4TQmbTRu7fbUWFp2+2rPyaf0eNeRkMAJkvne91PTBbZCQ9lsV\\u002fNOL4qhUhUYgborzXo7ZXTR\\u002fZqfaIcFACC9w+k4opB6Sijv0huEeLz5P\\u002f\\u002fkQgGmoLjwhu\\u002fLOtnQMBGSiZYXn6I9+ZYpswu\\u002fdXvP6g961n0KAICgg3vkEUEAgebnn4gePdQrPP6dJSGZ6BWeAFmjHRp93\\u002fgso5EujbQMoY0ZTDTTmJnsJloNAQAAkc+wsDtDVP2R0aRn7ScF11SU3fmgEI\\u002fFW5u6P3tfrXFKQFAMRPG0vM7b5GE2PnNo5rcqQp3xY9u6vcci064t\\u002f+LZwzNuqIj0sFycjweTphxGKsodbQ11xQsn2pMxjo0kCQbHcETaCHXGUQIFAGuBft3jB6deXRYPJiVzua7qRZ4NTx8CALkKBIENT6dq79f8RC8JpY\\u002fikg63tIvrjdLXsaVv0nq\\u002f+JwLBQCAtDmVVgAgSie34mvU\\u002fZoAQLytuf2tF9tef942Z7EkSXR3MLkFfbW0SH1H150rclzvP+1fGgBkCrhf0qOVGIKrdLTTNdi0DJYhpDGbiXZDTgGExYabLA1\\u002f+U39n3\\u002fV+uqzQryfW28IhlN6K4LhpM4MABhBkYyJMbsNzhIAwEiGNrkI2kjQxmw6KE4StFESStsAQNAGW9F4jKAQFEMwXKpF8iZXqgxA2iB1ZskPAEj+lQFk05H8yFAGfNzKwoiXBYBElAeAcFd8zHkFoc44G06ac3XB9qhcVDDBxpgIQRBFEUReBLF3w15izKk254yyJKKpPzBKc4nuhvC0a8tzR1vlKiJeduz5hTiFDcR8GEZYgR2brdPnxo7Vc+Ggc+G50g0vkeO4cFhXXB5rPEK5c22zF6mskr4eUeCNtePDB3ajNMMF\\u002fdomhqpaIR5nu9oBQZiC4qQvdX\\u002fEu+nz4u\\u002f+2D57UWDnZhBEOr8oevSwdA2VjZ41H7vOXpnoao8dq0cZnb60MrhrW8a\\u002fvUrSA1ZrKMgWrcSgXGVDO11DSMtgGUIas5loNOQUIH2+uPyu1OeLI0cOtr+Z+fPFEraCMQKftFs8lN56bNtb7qrZXCLKhrqlr8yBKOht+RhJ00Y7l4hn1KGNTlfFtEQ0yCWi4a5GV8W0o5tfS0QDAKK1YCyfjAXa6qz5tQKfDLYf0tvy48FOqVI24pMDYCM+T818Sm9lw14uEe1p2EbqzKIoKgPort9mya\\u002fNoNOXqDex660m5TX43vebpavy2d+uOrymvWKeZ8NTqdnDL547ojG389ZPtwNA+34\\u002fAGz+zxHZvOtI6lnOus\\u002faJPPWPT7Zj7zRr\\u002fkwdFje9asIi63g+tuEBOtd+wlhdUjy9jdfcJ1zgW3GfLazrf3tFwuuuUVpxceiHe++4lywzL384qS3W1oyo2GCMQbn4hWEySzyfKzlWNurz0nyRHdHywtPOeYttc9dIvI829EWO9YAAK6lF5hqU5+xrbjnNwIbb3\\u002fn5cihfQAQ3LUVJQjn4vMJq42PRWPHGgI7t8oVZSNjwNlqyRathqshoJGubGnJRraGqPUUaKQx5\\u002fzLDdIXjFGs4p7fCPFY2xvPR48ezmai0ZAhMKi2oCRVeP1t7e++HKnbJ4oCpjPkXXqDZcps7\\u002fqsl\\u002fCxQKc1v5aN+GL+Np5j2YgvGQ+xoW5TTgUAEIyZMbsi3mYAELhkRh2jq4TnkpJQ2gYA2uRizO6exh1mT7XA7ZFqiQU6GbMLQTFpV\\u002frknbydiPhj\\u002fjYUp5LxEIqT8VC3KaciEQ3IAaAYkVFH2RwA2Pt+c3oHJEk2\\u002ffuwNV+36V+Kq\\u002fjjRQNB2zx9Q0VG814wDFGLAAAAw5FsRacS7RiGMUgU6129PIxuRzgD0RWXl\\u002f\\u002f450qJ58KrnYvOU0oyIJ0fqjXuGZe8Z9ZRCvsomD2VOsvx252Zbftua+jIDETnK0JqGiWvnKmYaJxxvt3qIgEAJ1Grm0QxxFVIIwiY7MTUZTZJSOsxDEdwEpV2SQa1eUgEAcaAybskjVqcBADgBJJTTMs6JIOaHYT0DwCkDZUfCVlHMpEikcPTmTBPKUPrMWW0yiBlQ9mtpKw2JJCcYrq3Lhq1OAmSQaecbTM5CMmP7NaRR6WCG+FrRMLbjVKMoTL1+WLT6ImGqtGRw\\u002fvVeipSV399xwVpl1oAacLUrlLYRyHQVhf1tx0vyWjbd1tDR2YgOl8RUj3E6FlmURDLxhvD\\u002fuSGt3rOvi7HkUcd2RGu3xM+tj8KANOX291FtCOPOrg1GAvxe9YHlt7gceRRDXvCR\\u002fdG63eFl9\\u002fsiYZ4BIGje6NlY\\u002fXxqLBjtX\\u002fcXLPBgifigqRTOEo3\\u002f1JX86GYq5Ba\\u002f0Z3xUSjq5CKBnmlHymehVe6JR1AYP6lrsZ90fo94fHzrFJ4ADBhgcWZTyujff43jePmWqQgn\\u002f9No7OAmn+pq6kuKrk9\\u002f5Y8SVlpOHmJ1WDBk6wo1VU12RiPChiOUAxK6zHJTyzMT19uB4AkK2z7xJdK2whfI4w14+xnLSFtDiGZTHR3+jatHshqvhFOC6k5rI7GeO0Mc3crG+hKUjq0p41tqosyBsyZTzUdjOYUM3kVTEdjvKkuGuxOlowxsDFB0qH1mNTL4ASqNyPe9kT9rnBRjU5vxvmkIPDAJcR4VJB0qiab2Ljg70yIokjSqLSRiAtKPxKyTskYAxsXkknBmU\\u002fJ4ekMWG4Z09YQV0ZrcZFykPEoL9UlVy3ZWl2E0lAKT66L40S9GY8GOZ0J62pmJT+eUiavgtnyoXfiQutIh\\u002fW1JLRvZ2jfTrV0hBMDQVHtu8Yniuomu7SL9p2+yagjMeNcu3JX2p690rHwKrfBkuoWs107a9zfl01UkahIrzpbXUpU4YFsq\\u002fhfVTTCCF8JcmYWK3eto1yEIcOchq3WrXpHjbQSalAQOW66pATBccxsBgBAUcJhN0ydgplNvUooSjjsCI7jNisAyBsjfJVASCL3kXuoyhJ1AQAAmJYvyHv0JwX\\u002f\\u002fHXub+9GKFKWa1tlY7BWKEPn\\u002f+WhwqceLnzqYaqiWF08eIdDQyMMjSKJUxPhqWcg7ar5znRDgYVxGwAAownHhDyMxADANjrHVuuWOi9rjbvs0nH6fLN9rEfSpKzM6Ntm2WrdAIASqCzXhqmqZCorLEsWOy6\\u002fFKVp4\\u002fRpZF6eZfEi46yZKJXqJSWhfuIE3ZjRACBvDJZB96YjDBZUxyi7mwxwqWcDlFCVJZYLlvhefq\\u002ftgT\\u002f0PPk\\u002fkU1b35TJqn8GbCXE4s23\\u002faz1\\u002f36rLlAxYIcS\\u002fWejLxphaBT1YZARfmXor13GYmvl1RNxPSnygmtqAWXXFSyppKxM8crRQpIvOq+GtussVU4AQHC05tvTAQAlMNJI8QkeACirTpZrk+zuxm02zu+P7t0nsKzIc7jdxvl8XFe3fKwlYbKjk8zNBQB54zTjdo1V7tJ01lGfyVSgFvWFoszy1340lOUqNHROL\\u002fabL2cm1Kql\\u002fWFaOjf313eppacczGrONn4ZGkPLhkYYGkXfZGpvmYHiaNHyUcYSGwCUXjRG5zGaKx2jb5tVduk4AKi9dQYAlFww2jOnpOySsdMfWSYbShsqeT9IUzC9MziZRkKSMNuCjIGRye+QMJsK83Kn6nROnc6RlzvNZCowGvNKihbo9W5Z4nCMAgCno4aiTEZDLgAYjXk57gk6xuGwVwOAw14tK0vf+QEAWVmvc3rcE5U6chWyjslUkOuZbDTmuV1jcz1TzOYiOcLTA4LQNep1egMBNeqFeNbF1l9VhpqNEQYLz3Kll4y1jcmJNPuNRVbbmJz8hRUojlIWWuR4lMC6t7WMunmaY2KeLtekfFMNgqHF59cAgEreD6p1Hhmn2yVhtgUZA2MYVrpLWMzFjU1rigrOwjGaTQQt5uKm5vXhSFsk0mEy5kuSeNxvMhUgCMayQRTFAABEkcAZnk8wjA0AGMaeSIQl5WCwSfIsK0eiXVZLWUfXboPeraoCACQdi6nwWPP6ooKzEBQ72vhZQf7MQKDxeIxDB3c7zOcvoqtKUaOe9wfDn28OvveZVITqmPw\\u002fP9hy128sKxYzk0YDgoQ+WRd4\\u002fSMAcN9zC1mYi1Ck87ZrJeXgO6v8r38obef\\u002f+UGUoQFBuv70r9jO3oU\\u002frjtvJEsLUYYGgMKnHgaAyKYve554UdsKAIgcp\\u002fnCs+nqMoSi+EAw9Mn60Edrta002qVNNoeeX9wZ\\u002fGANPaqMmVALHB\\u002fbc9D3nzeEWBz6y4Zu2njzuQtwl53v8YfXbA5+tDbzST9gskUIAOZzF+rPmoKZTQiOAYAQjXX+4alEQxNkD0OjXaCZ+WwONdA+KBrtUnLg6S0IioiiKH2md+uDHwNA7S0zdjyyOv\\u002fsKlOJreOLY51bm6V31CAYevjFHZLhnr+sl+bdj\\u002fxvp1J+hjBsHVYiGfG4J6IYYTYXcVwMREEUBZI06nROWdLds39s7dW79v5Hp3MaDB6jIRdB0GQyYrEUJ5Mxj3sijtOysl7vMujdBoNHEDhJWa93oxihY2zpVQCApMMmQjnuCSwbIMg+L5M7QcQ4y\\u002fuC3Y+\\u002fwPuDVEWJ\\u002ffqLkk2tsd0HZQXHLVdFN34Z\\u002fGA1ajTIZ2Tn\\u002f3sKIfD8x37W\\u002fc\\u002fnU+cW3zvv0Hz7gwhFFvztF7JEousvzwKCWFYuoarLOn77dwAAxZuPsllhFpP7J7ckmtq6\\u002f\\u002foc5w+SeTl8qHeZSDarftuVjWwOAcB21YrgR2s7fvVXzGZ23Hw5f95C\\u002f0vvgmY26NGVtmsv9D37Gnu0mchx2q6\\u002fGDAs+O4qhddBky1C\\u002fYwJxrPndPz6r8n2bsO8adZLz239ySNCOAr9hZGtXRqZ13aYDe2Dkq1d6aQ\\u002f79Lw+p6Cc6qj7SHpuz7yG7VUr9YSkpnlZwLD1mG1tW+TvyAmb9TXfySCGI12yZIdu\\u002f8FANFo1\\u002f4Dr0qGoXCr9EqNdHP5K9WScijcKu2GIx2qKpQ6yg+ZNTVvkDZOED4Q8r\\u002fynrTNdfYYF80iivKUP2x2\\u002f+HQqg0AAG1dslBkE1LnJSa5DLPmkHnkLCaSACDyPIjiwK0Mc6eBCF1\\u002f\\u002frdkwnV0qzUyWfXbLi0yOQSARGNL4I2PACDZ2hHZtIMqK5LkGtkwn7covGpD5IsdAMB1dIdXbzLOm9bvD7t\\u002fMkVIlRUlGpqSbV0AEN20w3b1BUSum61rgP7CyNYujcxrO8xG\\u002fwclU7sGQrQ9dPTNvWrpV4ph67AAQO4mNDbSkV8ANBBlGQ3ldMmJg1Ck6eyzmHGjcLsVUARl6PiuA0oF9sgx5e6phyzKYxuaMndw2em3XUOAbUhdywOAEI2huj7LfDJC5OdQ5UWmZfOVQgTDRMWAdLhItnboJo\\u002fFbRbO62fG14iJZLKtUyrSDiNbuzQyr+0wGyfjoHxtGM4O62uM\\u002fabLCI\\u002fb++9XEo0tYiKZ87M7VApiMvUGn9PJ4Gcx+23XEMj409UCQVCKDLz+UXh9n3dmaP+qh0xo9RdUeXHuw3cL0Tjn9Xf99TkhFAHoPwytdmXMfH8Os3EyDsrXhpEOa0Awo6v8r7zPHjoKAAiO406bWiMbggiiOIi7LUMl2dKhnzUJIQnpinKADL1dQyNjNkQx0dRG5Ll5X+q+8MmGLCno\\u002fN0T8YP1faRDDSNr5ofqcBgPinHW2ND6XfIu4bQku\\u002fy9xdnB7SbjrLG+t9apCwBgMH6GnZEOa0Bw3V66tiK6bTdKU+aVSxAMU2tkQeR5rrNHP2NioqkNAMQ4ywdCcmnKT8ZFK9nJaBX+bKNh\\u002fnTHLVcH313FB8O4w4bSVHT7Hlkho1W\\u002f7ZIkGT\\u002fwk9GhNtmyEXjzY+f3rjG3Loxu2wMoQuTlICga2bhdNuw3DI0iVYS4w4o7bZw\\u002fqBRK9BtGRjQyPzSHAzwo2pmnqwqpQjdmMZK5DmZ0KdvQJvK8eel0\\u002f9vrgecliRCJSRuEy4owZKKpUwhFJUn8UJM0atRPGRXZsl8\\u002ftYbrCZD5znhdM8qQkp9EU4e61pPPUNZufQMhS\\u002fJt11xI5LmFYDj44RrcaRPjCemWvLSsofP3T8b3ZX7NGFVebL1qBeFxCeGI\\u002f7UPIxu2AYDlgrONS+YgJCHpiDyfbO1sf\\u002fCPspXl4nPomor2n\\u002f9JlkB\\u002fVkR+juXCpVRlCUIQvD8Q\\u002fODz8GebtK002mW9aoVhzlSESP1JE3k+cbix45F\\u002fajv0\\u002fOLO6NbdgTc\\u002florMKxbrJo9pu\\u002f8P0i5kyQYAMGOrTectJAtyRZ7n2ruC762ObtsNmmFoFGlEiFBkzk9vI3LdAACCwHV5\\u002fa+8L\\u002ffs2cLQble2zGs41EDjoGi0S4V1xRzfm2utK+ZE99TjNhPpsfvf3WBeOt3\\u002f7gaqLE+SRPc2SBsIgXtfXW1ZPjN2oFGS+N5aZzlvtv\\u002ftdfrJ1UIkjlkMyXYvM6oovHEPH4xIftRVnhKG2GEhGJp+yxPBMAAxXf7VRZ4f1dXWRPfuUxenQRUXcV3dfCSiLlCA6fXGGdOCa9cLLKsuOzGkaAcYakbk+KnCgmRXtxCLqTW+4iA4lnP\\u002f92O7DoTXbhaTHELgusljzectbL79QfH4156+HpjmTxQFkXBZhWhciMRQg87\\u002fznr7VUtCq7\\u002fUja+QJCCK8ob\\u002f3Q2W5TMBQJJEdx6yrpjjf2cDe6zDc9eV7X94kSrKITx2URDC63dLfhItvTfEzyDIfCdTXYgQOG4zAQCgKJFjM80bj9uMAIAyFG4zIiSBW424zWScMxYApF0Ex8hcO0LgKEMhGCb9JUQZSvKDUATuMEuaAJBSpgjcYQYEQSgCsxiU\\u002fwAA1dNknkOqsdfk+B\\u002fYEwEzGQmnE7daAUB6iBylKMxgsK08nyouAgDrucsJh4NwuQCAKijATEYAwEwmWQgAVFGhae5ZhMNB5ufhFrPSFapjZCEAmOaeJXmQvSkDAABJGaUozGikiotVg39ZWelfjlYZKvT67xMq4XBQhYXSsxFyc+T4EZKky8sQAlc3sLiYKi5CGUba\\u002fSpCFucXPvWw8mFGssBT+NTDmMWk0Pq6kP4QjMaGTF8Jmec0nz01VSJPPqZbnSq0LoMlcLsJIXDriln2yxagDGWePwGlSdxu1k+uRhnKsmy6fnK1eeFE3fhykeNBEAFA2jXOHqObWAWCYJg2SjexAlAEAMxnT9FPqkIp0jR3PG4xSpqYSS8pS0IQRdJjt18yzzCtxnr+LOl\\u002fqjgHBJEqzZVqRBlK9q+OePCY5swhctzmhfNRmtaPH4eZTMZZMxAcQxlGvv1H5ueZF8wzzpyBGQ3m+fNQvd40Z7YklJ5Qx0wmqiCfKi4i3W7L4kWYXm+YOBEzGIyzZuhqamShsl7ZmzIAw+RJkjLhybEsXYISuOomlKysCJVQRtsbVa\\u002f\\u002f3lCZinLduDEoTSkDkOMHABAEproKM5qUVoZJEzGjwTRzxld6JMJ1e8VE0rhwFmY2YiYDVVVqvXplorGFzzSlpQGBIzjeZ+NM5Phpg2Pqjd4zKu3+JoGBskVCIhn4aIu03XvxlGZ1yui\\u002fw0q2eQmXlesOhLceEOIJgeMItzXZ5U+2exGKkDZETsAMDGZkyAIXgqHSrsgLwPGiIMaPtJIeu8gmAQDBMdRAizwvxBPxw80pTY6XlCUhADA1xQKb5H2hZLtX+l8ai5F5Trlq2b864sGDoEhs3\\u002f5EUzNusYQ3bzVMmojpDZw\\u002fIITDiZYWAEAQiOzcxTY1E3Z7dN9+9mgj4XQiKCIJUZ2OcDmju\\u002fewDUfJ\\u002fHzUYEj2eAHHw9u368ePwwwGpVBZr+xNGUCvMkD8YF3s0GHV+SErx\\u002fYdkELlg0E5WjlUVKdT+peFZGFBeMvWWN0hEMXe5hyPHwBEjuMDQaki2SrR0UGXlbItrWJyEHchzzSEcLTrz\\u002f9mJtR4fn1X7u\\u002futX\\u002fr0mRze9cfn5ZKDQYkx40xDOJyYgBQVUlMm0Lq9QhNIxgGDIPk5aZKHQ505Xk6AJA2ZBPJA0kg5aW40tDlTAkpEqFIxJODGY2oJwcDSLmlacTtwjAMSopwBAFJhyKRgnwMAKQNswmtKMelKgBAdigFL9Ui\\u002fVPFc\\u002f5yHcMgBI5ccoFObqBUL4KATocYjahOlzKRmybBdflPY\\u002feUTv9\\u002fHZKdvsCq7SCKgCAgiqHPdwKKyuOa0JqdAABwRCrtefFTAAh8vAUQxHTWOFEUMQOD24zRHYdT3tq9ofV7QBQlQ0kTRBFBUVEUo1+m5q3973+RMU2SfwnJBDMwfCiqUBkKoiia5s4hXK7w1m0iz2Mmo\\u002fTTBQwzzpwe2rBJUgKA2KFDlsULMaPJ+\\u002fY7+jG1cpCxQ4ety88hnM7g2nVMVaXAsnwoBIJA5ufF9h\\u002fgw2FZSObk0CXFCIoG12+QvQkJVg4gunu3pCwFlgpRgTJaw7QpqVAhFa2kIQlk\\u002f2Iy0Svct9+yaCHn8wfXrJUVovv3S\\u002fHHDtYRbhddUoxK103HrRAUw\\u002fR6rrsHwfGv9CArvu9Qttsj3\\u002fmW0evjt25PXHeV\\u002fsf3+nNzMEEQly9lOjv5fQe55WfTu3YnbVZUKpV+AW3tvCBAeSkuCSUP8bhotaDdXkEydDvR667Sb\\u002fsyYbWgjz8T\\u002fsH3TIUF2JF6LhgU\\u002fvda9LKLdLt2J5edzUQiIo7DlzsTogi332IsLMBWr2VZVmxqji0\\u002fh2FZ8fN18XFjyPOX4V4f\\u002f\\u002fLr0fPOYSSHUvBSDPsOcCXF2EuvRpXxcBxctEL3nxcjuR78nCWI1MC9+5O7didbWvkbrjYkkuLBuuT5y5kf3+uXWnTG0n+HBXD8rJV\\u002fPBkbpPppiWLw8x3SZnTnEVkcWpd2i0QUAUBWVgq1UZucEEhg9RoQRZC6Tl6Q5q29b7wl3UL2vv0uAITWbwCAeN0h6d2vSiHn9cYP1knyeMNRyRUAdL\\u002f4klSBLEy0t3f+61lJGDtwUPJmPXe5HED8SL3SQyZS0SIIIocKx6OV7hL0RnU8WlkIAD2vvwkIAoIgBwAAcvwA0Pnsf6QN2co0a2b3Sy8bJk0icnISzc1y6deJphaus5OfMY2KxkQAqD\\u002fKzZ1NcRzMmkHtO8hFouK2HYlvf8sQjYkV5fioKhzHoaQYH1WFO+yoZCJ5cDqxRBJwDJEMJYccD4kk8Dy0tHL7DiRrqgmzBeWSILkdO5qwWtBuL19UiO\\u002fdn5R0mpq5c5Yw734QO3Q4ec4Spu5QsqoCP3SE6+zkdTpUdigh1dLRyYuiKDdBiifHjYkADIMoGyjVCwAmE9LjFaurCMlEbpr2X6X+34CMoCCKkPbYCYJiAGI\\u002ftiNoQ5eUyNvMqGrC6VAUngqUAfSLrHwqQ8VtVuPMGUx1lbrga4dyQlm626G855FxulklvPxi3Y3XGWxWVPkCKFkIACgKF63UqdZRSbvyoitV1emLrpQOoW8MGYOUyViaUSiBUjRuNKNk6pPUpNPNFJSYx03BjSYAQHACN5hQkpJ2UyYEaawdjxuMuNEMALItbjTjRrNpzMReQ4qWdKRSlCBxkwWyr17IWpARD1nWlugdLqmgUb2HLGuI71IXZMGMuwJc6jEubQboWXbIoMaYENKOdoQRRhgItlkLhHhM5Dg+HovW1zEFxaIoMvlFfCwa3LXNPH6KkGBxo1nalb6YbZ44HSVIlKIIi63zwzeN1WN4Nk65cqRdfcWo0J4vrVNnCwkW0xuFeCy4a5t1xlzCYou3NsXbmuMtx9RBHGdgl4QAFtxtxGwUypgwuwV3B\\u002fkeQeSkDQY1YAgR5n1+rkN68FjWSYpxG54b4ntQwBjMGOH9DGqUlONC2Iw5AlynhyyTJCKIRszKi5zcy+gxs2Tu5zolz2bcJenEhJABswa5HhwhJM9xISI5NGGOQrrmaHy3DjXnU9Vh3mfALARCxYXISP81wgiDBcEwlNFFDu7Vl1eHD+5JeLt1pZXJgI8Lh1CSFHkeZXTyrtRhgSCgNMP5vWxHm5BgEz2ddG4hF\\u002fCzHW240UQ5c8IoKhlKzkWBl0pRitLorQZBCT1O+r+SmZJLlhdRo+WNEnqsrFBMjwEAuciMO11EUQk9Npcs16EmACijJwBAETVa\\u002fl+W5JIVHrLMQeTLlcrmsmdZR9pVepYdIoCqPBdSNQVUdT5Vfdzx143cB250\\u002f\\u002fAKtfSMJ+83t5qXzVRLvwGc4ccLpcnSF39pnDtR2jWNnggIoi+tpFyelIbqAjLj9aQk1NZEEMl55tJMpF0ZZyEhxHLJCgzBQrwXQwg\\u002f3yFv4AiZR1YmhJgBsxoxuxGzy0UW3E0glDQ44iEJAJyYuimuxywm3G7CHLKEExMMaogLvcvEZXPZs6zDCtFcsjwuROG4Z9mhCAKFMnrMInsWQRQhw\\u002fzfVw7MqCML3WrpCMc50\\u002fJzpsUzNIJ7toMoRurr2M62lCjtDlufXQlJqK0pipLzzKUnCHJ8wku1UUSNliUy6cr9UkZPMGF2aaQmozJX6mh41ij6SmM+Z4bjphVq6Rn\\u002fF\\u002fuUkS0\\u002fp4ts8Zzhx0s1wjqjGOgICyDDO\\u002fOkjbbEEVkik67cLw3sLgGEo\\u002fE+6x5U5kodDc8aRV9pmLEVatEICs60\\u002fJxp8QyQ4R3oDC8DnXTXICEOzyOygsiHeZ9a2peB6JzJ5D50c3TbQYTATIunoToqtqe++8k3OW8QAMh8V\\u002f7vvt\\u002f+yHPR7Qdl\\u002fZy7r0V1VOvPnnD\\u002f6Eq6uhgz6gDAtGiKVNpw1QOK13LzlgvmmRZPxfRMoqmj5z\\u002fvxw80SkXMmHLbZYvIohwhxka+2Ot9\\u002fkMhlnruOveBG6O7j4AompZMSzfUiBYAip\\u002f+accfXsAdZssF83C7mev2t\\u002f36X1xn6uhkqxQh8OJ\\u002fPSA\\u002flRb5Ym\\u002fH\\u002f3tB2pYgC3PsVy+lq4pEno9uP9jz73eVC4MRirBeNF8\\u002ffTRuM4vxRKK5o\\u002fPPL3M9gX7zw9SWWi9ZSBa6AUW5Ll\\u002fo8y8D76yT3WZDIwMn73hB9uxpHy\\u002fInh8NnxL6qTW2K5bgDkuiudP73PuqTkv7oJxKvp6XTmcsuQ\\u002fdTOa5Ynvrgx9vRnWU\\u002fdplvC\\u002fUcv8\\u002f5VI+GO34\\u002fX+lXcyoK\\u002fzH3T3PvBP8ZAtuNwOKeu69jq1v8b74iaTAdaV6h9wHbiSLPcnWbt9rn4ls0nrpQiLX2fT93wsxlqkt9dx3fWj19vC6nahJb7t8Me8Ptf78aWn1b+4DNxIFbq7Dm24oxaMRbfHTP43vP4qQeOD9jUKUpauL\\u002fG+ukU507UoBACEJlCZz7rqa8waVHRbhsuU9\\u002fL34vobA+xtRmrRdeTYfDLc++GSqGEVz7\\u002f8WWZjje3UVW9+C6mi6usj7wscgitr5wSyGwj\\u002f\\u002fOPjp1siGXQiBkyW5QjgaWr095TY72hk4GccLNLOnfbw08qPhEwDIwpz8h78X3rAr9OlW3GGxXrwAd1q6\\u002fvF66PPt0O9BObUMwwhrhEEhCkLnX16WnlIW2WTOT66jq4riBxsBIPTpVsd3LsDMBj4QBgD99NEgiOGNuwFA+iMp8oIQS8jnvRIEx9offlb6u8c\\u002fE8v\\u002f7feo0rzY3nrrpQvjdce6Hn9DUku2duU\\u002fcrt+yqjIF3slCUoRGQ2lUo1oAYDIdTT\\u002f+E\\u002fSqCF+4KgkBIB+KxUTST6RTH+vtGXlWUKM7fjji1IRH4rmPnQzM6YstvsIAOgnVdGjitsffjb6ZZ2kL49utPNDuO0IgYdWbUkc6wAAuXUDQSMDJ+N4QX\\u002fZ0zheGvnR9mleNpPzBjv\\u002f8or090bkeNf3L5U0ob+DcooZxBxWNijanF82Vy09Dq2zqkV9ceWNV4u+1iQa2+QfamxfAwCQRTnSbnjTHjHOGuaMl3YNs8ZFtx8UIqmP32nD1rfKo3Suyw8AmMWI4BhdURDd0fvoXOJYB+cNMqPLZElGQ7lUI1oAiO48lP76s4FUmg26tjS+t16uka1vAVGkinNTpTWlQjQu\\u002fxoHDlvfkmzr9tx7g2XFWcrWDQSNDAz78YIBZC+bIWTPT78+yWJPfF+DfBko\\u002f0GS0D4oAwVF+1+1MACdzCMsV954DKMi4Q6BT5qsReFgK0Hoejr22d01HBdndPZouDOZjFrt5eFgS9CXWuiVbiXwXF7xzOb6NSRtpHX2WKRb4BM6Y04k0IripOSHIA0kbdLpnf6e09Bhn3qEcO+Un5jkxEQSM6XeOSMmkqG1O00LJgXeWYc7LHRVYfvvUpcb\\u002fcJLX1JIIQIAoAjKUICiQt\\u002fpBiEYkWuELIbyvka0ACAElbYpBlJpNjCDzjBnvNwFpITW1A8SMzC8P6QsGiBikmu59+\\u002fmc2ebl820XroosmFXz7PvDXAWRiMDw368YADZy2YI2fPTr0\\u002fMpI9HepspRPv0udoHJTMoSlisXCiI0QwXCiIEaaiqiR09AijKBQMD0UEIEtPpuGBANZuWucOidfZjhz7NK5lD0sZIsN1ozpdmu2i9PclGAt76WKTHaClg2aDJViJ3WOlWrUc3hINtkVC7yVZstBSAKGI41Vy\\u002fpqBsHhsPyn4Kyxcc3vOGMoCvMcrPXiEEjpCEdEEhEVq1xbx0OlVRwFQX86FobIf6r2VWMr1mR4iyIi+gxt63hQAAatLzh5p69zMZymhHm5EBVZoFIRKL7Trke3NNH+HxblGIsZjZoCwaOEKM9b38qf+11fqZY+xXL3X94PK2XzytVsqEdgaG93jBQLKXxRCy56dfn0IwgumZ3iJDH03tg5IR84Sp8ZYm88RRQoKN1O03VI9GCdI0aTphsXV98KbAxvvVMY6dyLY2cwG\\u002fynPmS0KeS0gbkWArjlNBXyOXjLrzJ+E4LZeabMU4wYAo6oxuvdFjMOWmW4miQNJGncFFUsaOpi0kbUqwQXf+RDYeUNSCtDZudOWdiYs+TgZkaZ78llSmthQAEo3tcmniWAd7qMkwc6x+Wm14wy7VBZcYT6AUoZRoI\\u002fJ8\\u002fMBR3YRKWUIWunGbKb6vQaGlhXa0GTmRSmN764k8V6KxPXG0Tf4n35eM7T+K6hmNS8t+8yPyfHjtDv+ba+iKAnVZFrQzMLzHC04we1ny069PtrGdHlUsX46pkqN9UDIichxhtYk8jzE6kedE6UmdgD9ycG\\u002fq2Z3+dMQEm\\u002fEZncwjrJaGtfL\\u002fCIKKohDyNwGCKIdnLfVrZcnBHS8CQDjYqrICgIYD74MoNtZ9DAAB71EAUPtpWAsA0VCHLDlxCFLvLp7aVr+B53pv3AIAgmKiwEvbBmtBPNzNJYdnTcbAQQjcfecVgfc2oDRlv25Z\\u002fGBjvK7PgQl+usV60XzcYel++i2lHADih5uNc8brp9RwPQFUTw9k1tP3v088P7vR+Z0Lwmt3oEad7Yol7JGWyObU5He\\u002f9BttRoZcqe+11fm\\u002fudX9oytDn2wRonHcbtZNrJIv36Kb97FHWlx3XOZ7+dPE0TaUoehRxYEPNsnXQdnyo58yiqosjB9o5ANh3GoyLpgc23\\u002f0eJ390G8Ghvd4wQlkTyM\\u002f2j4D728wnjXedetFwc+24VaT9cJ5yldIaR+UjAR3bgXprXkIAqIY\\u002fHJz6lev+O1r6wR3buvrMkXmDkuJ\\u002fGVm1cVkZslxhmY1QBAUM1oL2aiPjflJ2oRiJIIg8ahXFiYTEYHnMJzESR0b9WE4hSAogmL5FfO7W3eFvI0YRmIYKQhJAKD1DoJkQv5mEEW9ySMIXCzcpa5y+Ih8sZfrCbhuvxSlydjuI11PvqlSCG\\u002fcbb92WaKli61vVRX5XvkUN+ud370AECTZ2t0ygB9AvO5Y26\\u002f+Zbt8cc5PrhPiieiWfT3\\u002f\\u002fTB9pjwb\\u002fUabkSFXynX5Wn76D9vli123X4KQBO8LxXYfEY5\\u002f70\\u002fk+bZfPm29bJE0dy5E44n6lt43QmXPD+cLmcvyjfMmoTqKD0RiX9Z5X\\u002fxIttKm3wwM7\\u002fGCE8ieRn60fSaOtnU89j\\u002fb5Ys9M8Ykmjq6\\u002fvm685YLZbfaByUrUpcn\\u002f9ilDdVvfyA6XwMoxmx2lFVOugIAimqWOvLGVky4RCkEgNyyOSRtzCufS9Im6X+KMVdMvFRvzgUAFMWLa86hdVaLszy\\u002fYp7FWQGAWFyVuWVzzA71iHoYyX3oZuUN44wgOFb81E8tK85SF5xyBhLtiXCGP6ECA8vA4I5X9hthCIapPzF7BnCmRXUGhTJwDJZ8vTkXJxgAQBC0u2V3yN+sFMp0Nm115k8gKEMiHmRjgSQbjgRaAUAQODYelFx1Nm3zdx0CEIPd9QBgtBUpPQw\\u002fWc5XGf200QhFSGv2Tj\\u002f9RXsiYBZDxrtaZxb9ZWDgxwuhCMP0WsysT304isBxm0n+jhRm1htmjJaECEVI0+cIReB2M8pQ0selUD1N5jmlXQTHCI9Dnl9DCBx3Wvq4tRoBgMx30VWFkiFmNqTcZtKRKpWF0q4UFQCgx799hTstkjdlpaeM\\u002fi8Jz0Bonb3vaSSqhDqj22QrRhC0vWEjSRuD3kZJjiBYTvH09qObGKPLZCvGcNLbvj+\\u002fYgEb87fWr9OZcgCA1tmOuz2loAxF5Dlxq8l+zdLgx5t5fz83476iGGaN43r8IIj6abWEx9H91Ntqja8IQzhextnjUIowL5yMOy3d\\u002f37fsmwG7rQk23qEaDy0ZifnDYqiaD1\\u002fNu60BD74wrRwctdTb5vOGs82tDFzxwuhaGjdLhBEqsSjn1YjhKJCgsMMTOCDTZJz\\u002fdRRYoLjuvySh2SnTzLBbUZRFCVDVEcTbltozQ795Op0HdLjMC2czPmCkpBw26QYpA8L6KfWCNE4QuJigovtqadKPImWLrlSZTNPKl\\u002fJDqvlyBoEQVsOfw4AR\\u002fe+BwDtDRsBQBZGQx0HtjwnSURB8Lbvkwwb9ryNoBgAxEKdB7emlszU734LQRBRFML+5mioQ+D7uzg\\u002fOeBum+fe60GEyOa93uc\\u002fVBd\\u002fXTCdPY0qygEESbb1dP755UEtOj+jGMrxEgRUTyc7\\u002feyxDiGeSHYH2GMdVKEb1TMiz5N5TjLflWz3ssc66FFFYiIBANJ3pAiPnfeHEYrAdDSR50y2dvP+MGYxiIqvRiVbuvWTqyNb9ktuUZqUTJLtXmZMKd8TJPKcbH0riCJCEhl1kHyXmEhwXX5JKMUgRYVgKFvfohtfEdtdr59cnWzpIvKcCIbJlfZp5ghDxuquZgwOtXSEEU4X0kWAfH2AIMZZY9VXnQiilmTCOHe8+eyp0vPVKRRue4XpuxLpOukSBbqxZal3e2mqjTDCCCOMMMIII4zwtWf5rQW\\u002f+GCSWnqmwhiwP22d\\u002fsTB2U8cnF0+yaQuHioEjf72symVU8zqghNmJL1wMtM7wledk7usQWfCKQZTS08hsTD\\u002f\\u002fcmb7pm\\u002fRV1wYkiX7Vyy\\u002f7V8J5WvdHo1gj9D0jvCGcjJ7bCufKCsZpZFLT3lDPtXZhMx4Z75W+p3nOY1RF\\u002fp9GoEf7LTi5AEpH+Y9AQ59XPPp77GbKAoQvY+MokQOIJn\\u002flM0WFCDTvnwOQylwxrwunkEhVEzLGrpCNp8M9J7eoO3XriALMjwMRvUwOBOq1o6MGxXLlWLTjKGmWOp0jy1NBMn0q6BQOTYrZcsknf1M8bqptQqyoeOYeZY94+uUUr6X4eFIHDebYXzrvBQOmzX597Oo71PC7uKmPNvL6ycYjLaCH9nYu1L7e\\u002f9s1kquvv5sQWj9JQOu\\u002fWvoyTJu39veuOPjdpWGkUPvTPxw6dbqqebJyyyc0lx71rffx86Egtx2lbZKKw13P\\u002fa+J+v+LLpQOotGQXV+gfenPDLC3c07g0DwIJrcudf5XHkUfEI37Q\\u002f8vwvjrTXpxr+2JbpjBFHEPjzd\\u002fft+swr+9S2ysY3ML0awYNmenNKmAt+WFQ13ULpsEBX4tNnWz9+pkUqGmDmiTwX4balxiYIQlcUYDYzW3eM8wZQg860ZDqCIGx9S3THQWURABAeB1WSm2zvYetbAADV0dLb8tiDR0VeYMZWRLf1rkXC7RaqLC9edwxBUUAQsiQ32dKZbOtON5Q1eX8It5klZfZIM+8LAoDUq+JOW2xnHe4wk0We2L4GIRwFBNGNrxKiLOdLDUKVflS1IAytbBeRY1c2pA99E0LkOlEdzXX7qZK82K5DoiDIpZKysl0SZL6bD4YBAKVJ3eSaVGlft6BoF9fjTzS20VXF8YNHycKcRFOHSjP40SbdhGrZPwxkhDXjAvc5385\\u002f7fdHf3Hhl4e3BRdf39upsxHe18E+8aODPzt3+9t\\u002fbVpxR9Hos1Id+R9v3CtNbTx+58HbJmy8bcLGd\\u002f6aesZdw0qjCACufKC0p4X9zaU7n\\u002fzRwdrZluW3pF6CoW2VkWN7w\\u002fU7QmddniNLZl7obj0UlXqryqnmS\\u002f6v+JVHGh5Ytv0vt+w7uDng70i9OQcA7piy6fYJG+VdGW2rbHwD06sRPGRPr8VF3v3CWMaE\\u002f\\u002f22\\u002fT9bvv1\\u002fv65v2JX6uQ4w80Su03bZEpHjmXGVAIDgGJHnEtmE6wdXAgBKEaiOFpOcEGfVRTrafu25nD+M2y0AgFCk+4dXIShCOK3Suk0hHLNenBpi4E6r9fKzhUjMcfMF9Ogyx40rxBjruHElylAqQ6UmqqPp0WW2K5eKbMJ5yyXSFZbr9ivomlJURxF5LsvFi4QY6\\u002fzORShNgijyoQhdVURXF6tqRHW0qhZlu1CGUjZEharVlvPOInIcOXddSxbm6GeMUZaq2gUAIIpMbZlx\\u002fmTpFQ76aaN7W93XLSjaZTp7BuFxOG6+AFDUtGhaumY6\\u002fY+w5l\\u002fp2fxu97pXOwCgvT5WM8viKko9rxfoTrz66FFpu7Mxvuja3KJaw541PgBgY7wgoADAsQIb7X2eHjStNIoAoHFP+M3HGgGg9XD0i7e7yicaJbm2VTY++2\\u002fbVQ+WvfLIUTbKoxgy7Vznh0+n\\u002fubQOkwUIdCZ6GqKdzXFj3ypnkwRMr1ErV+rjHwD06sRvETG9J51eY4owl9v3S+ZdDb2DqAGmHlmdFlozfbYrkPxcZUAIHK8yAlkSR6qowFFuZ5Asq2b9wbj+xsAQZRFQozlg2Hd2IrAhxsBgK4sjO6sU77vha1vlt8grJtYjelp3ZRazKgHgPCm3bG9R5gx5bjdjFlNSkOlJlnkAYDotv2x3YfpqmKyMIc93MQHw8EPNwKA5cIFoY83xeuOEXkuqqo4trOOPdxE5Doz+kFwTFmLql3KhqhQJQQwLLxhJzOmPLrjIFNb1qe0b7tEQSQLc4hcV8fvnpVchTfskksTLV193AqC3C66soiuLIps3qObWJ1s71YHkGlytP8Oy11Mf\\u002fF2p7zbejgq\\u002f6IoHbbkhryxC2z2XArFEMaA7Vrd\\u002f5BNw0qjCACO7g7L29EgxxhSwWtbZWPr+12X3lMy9Vzn2pfax8y16i34pjdTzdy9xrv+1Y6fvDSuYVd4\\u002fasdm97qTLIZcqdiaFbfwPQOjcJRhqO7wxk7uAFmXmSTKE0BAEIRAGA8ayJCk\\u002f7XVtHVJQgCIgCIonS1qC4SxK6\\u002fv0Lmu13fv6LtoX+KbFI1E6xEjCfCG3eF134JAIazJio+tIGoDJWaAGBwWhGGAgCEJkU2AQCyrRCNIwwNAKiOFuNsyv44Kj90ZZE6vOPtArFPQ\\u002fropLUaAEAQQHpPFIIoS0ERGwACIPKBCB8M6yZUR788oCpVJ1NRmmzvoSoLA++us11xduDddema6fTfYQH0eUENn+jd+dbDlbnlun\\u002f\\u002f9FDj3nAyLtz\\u002f+vhevexoWGkUAUDGkxX6s8oGlxTXvtw+9\\u002fKctS+1z1zp2rfeH+hKXUeIAvz3oSPvP9488wLX+bcXLr05\\u002f+Erdwa7+3nGcGhW8M1L79CQOg61FAAGnPnI1n2u711KFuXgLhsAJDt6LCvn4zaz\\u002fFJQtr7FduVSqqIgtrNOWYQ7rZbz5wrReLKtCwDih44ZF0x23HQBoIj32XdQPWNcNI3IdVovXRz8aFN44y7ndy6iyvIRklB+SSjdUKnZ88xbAKAbX0XmOjGLMdHUoTQMr9nuuHGlbmwFwlDpL1BU+VHVIsQTcrtCq7YoG6IiPSEDL+WDYe\\u002fzHzhvvYTrVg+9NQzZ+maqojDZ1k2V5CWOtgKAKu3GBVNSif1gA6\\u002f5UuZefvra+Ot\\u002fXSHv3vLnUfLKxr\\u002ftnLngmlxpGyfRP22dvvIHRbImhiOPH5g96WyHLJHQsNIoeuidieffXihtA8D5txc+9M5EaVvDSsKaQ2Vc2WjNof65b1b5JNPfd8+cskwdpwTFYI98PuXsG\\u002fvcjiEo9ImDs8fOtymFSjJaZeSbmd5swUtkTO+FPyr+3fqpBN3P4K7fzCvvuCMEnhp6yBIckxRURQiGIRTZq5emoAIhiWylas\\u002fHNQ1nTdRPrZVfF5OOqsi4cKpuco28q6pRXYvcrrSGKOmnUZqlGgzcsF\\u002fNrNmR+fyF9isfKK3bGqz\\u002fMlgxxTxqhjlw\\u002fG9XV1O8dpZl+4fdtB5bcUcRhvc5mXhO7DoWm7HS1XwwIorARnnpb6yGlUaRBv1aYTgCABimToSvnd25ynv5faWJuLDj094bUhPPdugMWOO+cDzMF9Ua9Gai42hcYZfZYb9WGfkGpheyBy+R0eHqF9rmXZHz3ceq3\\u002ftHc8ibcOTTlA778uMeGGTmRa53IKm4cjkuOV6qKhJ5XvlqU0hTUCFmfyGn2rP8PtUkJ3K8hlu5iBlboZ9cg+ro7qfe6C3tW6O6FrldaQ1RolE79FeqwcAN+9Xsv8Na92q7I5+65P+KSRr78pOeF39Vf853UvePnvlJ3TUPlf\\u002fm08nBnuRHT7ekj\\u002fmfuefQlQ+U\\u002feytCRE\\u002f9\\u002fr\\u002fO7rh9U5tK40iDTSsrri\\u002fbM4lboJCAeDHz43hOfHI9uCj1+yWFVb9p+1H\\u002fx79+YvtylkPPiksuLbAWUBjONLTwr72h6M7Pu2Rilb+oGjJDXnS3\\u002flb\\u002fzqK58TWw9Gfr\\u002fhS20qDb2B6JTIGr5Febyv78JW7L7yz6I4nawkK9XewHz6ZmsUfWubPNCIbd6lFWYjtOhTbdUgtHeGbQMlY4xMHZ5dNMKoLRhgORtI7wvCiHt5\\u002f05h6rrP1cDTbjfARTpBTnN4Fjus8dLlaqsBG5M62XaaWDhI9ZpnvuHaJ89vzHNeoy04Vw9KQYQcB9bQADOCgDIpvaIdFMZizgJ6w2D73spx3\\u002f96kLh7hxDiT0yuC+uJ0sER4\\u002f2fdz+4JrVYXnFpOvCHDzmz7ZchJ7lL6n8P6WlJQo\\u002f\\u002fBk7WJuPD+482b38lwi3eEE+GMTa832bre+7Ja+hXkDGwIjer1mEUtHW4yDOFGGOGUkUdXWQi3HrcYMOuXgY+qDNMZzLg98EEg2WkhXOX6KWbchSBoiOvZH1oX5LplQxuZW6GfasIdAGKY92\\u002fzv5cQYgsc1x2N7nJRRSbcGRcideEv2tkjkj6NGWZYLyAQWgD+k66nZT8LHNftC60r1o1JNynRjS9iRhMoHeS69oc2BLk+PW8uXVlpmLa6+zmlMJtJtraYcMd485Jt\\u002fndHm+abcWdCiG30vcYKUY2ohtAQFMFGGWY5yUICpTEE58RES7xuf2idbJvOQsf1e0JrSnXjjbg9zPv2BD8Pcl02IneyZfmq7n9zYurGy1jTAgDYE\\u002fp8uvUCPWbBEFw8vt7zo87Hpe1sBwUBtNIwLY+uxBHSm2zdF1ob5YOSrUZbhjLCIklEFCGZ7LOKL8tK+gxYrSjHiaFQ5kWAg2LglQ6ck+FTgmGQRELMfk95KJy8aLMx7DV66PIvfG+W6MZNspyz1f+uh64oYkbvSq5KCGxb\\u002fPCe5OeCyFcZpo82zd3gfVUy0WHmyeZz66Nf7gx+IoqChchJCKkndUp043eFVvmTHfl09RjTfG9Pq1QU58OfdT\\u002fnpIrGmRbKVUvUGs9KN8lnqvPoqu2BD2JCuIAeNcWyfK33xYSQdbUEAGiYaLSFRvVVhpkHwxsjvN+EO1kh9TnljFHB4BsCAMXMWDPhXOt9UQRhovmcKB\\u002fU7q0kqg0zdgY\\u002fifGhcv3kCeYla3pe8CZbY0LYQ5c1xfYDAIpgLqr4y8CHgshv8L5iIdzTrRd81PlE+rVqxoNSYZjiJAu3+t9lhViJbtxky\\u002fJ13v8Jxz\\u002fAnK0tQ7ngPH8FvfQcSiW8576B3gk6bwX95DNWtXRIDLzSgXP+CmbMWPWS3IxYLGhBQe8qxH75\\u002fg8MVdUZPA\\u002fWj5KTkQFthj0\\u002fUT4Y4np6Ei2sEPUnO\\u002fzJdhozAECUD7TED8b5cEKINcX2G3G7bFKiG+fn2g9HtsT5MCtEO9h6uaglfrCLbUwK8aPRnSiCGnGbXJSNjCYluglHotuCXHdSiNdHvwRAnGSf5bLpaJhotAVFsMbYLn+yIymwPYlmWZ4xKm2ymZgJlzfRyoucIAo9iZaBuAKAlvgBf7KDFaIHw5soVG8n8wCgJXYgl66SFBxkQVJgexKpxSUapAeGImgRM6Yu8kWQ62aFyMHwJgwhcqjeufl0E0neO8IqK8dNJqSlmR89llizmuV5mDiJ8HiwrVuT7W08ABiNyMxZVDAoAIBOj5y9lD50iKs\\u002fwgHAWXOpTz5KPeKU48FQFMaMIeTS3Dxs3Dhi65ZEV5cAAM\\u002f+K7pwUaq\\u002fUxYhiLrGqmocAAoKsNWfsQ6n2q1caXqNlVV4RSUei4kH9nOCACgKo0cTO3ckOjoElVuOg6IirKaW2LQx4fcL8xdSwZDQ2ZEaBakilzOweXPCZESvvV6HorBzZ\\u002fKzT1lRhJJSfMwYvKGB371LvWiwogIvLMakd8apmmm19vED0KdU5VMZAM\\u002f1STv0jVaVE5Vhuma2\\u002fOTlpZLj8wkIAkPOT3FJ1uRwAgsAAvBJgQUAURRQwAGARJky\\u002fUQ7kYcjJCAIAigCqPTXW49b\\u002fcn2vm5ShDmvtCGCyIscjmRd1S2TboIiqA4zjTMtGmdaJKsxmEHeTkfbRKMtABDkemQTmfSo+pZnIJtJhPfbCA+KYKIoWAlPKFN16USOX6BxYoIVIjrMBADN8QMVhik6zBTlgzlUaUv8YB+bLKQHxqBGDMHlSEQQwpxP2ZOmm0i7vSOs796qLy7Bn\\u002f63ddQo\\u002fNzzGZJEyivwaFT8x+MWANDpkH8+aUVRyM\\u002fHAGD5uXQ4LPzqNyaDAQEAv1\\u002f44Y9Sx2b2bPLXvzXJpfn52N0\\u002fMQYCwsO\\u002fMxuNfabMVEWqGgHgL3+3zJhJGoyoKKrdgqLS9Bp\\u002f\\u002fH\\u002fGrk7hllv10Yg4ezZ5733GaFT4w2MWmkZUbkfV4D\\u002f8sTEUEh79vZnRId4eYcoUcuo0Mj08ZQZEAWgGMRoRlhWjEREATCb0wZ8bu7qEvDz1mKKsHL\\u002frHmMyAXPnUQCgaqbKj7JU5VMVAPRNuypaVU6Uhuma2fJTUdmbHJ0eEUUYWn6MxqzJAeh9xlWe\\u002fpCYYD5bh5m3+t9d3fOfHYGPlUUZb59L8NDPUul0MpkgCCDb\\u002fO991PWE\\u002fO9I5Eu1Vh+0TDTaAgCCmPoDoCRTVP2QzaQ+sh0BdL792jn2K3iROxTeotbIBNr38ks6Ogkh1sk25tKVKII6qaIBdljpgaXPB6mOaLqJRO8IC8fhrTdiZ51FfrYqMWsWmUyKHAdjxhJGI4JhMHESsfoz9v334gBw8SXMW2\\u002fE169LzJ6TzM3F6uq4XTuTCcVTu++81Vs6YxZpMiFnn0PbbGjtaGLTxt510gsXU8qizV8klDXyPPR0C\\u002f96OnVJr3KrqlRZlOQgGBBaW\\u002fhwWPT7BQD4+KP4urWJqdMSo2rwL7cnlW4XL6Gf+3dk29ZkRSU+dSq5+jO2vDyVE1V4OA5yBgCgrZVvaODb2nipRaGQ0NMtnDWX+vczvQFLzJpNvvpybM3n7Lz5FACoEqvyoyyNRPr4VB4CCWUGVNGCIifjJ\\u002fQxTNfMlp\\u002fv\\u002f8CgSs6OL5P\\u002fv70zjW7juvL8fbWiUNgXggAXcCfFRaL21fIiWbbsJN4k745lO06mHU0nnU4nJ+n0TCczmc6k+\\u002fSk5+RMJ5lJJul0kulYx3a8tGXHliw51k5LpnZKIgnuC4h9L1TVfCiwCBZQRVIyKVnm7\\u002fBD4d7\\u002fu+\\u002feB+Ch6tXCqxgfhEBtcNTAEG4lS4+HXk8JcQBgcXO+N5YNmglnvuXjRRD5BB82EvbxTJ\\u002fSp4JGE+1aFgAGN+pw9mDgd5zmGpwC\\u002fWSeBKJ0OCuviA8kLzQZ14e5sSjnT\\u002fJTV9iJogAACKH8m\\u002fnVSPJRXuRMhEOKgABjCetspr9pi+5TtxkheGgHwxrQP\\u002f2P2Jq1FCBIpcBkmppx0+nJpIr91OV7E3HxtVdTL+3JrYnmo3DtfHhaj5AfB6a\\u002fLOg039XTncUw2LqN\\u002ftY3c0NsMGIAoNejREKcJgaIxUSjEQMAoxGLxaZN6or0Vq2m8kcAAAQBsMlMRBG+9tVwQyPx43+27Hhg2i53KinqWQQADAMAyoGF6XEU3vyYirdAgSLbHTsZuUxFw0Kl2vhoDA4UxNEYH43BUUMQ+bSQsJOeIDdkxO017Ip8ry\\u002fZudG2s4ZdMZi8KIJgIV2BzJB86upj4XK8Y4lhY4wPBDMjJEbbqfKhVBcvKgchH7Um2rUsALyYxRCxxbELAHiR82cGOiP7eFF5bK6gnGnyZ\\u002foTfLiOXZXi44HJtSp\\u002fpg9HmyuZloHp80tCiIgguOnakXQPiShpdlZDBKE7caqeXZPko2khUa1vF0R+ePJUoAaqZwl9Pv4\\u002ffsXgduN6PQKAjhOZRx9jfvBDM8Lg+NFpnwy3B3\\u002fyKX1tLfH1bxj\\u002f5ZfKLF97NfUP\\u002f2he1k4yDPrOtyIuF\\u002fbo4znxL34e\\u002f95\\u002fMckuRY\\u002fa5Hfa2zPtY0QQ0NJGYjiqqyP+7r9FAeD22+maGrzEhV+8oPzA7fl98vs\\u002fMG2+lWYNqOPEtLoUmeePwHf\\u002fcyQRFzs\\u002f4r7118YVK6kf\\u002fiBaUYH\\u002f2ZfZaFTs7lZ28dbe9D\\u002f92LykmaioJKBgYAEgP06+1+OeFlORgNmM5Q+7Itv8BCIRobQUkxsWKtXGR2NwYC7j87vfJNQGR4PTkf3Nxk1V+vYYHzgT2b\\u002fa8lnZFcsGO0Jv1rOr6\\u002fQrRRCi2YkgN1LkMCOPJcaNbrqOQDSGsDudz3Fi5mzk4HjGp9RNMpTqwhHRaNigx42ckA5yw0OpLsnVZrrNSXlJjEaAbXU+lxUznZF3A5khjSYatcyVuRZCIHKN9b5z0YNjaZ8IIoUxy813eZnW7sRJpXQ6vuSZJsN6I+GI8YGT4bfkA3YRxMHkBa++7VRk2rEtJ6TPRg\\u002fWG9Y2Gzcn+PCMl4l1xz\\u002fEEbHKci+BqCA3fCL0RtFD4zlAUUhaJ5ahaaT57AdVGEYZSibfVdjjVfDnXzW0tZEA8Pld+tvvoHfsZLbfo6Morbxpesr7+JP6bXdNPf9MkbliBEgSkWTuNUGAxlQry6BYmflx8r2FMbXfAo1xVjSUlTOOT\\u002f7gwNWOT2Eh146ONFU71ymt6jDUDMdicsC5Rp4\\u002fzPoypWmO2KiyOxxP51uWmbY0GmaobotjVyldo7RO0mBY22LcrLQuCKp7WACQvywloThGmz3JpGrDfFdhj1fBkcOZRx9n7ono9Hq05\\u002ffJLVvpDCdqR5bq2nwrve0u2mTGvv3NsOxSZK4YgfyL0bJZyGZVe8lXFiaj5i2Mqf0WaIyzoqGsTKdF7fGRG17L+BQWctW4LS04RsVS46HEgLRc4rY04xgtWRQajk\\u002faDFXR5IggCpX2Vb3+IwxlGY9ccprqeT7NUNZ42s\\u002fxKUkTSgxKAVNcRNpgabvkYiiLFFAE0Ug7eZHLChkpTiIdkDQigOSKpycs+vJIcoShTFJiGMKkvgDAoHNGkqNZIe0w1IYSAwCiJBZE3qBzhBODOEZLG7zAmZnScGJQLkfufTh0NjccM5HgwwSiS2jveLofR4ST9pbQ1R3hN5W6WYAhHAPMTJZUMM1HAi8r3QuC1oT1CeXY0cyxvIPW116d7ULjwQPpgweUz5+96SkcH4zARBFEPnfSXeYGGR89Zb0y9ievY408PelIc8\\u002f44WrnetkypYkPpLmola3o9R+LpkZjqXG7oRoA9JSNy8aD8b5EJmhmPJImlFBeUkRgtOTCECEF5PgUL3Icn2JpuxQnw8UlTTqbkFyl5uZYasys92AIlxJLc1GpryrH2l7\\u002f0WrnegDoGT8MAA2ld0jiYLyPxJmswOEYJW2kuShCOOSVI\\u002fc+PU0tUnysM\\u002fJuPbt2melOQeTjfLAz8q68IDUnbKRnhfnujJg6F\\u002f1TnA8p3QvCrCYsjMQETgAA7y1lvvevplQAcLU5wv1Ro8cQ7o9mosoFkdnzsSRzk4FTuM7GpAJJ2kwnxhOkniT1JGmkaBM99tEoZaQYO5OOZACAi2WKaqQ4khEQuFa4e966QrIkqScT47M9tbcwZIXch8egcxqZEqPORWB0mXVZJjuVp6yxsBVZPimKoigKNGFgaTvHJz3WpSROc9k4L3D5GjmgCIK0IbvkFf0snzbQ9mhqjCL0UpwpzaQrmholcF0oPlBiapATk\\u002fpKZ2MeS1uKi\\u002fJCpsqxNpjol8UIYZlswsZWJDIhaSOSHDXpXCamVC5H7kJ6OUtG0lfkW1tmybv+XypNAP5M\\u002f9vj\\u002f1tpXVimLSvo7QzJknyGj43EjW42Ohwn9SShw9ufbul+xzd62r929\\u002fILf7iMMBTyRZzN9vhoIjGR1DsYkiEkIwCYK4y0iRo\\u002fH3A02SQBAJS0OlxLHX3vD7Il+tHTfj7DK1q5ljpBFIO9EXkuk5NBCKRMMAJhBDbLZDIxTq6F1BOEjjCVG8fO+POzkjsVeUESjJ+fKGlxxEbisZG43s7QZgphKBVMSxvB7rAoiI5GWzKYio8l8sOqPW58Yai6s4bP8NZaq8FtOP6jo00PN6fD6ehAFERx+PgQqSfLb6mkDKSxzJSJZYpqpDhtzyxLh9M9e6+Ubazo\\u002fWN3y1NtXIzr3ns5m5zDYvnC43Ws6fMfV1zGJYMASa7CjUJNIQpXbcmm8ehlu6GmZ\\u002fyQIuA0F0KiKBZNbKoVQqKo2MAmLw7IbSjI70Lp+3QwbYW29ZFGa425\\u002fekWiiVrtnr1Dqb5oXqMwGgjlU3nFvDtjbZln29ufrCesemWPdWsM9OtDzdKRspAlq0urb69kmTJJffXyYKm++v0DsbZZAeA8nVuvYMBgPxW9durGZuu+aEGITN1mkBORs4Ep\\u002fDZJ5Nfi63WsuqLSwkaz88qv1NZwFh1GIHWvNAOAMufa219uLFig0feqFjvqb+n2lJtWvFcq85Cy62kT9t1JOILWeus8dF4\\u002f\\u002ft92WQ2PhKLDkSiAxGDxwAAjFNvrjIn\\u002fMnIQERNIyEZ9SV6S40F4RhO4pSJErJFvjk3FMOhs2rTDeRdj1q4IVNokVG4esaPCCLf6z+S75I2prlEEVQSm2o1+bHJ28gNddHZCqZ38elk2iEhwlHfnwZ1Jop1sRdf7264t1pnpeNjiWQwNdEVBABA0P2uT2emjeWGcy9dIijc7DUhHElG2kQ7l9i73uhOTCTL17llgaXSdOSVD6V5KjGeu2wnv1WwO1x\\u002fT7W\\u002fKyDPRPnJjJ6ZqLu7SmelE\\u002f4kAMwyGaOHlWsBgIFjI4PHR8rXT2Wl6FQSVN1aYfSwlJECgOREiktyQydGvbeUSxvWKrOjyRYbiUcGYziFy63knBeexu0vZFPxK\\u002ft\\u002fFbwcFAURYUgUxO43c\\u002fv\\u002fl1+LAUDEFz710w\\u002flJkU1ErJR0kcHIr3v9CzMzqNciNIxCzJZ5cU084cgZmOp3DMYFBS6PvbECrtQUHvHLi4R7jvystJxszBtD0sUxLbHmlzLnOH+SCqYYh36sTMTAIAR2JIH6ydFAABDx0eXP9vqXumauBiQjQDQ98Hg8mdalj65JF8weGJk9QvtZatcCEeudmftNi\\u002fFkvmtMALpLLSQFaVZQCI\\u002fGTkTmHUy+c2llwqlolNJYCozoIJ\\u002fppBP73v9OjONAEmz58J8mQGAoFnG6lZa85AyUeRTNL3ZaCR63u7W8F4dMxayyDUiCtd2NdMniLW7lyMsd58WhqO1u5djk\\u002f8iBSOVl\\u002fdgal9sBAhDMF2gKgYAgLV\\u002fvhyn8Kb76xxNtinjZDKKTGB2yeTXko+sLNppvkANhCGpwIXE1XyLd8MOpRWgcfsLtbc\\u002frbTewNw0hdz06Ne0K015UNWVStOCMO2Q0Pf+gPyLWrbWfeHVy\\u002fL6hXRiLh+BV\\u002fntFXPH5PkCVTEAAJx7savxMzXR4bj\\u002fQkA2yskoMoHZJZNfSz6ysmin+QI1ioadb0xljZl4SGn9BHLTFHLTQ7qchlvXcQPDmIFNfnSOWdbMhyOk25Xu7hPTGcpblunp069px3Q0NzQqZji61pvpHxKzWUmDMbS0kR3VOoadK9MmrJGPpkL3H8qdOVoAosPxcy9dUhjlZK4uk\\u002fxailK00\\u002fmj6d7dob5zGE44mzbglC46dMl3aE8mEQYAxuJqeeAbl975ebj\\u002fnKyvv\\u002fMLOKW78MaPa+\\u002fYZSytIWgWAJyN6yVvx6\\u002f+Spx8jJ4o8u5lW51NGwiKSQZH+o+\\u002fGhvtkVwmT0PZiu2MzSNwqWBv58CJ13kudyFV4\\u002fYXIkNdIIrOpo0ErWyowXUpBNRr0S5EI1uJ5U98\\u002f8q+X1IGq3vZVoq1ZGLBrrd\\u002fmo4GNHqUMJcvKVtxt85SiuG5L1F0+PLFvf+sHZPQGdxLt5jLmyiDlU8no6Pd\\u002fcf+wCUiAGAua\\u002fKsuDtwpaNs5T2hvrPDH\\u002f2xbutzCMO73\\u002fs1TurUXLGxXqn3th3fpo12AAj0nOp+79eSEWYaH1AvROS42IEjprtvk\\u002f6nIVFi54NhTM+I6TQfiiCCAADSaQ+\\u002f8a5x6y242cgNjlDe8vSlHkkDNJXb+FhRHlvdsFDGaQdu2rAlXqVpFqh1Ya1boTRdFaVttzNWd8+B3\\u002fQc+A1jddfe8bRkT4ZGY2M9zoa1spKgWZOnYeJyBwD0H33l\\u002fKs\\u002fSkXGA90fnn7x+9Kf\\u002fCUHAHPZEktFi+\\u002fQnkvv\\u002fFwU+botz+CkDgCM7rr6bc8ng8OX3v6Z7\\u002fBLJk9D\\u002fZ1fQGjqHXe1bLZUtvoOKxvOyAIXAjPVol2IWrYyJc232GqW9x195eLen\\u002fgvHUvHgjBTjzqTs27LM8Hezs5\\u002f+17XWz8V+Oxgx79Ls5VGTAAQeI7Um4Y793Xt\\u002fclAxxvmssaqDTvlVoy1lDLYfIf22GqWV29+vO\\u002fIS6nIuKd9m7ZL4vSevzv5m+\\u002fE\\u002ff2yRUZjfDQKQSTJblzFR2NCPMFuWIkxOsAxIRan62vI0hKqwkNVlgnp3EVImf4hpKPTV3yyZmrjY2VWF47OB7TZaapoio\\u002f2IoTpbO7kxCBj9+C0nouHQRRxSpcMDBM6Nuw7a\\u002fa2cPGws\\u002fWW0c73EIYZXNWJiUGEMNrkSIVGRYHXWV3xUR8ASAG5RIRxlMfHfIyjTBJTBitO0sngSDYZkzSiKEiu+Ejup0bvKFd0IYtps9OxZH0yOCKLrxJR6D74G5HPAoCQ5eq3PW8oqY6N9QDA+MUjVRsfIRkjl4wCgLV6GYhioOcUAEgHUKLA81w6HZt29CqBcPzSO\\u002f8nm4oDQN\\u002fhl5vv+5reUR4dvly24u74WG\\u002fvB7+XZKnwWMv9X7d4W4O9nZIFI6iiDScDq7OwhQCAdi0zFKKerYTOUnL25R9KU2dstFsyavdoLm8S+Oxw5z4AMTLUFRm8YHDVALw7GbJ4TAAQuLS8+xMb69WZnCXNm2QvhpMjZ\\u002fZziUjZyu3x8b7wwAXKYCttvV3bNYnIZ5KiUOSKOY3x0Sgk\\u002fNofASGQLrmY3Mj4BqUnZE\\u002f8338DgEzfIABE33kfAOSHZ8saeeNj5LrtYVmq28bPvJ8Y72dLqyYuHDF66hFGCJkURlCUweo\\u002ff9jgrqFNdgCgTY5kYCg5MZgKDFtrlvOZpN5RQRksseEr8dFeEEWc0gtcWg7IxcMYjgOALKZNdv\\u002f5w6yzQtbILjmfwi5kMYiC1FwWXx2JwJD0tQGA6MhlANDbPNLLYM9HQjZtr10pvbTXrAj1n+MzuUtAtEn4B6TPIgBIEwHJmBCGs05veOCCLEsGhzPxsMk9eYJVpaHs1WAhCwGAGWtRa5jzqmcrERm4kL+jB7PoESNpUeBBvqIqb1uiMGZR0tEJnNTl3z4uTfTZdDIdDwKAwKUxgpzRpY3G+MxQiCgCAJZ\\u002fO75GUbKrcOPj47pNWKnQWMnSW\\u002fUllVwiaqtflYmHAURptR6jdPbGNdlkLJtO2BpW45ROFASCMeksJcnAEEbS8dFeABCyaQAADMum4gZ3rRxQZylh7GV6R7ksFiaXHmRNfhyJwi5ksdz8Gsmmp+4dEfiswHMEk7toU+C5iSsdjoa1AECxVoOrauLyCVmsDZeaupBKAiGEUzqEsGw69zGVyKZjhC7XI6g0VFiKspCFAMCMtag1lNDIVoKb\\u002fDLLzNhjeOACQTHOpg0IJ1hHhamsKdR3Nl9cGFMCYVjJkk2N27+89OH\\u002ftOLz\\u002f71q48P5XlEUcns0APIkO6NrRjTGZ8ZCCJPZuGylZeNtMLvPxnxz3Q4Jw71npPsPEmN9U3ueAADgbN080XVcsS86dPwNEMVUaCzXarxPEifG+pL+AenXTL6hwffe7wAg4R\\u002fIF4+dPihrEmN9slhG0QWMT4nl5tcCQTHyNoYTGE5Kv5kS4xePlCzZxDq9xtKabCoeHjwvu2ag2HX2fCYlCoK0wi1D0IZ4yjf1uljD2bCQhcBsalFpKKGdbVFm7DExMdB39BXv+ocq196fiYdHOt8dvzirq88r1txvr13Rd+Tl6Gg3l4w66lZ589aw5gv18dEuBGGYvrYB1+sBtIIsJNdtwgLpR2NyK98evPLhlKVgo\\u002fCuhbzTTAUudUuhq7CLIpprQO8oRzgh\\u002fTwa3XUAkAxMnQBNBofj4z5bzXKD0xvoPqk4oBC4DEZQ+RZtRIGPjXabK5YMd+YWVhirm2LN0ZHctezXwkIWAtdci3a2RZlNj4761YMd\\u002fy4LZomlsiXQfXLiSof0Um8rm+6\\u002fDmgUIgpC5ORxnDXMdZ9u\\u002frhuh4QaZJPKPdibAwwj6m7fZfI0WL1t3g07YmM98jlpifGLRyyVLayjwl9wGBX391kqmq3eNtZRYfI0KLxFGfzwTdZRWbXxYWNprbVqad0du+L+\\u002fqAvt+J+LSxwIXBttcyYbVG0e8RwgrF5MvEgFF6arEk64je661inl7G63Uu3WLxtSsXVgjCc0LEIIzCcJGgWYbhSUYwZCyGMJrZxiXnl2k\\u002f7IeGnkKCvMxMP1dz6BEbSkaEu36E9CkGg51TFmvuS4bHExIDCNXTyLUJnqNr0CABKhcciQ10KQSGxsd6ut35atvKehm1f5Ll0qO9M\\u002f\\u002fHXZrMSPCMLXAhcWy0zZlsU7R4FgQ8PnK\\u002fe\\u002fET15icAIJuORwa7fIf28NwMT6ryHXrRu2Fn493\\u002fQRT4UN\\u002fZrr0\\u002faXngr5SiueNq2Vyx5j75Zfvj3wMA3wcvjnfNcKA6YyF8KolRtJDJ3CCHhDfErPlpoOne3Zl4qPu9f1U68kAY3v7Yd4dP7xvp3Kf03TB8sgqZTbZzBzXc9UWB50ZOvydwaUCI1Bu9G3YGrnQMnHhDqb2hmbkQutSjq\\u002fAKXEbMZmNnPpre\\u002fDqwuIe1kMzw82CtWoYR1MSl40rHDccnq5AZsp0rOrPT5Gk494d\\u002fTAQGc6YJSIXHKNaSL7vxmU0h2XAoGgwI6ZSu3CsbryOLE9b1Byd1OksJpTdXrP7s2IVDM57DumG5aQrRJhMP8Vy6tO220bMH+UyS0BmtVW0md92V\\u002ff+ilN7YzKYQPpm7KCQ1kHd++fqxOGFdf2ijvWHblwDEYG\\u002fn4InXle5PDjdNIdoI2cylt3\\u002fmWX5X\\u002fbbncYrhM6lkYOjKvl8FfaeV0hubm6aQecG4fGXF7q8prfPMdem0ENsd22x33q203oy4bW3rmp5XWhecGvfmOvdtSut15QYZGQU2Y9XG5he2tH+rvmyL0jd3FmDYb7jLGjCaLtnxmNI6z8x3p4F9bwf+uFdp\\u002fRRD4FSrd+qs1sdO9\\u002fDBy8PvKa03PPM9LIUEor0fnPtfo8Gpp2tcCwsw7DfchMXU1JEWi9I6z1yXTj\\u002fNWA3VOsqktH7qWRyWGZnfNSzCaCp56BFdVXU2GIhfmLpFQ9+4xL71LtJZImaziYvnx176vcjzOMuWPrGLdnsQSVX\\u002f9XcBIPSnA8ED+4qKp\\u002fooYF47xVm25MGHdVU1CCe4ifGxPf8vPZy7bNq0aq1l02bCYhOzXPDA\\u002ftD7+wGALq907XyMsFiiJz8cf+VFORmMouz3fI5d0ooQinaenNj7upjN1v7Xvx998bf2u+7F9Wx6oG\\u002f097\\u002fNRsIawYsGkbtYMGjS0OL9nIWtSGZC\\u002fvDUI8Yc5vpa960sbRdE3h++dK7vdUHkSULfXrPTyLgwjLyt7S8BwDd2pGf0g6JiACAJfUvlZ6wGL0J4Ij1x1vdqNDkqxS+zL\\u002feWrNVRFkHM9o5+0Dt6GADMek9r1f06yjQcOH2ub+oiAxwjG8q3lZgbANBo8GzX4DuCyN+5\\u002fDune1+uL9tC4vpIYvB07ytpLneioGjwokHkLgopOjJFK1UbFjW9hr1oUWriothNta3ezx088yPp3l4dZd7UsvvgmR9luLja21F02NXENy7up551PfokIknCYvV+\\u002fdvychLlLNFVVCIMI0zmqm\\u002f+jXHFarmJef2msi\\u002f8mfwSNMVFmddO7XfdW\\u002froUwjHEY4z1bUYlbvLxNi+supbf6ur9AJChMlE2uxTsQAcn7nfef+0W8ZKHnqk9PGnMYrGGKbsS7ulFa667\\u002f9D2Zd24wYDIinPruflJmrBiwZZeNprH1la\\u002fSCGEQxl3tSyW16pYXV2M1uGEEaTxs2tX\\u002fHYl8lNKp2rV9U\\u002fJb8EdXG9Z8vS6ocQwhDCrAYvjpGS3W1ru7XtL8xsOQJEk0aGtk7FAmgqv6u58t58S4v3s8uqd+AYReK61Q27pKWWO5f\\u002fzeqGXRTB4hi5ou5xuYla8KJBNCg6MmqVQrFhAXW9mr1oUWpiiVbvfYo1rE0tu53memm7unRje03uJm21t0NCMeza4qtjHg8JEYaxTc2hA\\u002ftEjsuGgpETR2VXZnws1d8nCkI2Ek52XyHt077eCuYknu9Os6EgXelll7QCQLLnipDJPcDMtGZd6P39qT4fiGI2EuECE3KoQhCOG1esDryzV8ikhWQycuywoa1dcoUO7ONjMZHLxM6doV2lkrFocI0gCwlCmNPU0DPygSBkk5nw4MQp2RVPTYTjg6IopLloIObTU9PmFAVq4lQmZGbLSsxNCFAw5pP+HSkAlDtW9I4eDscHRBDTXDSZDk7FKgAhzGNbdmX4AC9kOD414O9wWZslV+\\u002fooUw2zgvcWOiCQeeUjEWDawQpitrIqFWqhppezQ7FitIQF2XA3+Gxt0vbbmubnLza21GUOYlnyTweEmIsCxiWjUSkl3w0twEAOm+19bYthNkCokhYLJGjh2VXIXMSz3en4aOH+GTCcsutzvseCn1wIHhwv\\u002fTQH8Ji5QKBaSHUwY0mhGHlX\\u002f4L2SI\\u002fSZYLhXImPgt47uekaHCNIAsJRegRQvKRlLwBABZDRbVrk44ygSjqKHO\\u002fX3lfYT5q4n5\\u002fB8envK51Syq3+8aO9I4eko9TkplQfgQNaNKIELa26QuyJctPPnEokzvoFkRe+r\\u002fwoBJcI0hR1EZGrVI11PRqdihWlIa4KIP+kzWlmylCT5EGktD7I7njWbW3oyhzEs+Sq5ywmrdXnHuz39NmGzqt\\u002fCLJCPE4CAJuNPLxGADgrEGyI4LwPPul8VdejJ7sAIDSx5\\u002fOb6VgTmJYkE5jnadinaeoUo\\u002f7qWf4aDTScQwA+HCYtM7wqyXDRyOiIPT\\u002fz7\\u002fnJgp2xIq9o0WDawVZQDLZhCiKFGmQ\\u002fiE7RbCSHcOIlXVPnut7fThwGgCWVe\\u002fIb6UoUls8Ejw7EjxrZFztNQ9nuLj0a5\\u002fORHSUOV+mQZqLiqJw+PxPEgU7YoX\\u002f6BRUgmsEKUrRkdGutDAVNb2aXUJRlLa4KByfGg2dd9vaKIIdmjiVP9EUfTvUmJN4NsxwSGitNKx8rLa0xepZalv2YHVpi7Ws3b58Z42tymgsYVzNVgBo3l7RvqO6vN3uabMtfaCqeXuF1FYUhPjF89bNdyCCIEwm44pVkh0RJEaSnN8PALqKSn39tFv2s5Ew6XBiDAMACMe1xYXMd6dMbT1hMgNANhTk43HAc7\\u002fJkY5jlltuo8vKASFcz9Luac+0VCDyfLTjmP3uz+B6PSBEWm26Sq9SlEfR4HMNMk+IouCPdFW7NmIYQZNGj22pZMcQgWNkIh0AADNbZjfV5LdKc1G9zk7iOgDAEK4hthmradIIAMlMOJNNoMmnqg9OfFRVst6kdwMASTBGxiU3KUQUhcGJU\\u002fVlW0iCAQCGspjZcqUoj6LB5xqk6MhoVAoFw6KhV7MXZU5imf7x4y5Ls9PSmD\\u002fLqL0dRZmTeJbMsIfVuLXsyC8uAsDqp+qP\\u002f\\u002frS2mcaEEJHfnFx3bON0bEkTiIAsFSwh352YdWTdakIl03zqUhuWQcAxl9+sWTHo9Xf+R4XCIQPf2BavQ4AhFTS\\u002f+br7s8\\u002fCyIkfd3Bg\\u002fsxMrd0DQCJ82eTrcuqvvE3ApcJvP1m5MRRDXFR5rVTxlvteuQJjNaJmXTsTGe045hkj3QcQxTleuRJwmwR0+nAe+9IZw9LHtjJ1NThJhNCSF9blx4eGvntrwBg\\u002fLWXbVvvKt\\u002f9NZxl+UgksO\\u002ftVJ9vMh0lasHnFGT+ONf3Rov3c7e1\\u002fWUyE+ofP17mWAEAWT7VNfjH5TWPiiCG4n29o4cxbOrDNh7uclmab2n9Ci9wl4f2D06cVBNbDBVtVQ8QOM3zmdHQefnLMzhxEsfItqoHdJQ5y6d7Rv4knYFqrvyMzeilSSMAshmro4mRj3r2AMCFgb117tvWNT1PEfo0F70yfDAcH8hlU4Ba8DkFgWIjM9dhUdOr2YuiIV5a\\u002faBJ76FJI4DosjQFY31nfa9JrkhiGBBw2YQ000movR1Fh11NfC0gpWE69bd7LOXswMkJawWLcCSKgJOYKIiWMvb83v51zzae+O3lipWOE\\u002f96edWTdeGhhL3aePm9Yf+VqZWjRRZZ5BPK2sbn+sePDwU6lY4bGfm\\u002fHBduKNjwxSZXk2Xds41KxyKLLPJJo9Taurntq9KR6Y1D8ann6iBo3FLOBnqjM\\u002f7z5EUWWeSGxWVZ0uK9L81Fzvhe1T7mXWSRRRZZZJFFFlnkk8\\u002f\\u002fByVsqK+lFy\\u002fQAAAAAElFTkSuQmCC\",\"type\":\"image\",\"xaxis\":\"x\",\"yaxis\":\"y\",\"hovertemplate\":\"x: %{x}\\u003cbr\\u003ey: %{y}\\u003cbr\\u003ecolor: [%{z[0]}, %{z[1]}, %{z[2]}]\\u003cextra\\u003e\\u003c\\u002fextra\\u003e\"}],                        {\"template\":{\"data\":{\"histogram2dcontour\":[{\"type\":\"histogram2dcontour\",\"colorbar\":{\"outlinewidth\":0,\"ticks\":\"\"},\"colorscale\":[[0.0,\"#0d0887\"],[0.1111111111111111,\"#46039f\"],[0.2222222222222222,\"#7201a8\"],[0.3333333333333333,\"#9c179e\"],[0.4444444444444444,\"#bd3786\"],[0.5555555555555556,\"#d8576b\"],[0.6666666666666666,\"#ed7953\"],[0.7777777777777778,\"#fb9f3a\"],[0.8888888888888888,\"#fdca26\"],[1.0,\"#f0f921\"]]}],\"choropleth\":[{\"type\":\"choropleth\",\"colorbar\":{\"outlinewidth\":0,\"ticks\":\"\"}}],\"histogram2d\":[{\"type\":\"histogram2d\",\"colorbar\":{\"outlinewidth\":0,\"ticks\":\"\"},\"colorscale\":[[0.0,\"#0d0887\"],[0.1111111111111111,\"#46039f\"],[0.2222222222222222,\"#7201a8\"],[0.3333333333333333,\"#9c179e\"],[0.4444444444444444,\"#bd3786\"],[0.5555555555555556,\"#d8576b\"],[0.6666666666666666,\"#ed7953\"],[0.7777777777777778,\"#fb9f3a\"],[0.8888888888888888,\"#fdca26\"],[1.0,\"#f0f921\"]]}],\"heatmap\":[{\"type\":\"heatmap\",\"colorbar\":{\"outlinewidth\":0,\"ticks\":\"\"},\"colorscale\":[[0.0,\"#0d0887\"],[0.1111111111111111,\"#46039f\"],[0.2222222222222222,\"#7201a8\"],[0.3333333333333333,\"#9c179e\"],[0.4444444444444444,\"#bd3786\"],[0.5555555555555556,\"#d8576b\"],[0.6666666666666666,\"#ed7953\"],[0.7777777777777778,\"#fb9f3a\"],[0.8888888888888888,\"#fdca26\"],[1.0,\"#f0f921\"]]}],\"heatmapgl\":[{\"type\":\"heatmapgl\",\"colorbar\":{\"outlinewidth\":0,\"ticks\":\"\"},\"colorscale\":[[0.0,\"#0d0887\"],[0.1111111111111111,\"#46039f\"],[0.2222222222222222,\"#7201a8\"],[0.3333333333333333,\"#9c179e\"],[0.4444444444444444,\"#bd3786\"],[0.5555555555555556,\"#d8576b\"],[0.6666666666666666,\"#ed7953\"],[0.7777777777777778,\"#fb9f3a\"],[0.8888888888888888,\"#fdca26\"],[1.0,\"#f0f921\"]]}],\"contourcarpet\":[{\"type\":\"contourcarpet\",\"colorbar\":{\"outlinewidth\":0,\"ticks\":\"\"}}],\"contour\":[{\"type\":\"contour\",\"colorbar\":{\"outlinewidth\":0,\"ticks\":\"\"},\"colorscale\":[[0.0,\"#0d0887\"],[0.1111111111111111,\"#46039f\"],[0.2222222222222222,\"#7201a8\"],[0.3333333333333333,\"#9c179e\"],[0.4444444444444444,\"#bd3786\"],[0.5555555555555556,\"#d8576b\"],[0.6666666666666666,\"#ed7953\"],[0.7777777777777778,\"#fb9f3a\"],[0.8888888888888888,\"#fdca26\"],[1.0,\"#f0f921\"]]}],\"surface\":[{\"type\":\"surface\",\"colorbar\":{\"outlinewidth\":0,\"ticks\":\"\"},\"colorscale\":[[0.0,\"#0d0887\"],[0.1111111111111111,\"#46039f\"],[0.2222222222222222,\"#7201a8\"],[0.3333333333333333,\"#9c179e\"],[0.4444444444444444,\"#bd3786\"],[0.5555555555555556,\"#d8576b\"],[0.6666666666666666,\"#ed7953\"],[0.7777777777777778,\"#fb9f3a\"],[0.8888888888888888,\"#fdca26\"],[1.0,\"#f0f921\"]]}],\"mesh3d\":[{\"type\":\"mesh3d\",\"colorbar\":{\"outlinewidth\":0,\"ticks\":\"\"}}],\"scatter\":[{\"fillpattern\":{\"fillmode\":\"overlay\",\"size\":10,\"solidity\":0.2},\"type\":\"scatter\"}],\"parcoords\":[{\"type\":\"parcoords\",\"line\":{\"colorbar\":{\"outlinewidth\":0,\"ticks\":\"\"}}}],\"scatterpolargl\":[{\"type\":\"scatterpolargl\",\"marker\":{\"colorbar\":{\"outlinewidth\":0,\"ticks\":\"\"}}}],\"bar\":[{\"error_x\":{\"color\":\"#2a3f5f\"},\"error_y\":{\"color\":\"#2a3f5f\"},\"marker\":{\"line\":{\"color\":\"white\",\"width\":0.5},\"pattern\":{\"fillmode\":\"overlay\",\"size\":10,\"solidity\":0.2}},\"type\":\"bar\"}],\"scattergeo\":[{\"type\":\"scattergeo\",\"marker\":{\"colorbar\":{\"outlinewidth\":0,\"ticks\":\"\"}}}],\"scatterpolar\":[{\"type\":\"scatterpolar\",\"marker\":{\"colorbar\":{\"outlinewidth\":0,\"ticks\":\"\"}}}],\"histogram\":[{\"marker\":{\"pattern\":{\"fillmode\":\"overlay\",\"size\":10,\"solidity\":0.2}},\"type\":\"histogram\"}],\"scattergl\":[{\"type\":\"scattergl\",\"marker\":{\"colorbar\":{\"outlinewidth\":0,\"ticks\":\"\"}}}],\"scatter3d\":[{\"type\":\"scatter3d\",\"line\":{\"colorbar\":{\"outlinewidth\":0,\"ticks\":\"\"}},\"marker\":{\"colorbar\":{\"outlinewidth\":0,\"ticks\":\"\"}}}],\"scattermapbox\":[{\"type\":\"scattermapbox\",\"marker\":{\"colorbar\":{\"outlinewidth\":0,\"ticks\":\"\"}}}],\"scatterternary\":[{\"type\":\"scatterternary\",\"marker\":{\"colorbar\":{\"outlinewidth\":0,\"ticks\":\"\"}}}],\"scattercarpet\":[{\"type\":\"scattercarpet\",\"marker\":{\"colorbar\":{\"outlinewidth\":0,\"ticks\":\"\"}}}],\"carpet\":[{\"aaxis\":{\"endlinecolor\":\"#2a3f5f\",\"gridcolor\":\"#C8D4E3\",\"linecolor\":\"#C8D4E3\",\"minorgridcolor\":\"#C8D4E3\",\"startlinecolor\":\"#2a3f5f\"},\"baxis\":{\"endlinecolor\":\"#2a3f5f\",\"gridcolor\":\"#C8D4E3\",\"linecolor\":\"#C8D4E3\",\"minorgridcolor\":\"#C8D4E3\",\"startlinecolor\":\"#2a3f5f\"},\"type\":\"carpet\"}],\"table\":[{\"cells\":{\"fill\":{\"color\":\"#EBF0F8\"},\"line\":{\"color\":\"white\"}},\"header\":{\"fill\":{\"color\":\"#C8D4E3\"},\"line\":{\"color\":\"white\"}},\"type\":\"table\"}],\"barpolar\":[{\"marker\":{\"line\":{\"color\":\"white\",\"width\":0.5},\"pattern\":{\"fillmode\":\"overlay\",\"size\":10,\"solidity\":0.2}},\"type\":\"barpolar\"}],\"pie\":[{\"automargin\":true,\"type\":\"pie\"}]},\"layout\":{\"autotypenumbers\":\"strict\",\"colorway\":[\"#636efa\",\"#EF553B\",\"#00cc96\",\"#ab63fa\",\"#FFA15A\",\"#19d3f3\",\"#FF6692\",\"#B6E880\",\"#FF97FF\",\"#FECB52\"],\"font\":{\"color\":\"#2a3f5f\"},\"hovermode\":\"closest\",\"hoverlabel\":{\"align\":\"left\"},\"paper_bgcolor\":\"white\",\"plot_bgcolor\":\"white\",\"polar\":{\"bgcolor\":\"white\",\"angularaxis\":{\"gridcolor\":\"#EBF0F8\",\"linecolor\":\"#EBF0F8\",\"ticks\":\"\"},\"radialaxis\":{\"gridcolor\":\"#EBF0F8\",\"linecolor\":\"#EBF0F8\",\"ticks\":\"\"}},\"ternary\":{\"bgcolor\":\"white\",\"aaxis\":{\"gridcolor\":\"#DFE8F3\",\"linecolor\":\"#A2B1C6\",\"ticks\":\"\"},\"baxis\":{\"gridcolor\":\"#DFE8F3\",\"linecolor\":\"#A2B1C6\",\"ticks\":\"\"},\"caxis\":{\"gridcolor\":\"#DFE8F3\",\"linecolor\":\"#A2B1C6\",\"ticks\":\"\"}},\"coloraxis\":{\"colorbar\":{\"outlinewidth\":0,\"ticks\":\"\"}},\"colorscale\":{\"sequential\":[[0.0,\"#0d0887\"],[0.1111111111111111,\"#46039f\"],[0.2222222222222222,\"#7201a8\"],[0.3333333333333333,\"#9c179e\"],[0.4444444444444444,\"#bd3786\"],[0.5555555555555556,\"#d8576b\"],[0.6666666666666666,\"#ed7953\"],[0.7777777777777778,\"#fb9f3a\"],[0.8888888888888888,\"#fdca26\"],[1.0,\"#f0f921\"]],\"sequentialminus\":[[0.0,\"#0d0887\"],[0.1111111111111111,\"#46039f\"],[0.2222222222222222,\"#7201a8\"],[0.3333333333333333,\"#9c179e\"],[0.4444444444444444,\"#bd3786\"],[0.5555555555555556,\"#d8576b\"],[0.6666666666666666,\"#ed7953\"],[0.7777777777777778,\"#fb9f3a\"],[0.8888888888888888,\"#fdca26\"],[1.0,\"#f0f921\"]],\"diverging\":[[0,\"#8e0152\"],[0.1,\"#c51b7d\"],[0.2,\"#de77ae\"],[0.3,\"#f1b6da\"],[0.4,\"#fde0ef\"],[0.5,\"#f7f7f7\"],[0.6,\"#e6f5d0\"],[0.7,\"#b8e186\"],[0.8,\"#7fbc41\"],[0.9,\"#4d9221\"],[1,\"#276419\"]]},\"xaxis\":{\"gridcolor\":\"#EBF0F8\",\"linecolor\":\"#EBF0F8\",\"ticks\":\"\",\"title\":{\"standoff\":15},\"zerolinecolor\":\"#EBF0F8\",\"automargin\":true,\"zerolinewidth\":2},\"yaxis\":{\"gridcolor\":\"#EBF0F8\",\"linecolor\":\"#EBF0F8\",\"ticks\":\"\",\"title\":{\"standoff\":15},\"zerolinecolor\":\"#EBF0F8\",\"automargin\":true,\"zerolinewidth\":2},\"scene\":{\"xaxis\":{\"backgroundcolor\":\"white\",\"gridcolor\":\"#DFE8F3\",\"linecolor\":\"#EBF0F8\",\"showbackground\":true,\"ticks\":\"\",\"zerolinecolor\":\"#EBF0F8\",\"gridwidth\":2},\"yaxis\":{\"backgroundcolor\":\"white\",\"gridcolor\":\"#DFE8F3\",\"linecolor\":\"#EBF0F8\",\"showbackground\":true,\"ticks\":\"\",\"zerolinecolor\":\"#EBF0F8\",\"gridwidth\":2},\"zaxis\":{\"backgroundcolor\":\"white\",\"gridcolor\":\"#DFE8F3\",\"linecolor\":\"#EBF0F8\",\"showbackground\":true,\"ticks\":\"\",\"zerolinecolor\":\"#EBF0F8\",\"gridwidth\":2}},\"shapedefaults\":{\"line\":{\"color\":\"#2a3f5f\"}},\"annotationdefaults\":{\"arrowcolor\":\"#2a3f5f\",\"arrowhead\":0,\"arrowwidth\":1},\"geo\":{\"bgcolor\":\"white\",\"landcolor\":\"white\",\"subunitcolor\":\"#C8D4E3\",\"showland\":true,\"showlakes\":true,\"lakecolor\":\"white\"},\"title\":{\"x\":0.05},\"mapbox\":{\"style\":\"light\"}}},\"xaxis\":{\"anchor\":\"y\",\"domain\":[0.0,1.0]},\"yaxis\":{\"anchor\":\"x\",\"domain\":[0.0,1.0]},\"title\":{\"text\":\"Hashtags Word Cloud\"}},                        {\"responsive\": true}                    ).then(function(){\n",
       "                            \n",
       "var gd = document.getElementById('651a9635-59c9-454f-9155-fbf3e04d7c88');\n",
       "var x = new MutationObserver(function (mutations, observer) {{\n",
       "        var display = window.getComputedStyle(gd).display;\n",
       "        if (!display || display === 'none') {{\n",
       "            console.log([gd, 'removed!']);\n",
       "            Plotly.purge(gd);\n",
       "            observer.disconnect();\n",
       "        }}\n",
       "}});\n",
       "\n",
       "// Listen for the removal of the full notebook cells\n",
       "var notebookContainer = gd.closest('#notebook-container');\n",
       "if (notebookContainer) {{\n",
       "    x.observe(notebookContainer, {childList: true});\n",
       "}}\n",
       "\n",
       "// Listen for the clearing of the current output cell\n",
       "var outputEl = gd.closest('.output');\n",
       "if (outputEl) {{\n",
       "    x.observe(outputEl, {childList: true});\n",
       "}}\n",
       "\n",
       "                        })                };                });            </script>        </div>"
      ]
     },
     "metadata": {},
     "output_type": "display_data"
    }
   ],
   "source": [
    "#hashtags used in the posts using WordCloud\n",
    "\n",
    "from wordcloud import WordCloud\n",
    "\n",
    "hashtags = ' '.join(data['Hashtags'].astype(str))\n",
    "wordcloud = WordCloud().generate(hashtags)\n",
    "\n",
    "fig = px.imshow(wordcloud, title='Hashtags Word Cloud')\n",
    "fig.show()"
   ]
  },
  {
   "cell_type": "code",
   "execution_count": 14,
   "id": "361e6707",
   "metadata": {
    "execution": {
     "iopub.execute_input": "2023-07-18T16:39:34.095265Z",
     "iopub.status.busy": "2023-07-18T16:39:34.094875Z",
     "iopub.status.idle": "2023-07-18T16:39:34.123998Z",
     "shell.execute_reply": "2023-07-18T16:39:34.122688Z"
    },
    "papermill": {
     "duration": 0.043528,
     "end_time": "2023-07-18T16:39:34.126657",
     "exception": false,
     "start_time": "2023-07-18T16:39:34.083129",
     "status": "completed"
    },
    "tags": []
   },
   "outputs": [
    {
     "name": "stderr",
     "output_type": "stream",
     "text": [
      "/tmp/ipykernel_20/3881309806.py:3: FutureWarning:\n",
      "\n",
      "The default value of numeric_only in DataFrame.corr is deprecated. In a future version, it will default to False. Select only valid columns or specify the value of numeric_only to silence this warning.\n",
      "\n"
     ]
    },
    {
     "data": {
      "text/html": [
       "<div>                            <div id=\"9fcacc4a-8657-4292-937f-95e31efd842c\" class=\"plotly-graph-div\" style=\"height:525px; width:100%;\"></div>            <script type=\"text/javascript\">                require([\"plotly\"], function(Plotly) {                    window.PLOTLYENV=window.PLOTLYENV || {};                                    if (document.getElementById(\"9fcacc4a-8657-4292-937f-95e31efd842c\")) {                    Plotly.newPlot(                        \"9fcacc4a-8657-4292-937f-95e31efd842c\",                        [{\"colorscale\":[[0.0,\"rgb(103,0,31)\"],[0.1,\"rgb(178,24,43)\"],[0.2,\"rgb(214,96,77)\"],[0.3,\"rgb(244,165,130)\"],[0.4,\"rgb(253,219,199)\"],[0.5,\"rgb(247,247,247)\"],[0.6,\"rgb(209,229,240)\"],[0.7,\"rgb(146,197,222)\"],[0.8,\"rgb(67,147,195)\"],[0.9,\"rgb(33,102,172)\"],[1.0,\"rgb(5,48,97)\"]],\"x\":[\"Impressions\",\"From Home\",\"From Hashtags\",\"From Explore\",\"From Other\",\"Saves\",\"Comments\",\"Shares\",\"Likes\",\"Profile Visits\",\"Follows\"],\"y\":[\"Impressions\",\"From Home\",\"From Hashtags\",\"From Explore\",\"From Other\",\"Saves\",\"Comments\",\"Shares\",\"Likes\",\"Profile Visits\",\"Follows\"],\"z\":[[1.0,0.751716575227713,0.5283614326637862,0.906280512909407,0.6652471355030193,0.6780739195819052,-0.044276733148465704,0.6146358140588691,0.8678500649545852,0.7190880703780972,0.906589899176656],[0.751716575227713,1.0,0.17597388225783914,0.7414120483966637,0.4968244754297847,0.7687153168520168,0.01368212537897785,0.6686678302016504,0.6484581533083463,0.5273331369849138,0.6118603131777354],[0.5283614326637862,0.17597388225783914,1.0,0.1970760561225221,0.23123547422597016,0.302065424756625,0.15872540085447134,0.22366766840369628,0.6399439498617321,0.692447543836858,0.5327488820379198],[0.906280512909407,0.7414120483966637,0.1970760561225221,1.0,0.56752912160005,0.6799772182308966,-0.1634287816367994,0.6102630924834498,0.6951486999168617,0.524855143307541,0.8230611318936046],[0.6652471355030193,0.4968244754297847,0.23123547422597016,0.56752912160005,1.0,0.2794963701216994,-0.1166707293651518,0.18543465563639644,0.4776001010548404,0.6084273902940196,0.6183833475996449],[0.6780739195819052,0.7687153168520168,0.302065424756625,0.6799772182308966,0.2794963701216994,1.0,-0.02449806233353941,0.8485290226081809,0.775053686950064,0.3544649991706957,0.5580963798098604],[-0.044276733148465704,0.01368212537897785,0.15872540085447134,-0.1634287816367994,-0.1166707293651518,-0.02449806233353941,1.0,0.01230173282289337,0.1013903226329755,0.0928156201837299,-0.07245854350631616],[0.6146358140588691,0.6686678302016504,0.22366766840369628,0.6102630924834498,0.18543465563639644,0.8485290226081809,0.01230173282289337,1.0,0.6975077684050585,0.2517324655951574,0.49302206552265443],[0.8678500649545852,0.6484581533083463,0.6399439498617321,0.6951486999168617,0.4776001010548404,0.775053686950064,0.1013903226329755,0.6975077684050585,1.0,0.6142868385971575,0.7788378966791448],[0.7190880703780972,0.5273331369849138,0.692447543836858,0.524855143307541,0.6084273902940196,0.3544649991706957,0.0928156201837299,0.2517324655951574,0.6142868385971575,1.0,0.8160292438110855],[0.906589899176656,0.6118603131777354,0.5327488820379198,0.8230611318936046,0.6183833475996449,0.5580963798098604,-0.07245854350631616,0.49302206552265443,0.7788378966791448,0.8160292438110855,1.0]],\"zmax\":1,\"zmin\":-1,\"type\":\"heatmap\"}],                        {\"template\":{\"data\":{\"histogram2dcontour\":[{\"type\":\"histogram2dcontour\",\"colorbar\":{\"outlinewidth\":0,\"ticks\":\"\"},\"colorscale\":[[0.0,\"#0d0887\"],[0.1111111111111111,\"#46039f\"],[0.2222222222222222,\"#7201a8\"],[0.3333333333333333,\"#9c179e\"],[0.4444444444444444,\"#bd3786\"],[0.5555555555555556,\"#d8576b\"],[0.6666666666666666,\"#ed7953\"],[0.7777777777777778,\"#fb9f3a\"],[0.8888888888888888,\"#fdca26\"],[1.0,\"#f0f921\"]]}],\"choropleth\":[{\"type\":\"choropleth\",\"colorbar\":{\"outlinewidth\":0,\"ticks\":\"\"}}],\"histogram2d\":[{\"type\":\"histogram2d\",\"colorbar\":{\"outlinewidth\":0,\"ticks\":\"\"},\"colorscale\":[[0.0,\"#0d0887\"],[0.1111111111111111,\"#46039f\"],[0.2222222222222222,\"#7201a8\"],[0.3333333333333333,\"#9c179e\"],[0.4444444444444444,\"#bd3786\"],[0.5555555555555556,\"#d8576b\"],[0.6666666666666666,\"#ed7953\"],[0.7777777777777778,\"#fb9f3a\"],[0.8888888888888888,\"#fdca26\"],[1.0,\"#f0f921\"]]}],\"heatmap\":[{\"type\":\"heatmap\",\"colorbar\":{\"outlinewidth\":0,\"ticks\":\"\"},\"colorscale\":[[0.0,\"#0d0887\"],[0.1111111111111111,\"#46039f\"],[0.2222222222222222,\"#7201a8\"],[0.3333333333333333,\"#9c179e\"],[0.4444444444444444,\"#bd3786\"],[0.5555555555555556,\"#d8576b\"],[0.6666666666666666,\"#ed7953\"],[0.7777777777777778,\"#fb9f3a\"],[0.8888888888888888,\"#fdca26\"],[1.0,\"#f0f921\"]]}],\"heatmapgl\":[{\"type\":\"heatmapgl\",\"colorbar\":{\"outlinewidth\":0,\"ticks\":\"\"},\"colorscale\":[[0.0,\"#0d0887\"],[0.1111111111111111,\"#46039f\"],[0.2222222222222222,\"#7201a8\"],[0.3333333333333333,\"#9c179e\"],[0.4444444444444444,\"#bd3786\"],[0.5555555555555556,\"#d8576b\"],[0.6666666666666666,\"#ed7953\"],[0.7777777777777778,\"#fb9f3a\"],[0.8888888888888888,\"#fdca26\"],[1.0,\"#f0f921\"]]}],\"contourcarpet\":[{\"type\":\"contourcarpet\",\"colorbar\":{\"outlinewidth\":0,\"ticks\":\"\"}}],\"contour\":[{\"type\":\"contour\",\"colorbar\":{\"outlinewidth\":0,\"ticks\":\"\"},\"colorscale\":[[0.0,\"#0d0887\"],[0.1111111111111111,\"#46039f\"],[0.2222222222222222,\"#7201a8\"],[0.3333333333333333,\"#9c179e\"],[0.4444444444444444,\"#bd3786\"],[0.5555555555555556,\"#d8576b\"],[0.6666666666666666,\"#ed7953\"],[0.7777777777777778,\"#fb9f3a\"],[0.8888888888888888,\"#fdca26\"],[1.0,\"#f0f921\"]]}],\"surface\":[{\"type\":\"surface\",\"colorbar\":{\"outlinewidth\":0,\"ticks\":\"\"},\"colorscale\":[[0.0,\"#0d0887\"],[0.1111111111111111,\"#46039f\"],[0.2222222222222222,\"#7201a8\"],[0.3333333333333333,\"#9c179e\"],[0.4444444444444444,\"#bd3786\"],[0.5555555555555556,\"#d8576b\"],[0.6666666666666666,\"#ed7953\"],[0.7777777777777778,\"#fb9f3a\"],[0.8888888888888888,\"#fdca26\"],[1.0,\"#f0f921\"]]}],\"mesh3d\":[{\"type\":\"mesh3d\",\"colorbar\":{\"outlinewidth\":0,\"ticks\":\"\"}}],\"scatter\":[{\"fillpattern\":{\"fillmode\":\"overlay\",\"size\":10,\"solidity\":0.2},\"type\":\"scatter\"}],\"parcoords\":[{\"type\":\"parcoords\",\"line\":{\"colorbar\":{\"outlinewidth\":0,\"ticks\":\"\"}}}],\"scatterpolargl\":[{\"type\":\"scatterpolargl\",\"marker\":{\"colorbar\":{\"outlinewidth\":0,\"ticks\":\"\"}}}],\"bar\":[{\"error_x\":{\"color\":\"#2a3f5f\"},\"error_y\":{\"color\":\"#2a3f5f\"},\"marker\":{\"line\":{\"color\":\"white\",\"width\":0.5},\"pattern\":{\"fillmode\":\"overlay\",\"size\":10,\"solidity\":0.2}},\"type\":\"bar\"}],\"scattergeo\":[{\"type\":\"scattergeo\",\"marker\":{\"colorbar\":{\"outlinewidth\":0,\"ticks\":\"\"}}}],\"scatterpolar\":[{\"type\":\"scatterpolar\",\"marker\":{\"colorbar\":{\"outlinewidth\":0,\"ticks\":\"\"}}}],\"histogram\":[{\"marker\":{\"pattern\":{\"fillmode\":\"overlay\",\"size\":10,\"solidity\":0.2}},\"type\":\"histogram\"}],\"scattergl\":[{\"type\":\"scattergl\",\"marker\":{\"colorbar\":{\"outlinewidth\":0,\"ticks\":\"\"}}}],\"scatter3d\":[{\"type\":\"scatter3d\",\"line\":{\"colorbar\":{\"outlinewidth\":0,\"ticks\":\"\"}},\"marker\":{\"colorbar\":{\"outlinewidth\":0,\"ticks\":\"\"}}}],\"scattermapbox\":[{\"type\":\"scattermapbox\",\"marker\":{\"colorbar\":{\"outlinewidth\":0,\"ticks\":\"\"}}}],\"scatterternary\":[{\"type\":\"scatterternary\",\"marker\":{\"colorbar\":{\"outlinewidth\":0,\"ticks\":\"\"}}}],\"scattercarpet\":[{\"type\":\"scattercarpet\",\"marker\":{\"colorbar\":{\"outlinewidth\":0,\"ticks\":\"\"}}}],\"carpet\":[{\"aaxis\":{\"endlinecolor\":\"#2a3f5f\",\"gridcolor\":\"#C8D4E3\",\"linecolor\":\"#C8D4E3\",\"minorgridcolor\":\"#C8D4E3\",\"startlinecolor\":\"#2a3f5f\"},\"baxis\":{\"endlinecolor\":\"#2a3f5f\",\"gridcolor\":\"#C8D4E3\",\"linecolor\":\"#C8D4E3\",\"minorgridcolor\":\"#C8D4E3\",\"startlinecolor\":\"#2a3f5f\"},\"type\":\"carpet\"}],\"table\":[{\"cells\":{\"fill\":{\"color\":\"#EBF0F8\"},\"line\":{\"color\":\"white\"}},\"header\":{\"fill\":{\"color\":\"#C8D4E3\"},\"line\":{\"color\":\"white\"}},\"type\":\"table\"}],\"barpolar\":[{\"marker\":{\"line\":{\"color\":\"white\",\"width\":0.5},\"pattern\":{\"fillmode\":\"overlay\",\"size\":10,\"solidity\":0.2}},\"type\":\"barpolar\"}],\"pie\":[{\"automargin\":true,\"type\":\"pie\"}]},\"layout\":{\"autotypenumbers\":\"strict\",\"colorway\":[\"#636efa\",\"#EF553B\",\"#00cc96\",\"#ab63fa\",\"#FFA15A\",\"#19d3f3\",\"#FF6692\",\"#B6E880\",\"#FF97FF\",\"#FECB52\"],\"font\":{\"color\":\"#2a3f5f\"},\"hovermode\":\"closest\",\"hoverlabel\":{\"align\":\"left\"},\"paper_bgcolor\":\"white\",\"plot_bgcolor\":\"white\",\"polar\":{\"bgcolor\":\"white\",\"angularaxis\":{\"gridcolor\":\"#EBF0F8\",\"linecolor\":\"#EBF0F8\",\"ticks\":\"\"},\"radialaxis\":{\"gridcolor\":\"#EBF0F8\",\"linecolor\":\"#EBF0F8\",\"ticks\":\"\"}},\"ternary\":{\"bgcolor\":\"white\",\"aaxis\":{\"gridcolor\":\"#DFE8F3\",\"linecolor\":\"#A2B1C6\",\"ticks\":\"\"},\"baxis\":{\"gridcolor\":\"#DFE8F3\",\"linecolor\":\"#A2B1C6\",\"ticks\":\"\"},\"caxis\":{\"gridcolor\":\"#DFE8F3\",\"linecolor\":\"#A2B1C6\",\"ticks\":\"\"}},\"coloraxis\":{\"colorbar\":{\"outlinewidth\":0,\"ticks\":\"\"}},\"colorscale\":{\"sequential\":[[0.0,\"#0d0887\"],[0.1111111111111111,\"#46039f\"],[0.2222222222222222,\"#7201a8\"],[0.3333333333333333,\"#9c179e\"],[0.4444444444444444,\"#bd3786\"],[0.5555555555555556,\"#d8576b\"],[0.6666666666666666,\"#ed7953\"],[0.7777777777777778,\"#fb9f3a\"],[0.8888888888888888,\"#fdca26\"],[1.0,\"#f0f921\"]],\"sequentialminus\":[[0.0,\"#0d0887\"],[0.1111111111111111,\"#46039f\"],[0.2222222222222222,\"#7201a8\"],[0.3333333333333333,\"#9c179e\"],[0.4444444444444444,\"#bd3786\"],[0.5555555555555556,\"#d8576b\"],[0.6666666666666666,\"#ed7953\"],[0.7777777777777778,\"#fb9f3a\"],[0.8888888888888888,\"#fdca26\"],[1.0,\"#f0f921\"]],\"diverging\":[[0,\"#8e0152\"],[0.1,\"#c51b7d\"],[0.2,\"#de77ae\"],[0.3,\"#f1b6da\"],[0.4,\"#fde0ef\"],[0.5,\"#f7f7f7\"],[0.6,\"#e6f5d0\"],[0.7,\"#b8e186\"],[0.8,\"#7fbc41\"],[0.9,\"#4d9221\"],[1,\"#276419\"]]},\"xaxis\":{\"gridcolor\":\"#EBF0F8\",\"linecolor\":\"#EBF0F8\",\"ticks\":\"\",\"title\":{\"standoff\":15},\"zerolinecolor\":\"#EBF0F8\",\"automargin\":true,\"zerolinewidth\":2},\"yaxis\":{\"gridcolor\":\"#EBF0F8\",\"linecolor\":\"#EBF0F8\",\"ticks\":\"\",\"title\":{\"standoff\":15},\"zerolinecolor\":\"#EBF0F8\",\"automargin\":true,\"zerolinewidth\":2},\"scene\":{\"xaxis\":{\"backgroundcolor\":\"white\",\"gridcolor\":\"#DFE8F3\",\"linecolor\":\"#EBF0F8\",\"showbackground\":true,\"ticks\":\"\",\"zerolinecolor\":\"#EBF0F8\",\"gridwidth\":2},\"yaxis\":{\"backgroundcolor\":\"white\",\"gridcolor\":\"#DFE8F3\",\"linecolor\":\"#EBF0F8\",\"showbackground\":true,\"ticks\":\"\",\"zerolinecolor\":\"#EBF0F8\",\"gridwidth\":2},\"zaxis\":{\"backgroundcolor\":\"white\",\"gridcolor\":\"#DFE8F3\",\"linecolor\":\"#EBF0F8\",\"showbackground\":true,\"ticks\":\"\",\"zerolinecolor\":\"#EBF0F8\",\"gridwidth\":2}},\"shapedefaults\":{\"line\":{\"color\":\"#2a3f5f\"}},\"annotationdefaults\":{\"arrowcolor\":\"#2a3f5f\",\"arrowhead\":0,\"arrowwidth\":1},\"geo\":{\"bgcolor\":\"white\",\"landcolor\":\"white\",\"subunitcolor\":\"#C8D4E3\",\"showland\":true,\"showlakes\":true,\"lakecolor\":\"white\"},\"title\":{\"x\":0.05},\"mapbox\":{\"style\":\"light\"}}},\"title\":{\"text\":\"Correlation Matrix\"},\"xaxis\":{\"title\":{\"text\":\"Features\"}},\"yaxis\":{\"title\":{\"text\":\"Features\"}}},                        {\"responsive\": true}                    ).then(function(){\n",
       "                            \n",
       "var gd = document.getElementById('9fcacc4a-8657-4292-937f-95e31efd842c');\n",
       "var x = new MutationObserver(function (mutations, observer) {{\n",
       "        var display = window.getComputedStyle(gd).display;\n",
       "        if (!display || display === 'none') {{\n",
       "            console.log([gd, 'removed!']);\n",
       "            Plotly.purge(gd);\n",
       "            observer.disconnect();\n",
       "        }}\n",
       "}});\n",
       "\n",
       "// Listen for the removal of the full notebook cells\n",
       "var notebookContainer = gd.closest('#notebook-container');\n",
       "if (notebookContainer) {{\n",
       "    x.observe(notebookContainer, {childList: true});\n",
       "}}\n",
       "\n",
       "// Listen for the clearing of the current output cell\n",
       "var outputEl = gd.closest('.output');\n",
       "if (outputEl) {{\n",
       "    x.observe(outputEl, {childList: true});\n",
       "}}\n",
       "\n",
       "                        })                };                });            </script>        </div>"
      ]
     },
     "metadata": {},
     "output_type": "display_data"
    }
   ],
   "source": [
    "#correlation between features\n",
    "\n",
    "corr_matrix = data.corr()\n",
    "\n",
    "fig = go.Figure(data=go.Heatmap(z=corr_matrix.values,\n",
    "                               x=corr_matrix.columns,\n",
    "                               y=corr_matrix.index,\n",
    "                               colorscale='RdBu',\n",
    "                               zmin=-1,\n",
    "                               zmax=1))\n",
    "\n",
    "fig.update_layout(title='Correlation Matrix',\n",
    "                  xaxis_title='Features',\n",
    "                  yaxis_title='Features')\n",
    "\n",
    "fig.show()"
   ]
  },
  {
   "cell_type": "code",
   "execution_count": 15,
   "id": "644c0531",
   "metadata": {
    "execution": {
     "iopub.execute_input": "2023-07-18T16:39:34.150550Z",
     "iopub.status.busy": "2023-07-18T16:39:34.150126Z",
     "iopub.status.idle": "2023-07-18T16:39:34.250280Z",
     "shell.execute_reply": "2023-07-18T16:39:34.249367Z"
    },
    "papermill": {
     "duration": 0.114605,
     "end_time": "2023-07-18T16:39:34.252565",
     "exception": false,
     "start_time": "2023-07-18T16:39:34.137960",
     "status": "completed"
    },
    "tags": []
   },
   "outputs": [
    {
     "data": {
      "text/html": [
       "<div>                            <div id=\"863f6308-3710-4a1d-9c7f-095059bcc776\" class=\"plotly-graph-div\" style=\"height:525px; width:100%;\"></div>            <script type=\"text/javascript\">                require([\"plotly\"], function(Plotly) {                    window.PLOTLYENV=window.PLOTLYENV || {};                                    if (document.getElementById(\"863f6308-3710-4a1d-9c7f-095059bcc776\")) {                    Plotly.newPlot(                        \"863f6308-3710-4a1d-9c7f-095059bcc776\",                        [{\"alignmentgroup\":\"True\",\"hovertemplate\":\"Hashtag=%{x}\\u003cbr\\u003eCount=%{y}\\u003cextra\\u003e\\u003c\\u002fextra\\u003e\",\"legendgroup\":\"\",\"marker\":{\"color\":\"#636efa\",\"pattern\":{\"shape\":\"\"}},\"name\":\"\",\"offsetgroup\":\"\",\"orientation\":\"v\",\"showlegend\":false,\"textposition\":\"auto\",\"x\":[\"#thecleverprogrammer\",\"#amankharwal\",\"#python\",\"#machinelearning\",\"#datascience\",\"#pythonprogramming\",\"#ai\",\"#artificialintelligence\",\"#pythonprojects\",\"#data\",\"#dataanalytics\",\"#datascientist\",\"#pythoncode\",\"#dataanalysis\",\"#deeplearning\",\"#datascienceprojects\",\"#machinelearningprojects\",\"#programming\",\"#technology\",\"#coding\",\"#tech\",\"#computerscience\",\"#bigdata\",\"#pythonlearning\",\"#pythoncoding\",\"#pythondeveloper\",\"#datavisualization\",\"#pythonprogrammer\",\"#analytics\",\"#business\",\"#statistics\",\"#machinelearningalgorithms\",\"#dataanalyst\",\"#webdevelopment\",\"#algorithm\",\"#software\",\"#naturallanguageprocessing\",\"#algorithms\",\"#nlp\",\"#neuralnetwork\",\"#ml\",\"#database\",\"#javascript\",\"#code\",\"#coder\",\"#programmer\",\"#java\",\"#softwaredeveloper\",\"#codinglife\",\"#sentimentanalysis\",\"#sentiment\",\"#webdeveloper\",\"#css\",\"#html\",\"#machinelearningmodels\",\"#developer\",\"#timeseriesanalysis\",\"#iot\",\"#analysis\",\"#timeseriesmalaysia\",\"#businessintelligence\",\"#datasciencejobs\",\"#datasciencetraining\",\"#datascienceeducation\",\"#datasciencecourse\",\"#datamining\",\"#time\",\"#timeseries\",\"#php\",\"#programminglife\",\"#hacking\",\"#programmingmemes\",\"#programmers\",\"#neuralnetworks\",\"#webdesign\",\"#dataviz\",\"#linux\",\"#casestudy\",\"#businessmodel\",\"#zomato\",\"#money\",\"#interview\",\"#finance\",\"#powerbi\",\"#tensorflow\",\"#job\",\"#artificialintelligenceai\",\"#investing\",\"#trading\",\"#stockmarket\",\"#healthcare\",\"#health\",\"#covid\",\"#investment\",\"#cryptocurrency\",\"#bitcoin\",\"#dataanalysisprojects\",\"#businessanalytics\",\"#python3\",\"#roadmap\",\"#codinginterview\",\"#pythonprogramminglanguage\",\"#otp\",\"#innovation\",\"#recommendationsystem\",\"#recommendations\",\"#recommended\",\"#otpverification\",\"#projects\",\"#casestudies\",\"#amazonfinds\",\"#security\",\"#cybersecurity\",\"#network\",\"#internet\",\"#cloud\",\"#recommendation\",\"#careergoals\",\"#jobsearch\",\"#work\",\"#tableau\",\"#stocks\",\"#forex\",\"#candlestick\",\"#candlestickcharts\",\"#career\",\"#jobs\",\"#stressdetection\",\"#education\",\"#success\",\"#motivation\",\"#clustering\",\"#careerdevelopment\",\"#careeradvice\",\"#digitalmarketing\",\"#media\",\"#socialmedia\",\"#IT\",\"#marketing\",\"#students\",\"#resume\",\"#goals\",\"#careers\",\"#stress\",\"#sql\",\"#pythonbooks\",\"#mysql\",\"#softskills\",\"#instagramreach\",\"#instagram\",\"#ukraine\",\"#pythonprogram\",\"#whatsapp\",\"@codergallery\",\"#google\",\"#news\",\"#flipkart\",\"#bookstagram\",\"#alexnet\",\"#bigdataanalytics\",\"#qrcodes\",\"#datascienceinterview\",\"#facebook\",\"#boxplots\"],\"xaxis\":\"x\",\"y\":[118,118,109,98,95,95,92,90,90,89,88,84,78,78,76,44,44,26,25,24,23,21,20,19,19,19,19,19,16,16,14,13,12,10,9,9,9,9,9,8,8,7,7,7,7,7,7,7,7,7,7,7,7,7,7,7,6,6,6,6,6,6,6,6,6,6,6,6,5,5,5,5,5,5,5,5,5,4,4,4,4,4,4,4,4,4,4,4,3,3,3,3,3,3,3,3,3,3,2,2,2,2,2,2,2,2,2,2,2,2,2,2,2,2,2,2,2,2,2,2,2,2,2,2,2,2,2,2,2,2,2,2,2,2,2,2,2,2,2,2,2,2,2,2,1,1,1,1,1,1,1,1,1,1,1,1,1,1,1,1,1,1,1,1],\"yaxis\":\"y\",\"type\":\"bar\"}],                        {\"template\":{\"data\":{\"histogram2dcontour\":[{\"type\":\"histogram2dcontour\",\"colorbar\":{\"outlinewidth\":0,\"ticks\":\"\"},\"colorscale\":[[0.0,\"#0d0887\"],[0.1111111111111111,\"#46039f\"],[0.2222222222222222,\"#7201a8\"],[0.3333333333333333,\"#9c179e\"],[0.4444444444444444,\"#bd3786\"],[0.5555555555555556,\"#d8576b\"],[0.6666666666666666,\"#ed7953\"],[0.7777777777777778,\"#fb9f3a\"],[0.8888888888888888,\"#fdca26\"],[1.0,\"#f0f921\"]]}],\"choropleth\":[{\"type\":\"choropleth\",\"colorbar\":{\"outlinewidth\":0,\"ticks\":\"\"}}],\"histogram2d\":[{\"type\":\"histogram2d\",\"colorbar\":{\"outlinewidth\":0,\"ticks\":\"\"},\"colorscale\":[[0.0,\"#0d0887\"],[0.1111111111111111,\"#46039f\"],[0.2222222222222222,\"#7201a8\"],[0.3333333333333333,\"#9c179e\"],[0.4444444444444444,\"#bd3786\"],[0.5555555555555556,\"#d8576b\"],[0.6666666666666666,\"#ed7953\"],[0.7777777777777778,\"#fb9f3a\"],[0.8888888888888888,\"#fdca26\"],[1.0,\"#f0f921\"]]}],\"heatmap\":[{\"type\":\"heatmap\",\"colorbar\":{\"outlinewidth\":0,\"ticks\":\"\"},\"colorscale\":[[0.0,\"#0d0887\"],[0.1111111111111111,\"#46039f\"],[0.2222222222222222,\"#7201a8\"],[0.3333333333333333,\"#9c179e\"],[0.4444444444444444,\"#bd3786\"],[0.5555555555555556,\"#d8576b\"],[0.6666666666666666,\"#ed7953\"],[0.7777777777777778,\"#fb9f3a\"],[0.8888888888888888,\"#fdca26\"],[1.0,\"#f0f921\"]]}],\"heatmapgl\":[{\"type\":\"heatmapgl\",\"colorbar\":{\"outlinewidth\":0,\"ticks\":\"\"},\"colorscale\":[[0.0,\"#0d0887\"],[0.1111111111111111,\"#46039f\"],[0.2222222222222222,\"#7201a8\"],[0.3333333333333333,\"#9c179e\"],[0.4444444444444444,\"#bd3786\"],[0.5555555555555556,\"#d8576b\"],[0.6666666666666666,\"#ed7953\"],[0.7777777777777778,\"#fb9f3a\"],[0.8888888888888888,\"#fdca26\"],[1.0,\"#f0f921\"]]}],\"contourcarpet\":[{\"type\":\"contourcarpet\",\"colorbar\":{\"outlinewidth\":0,\"ticks\":\"\"}}],\"contour\":[{\"type\":\"contour\",\"colorbar\":{\"outlinewidth\":0,\"ticks\":\"\"},\"colorscale\":[[0.0,\"#0d0887\"],[0.1111111111111111,\"#46039f\"],[0.2222222222222222,\"#7201a8\"],[0.3333333333333333,\"#9c179e\"],[0.4444444444444444,\"#bd3786\"],[0.5555555555555556,\"#d8576b\"],[0.6666666666666666,\"#ed7953\"],[0.7777777777777778,\"#fb9f3a\"],[0.8888888888888888,\"#fdca26\"],[1.0,\"#f0f921\"]]}],\"surface\":[{\"type\":\"surface\",\"colorbar\":{\"outlinewidth\":0,\"ticks\":\"\"},\"colorscale\":[[0.0,\"#0d0887\"],[0.1111111111111111,\"#46039f\"],[0.2222222222222222,\"#7201a8\"],[0.3333333333333333,\"#9c179e\"],[0.4444444444444444,\"#bd3786\"],[0.5555555555555556,\"#d8576b\"],[0.6666666666666666,\"#ed7953\"],[0.7777777777777778,\"#fb9f3a\"],[0.8888888888888888,\"#fdca26\"],[1.0,\"#f0f921\"]]}],\"mesh3d\":[{\"type\":\"mesh3d\",\"colorbar\":{\"outlinewidth\":0,\"ticks\":\"\"}}],\"scatter\":[{\"fillpattern\":{\"fillmode\":\"overlay\",\"size\":10,\"solidity\":0.2},\"type\":\"scatter\"}],\"parcoords\":[{\"type\":\"parcoords\",\"line\":{\"colorbar\":{\"outlinewidth\":0,\"ticks\":\"\"}}}],\"scatterpolargl\":[{\"type\":\"scatterpolargl\",\"marker\":{\"colorbar\":{\"outlinewidth\":0,\"ticks\":\"\"}}}],\"bar\":[{\"error_x\":{\"color\":\"#2a3f5f\"},\"error_y\":{\"color\":\"#2a3f5f\"},\"marker\":{\"line\":{\"color\":\"white\",\"width\":0.5},\"pattern\":{\"fillmode\":\"overlay\",\"size\":10,\"solidity\":0.2}},\"type\":\"bar\"}],\"scattergeo\":[{\"type\":\"scattergeo\",\"marker\":{\"colorbar\":{\"outlinewidth\":0,\"ticks\":\"\"}}}],\"scatterpolar\":[{\"type\":\"scatterpolar\",\"marker\":{\"colorbar\":{\"outlinewidth\":0,\"ticks\":\"\"}}}],\"histogram\":[{\"marker\":{\"pattern\":{\"fillmode\":\"overlay\",\"size\":10,\"solidity\":0.2}},\"type\":\"histogram\"}],\"scattergl\":[{\"type\":\"scattergl\",\"marker\":{\"colorbar\":{\"outlinewidth\":0,\"ticks\":\"\"}}}],\"scatter3d\":[{\"type\":\"scatter3d\",\"line\":{\"colorbar\":{\"outlinewidth\":0,\"ticks\":\"\"}},\"marker\":{\"colorbar\":{\"outlinewidth\":0,\"ticks\":\"\"}}}],\"scattermapbox\":[{\"type\":\"scattermapbox\",\"marker\":{\"colorbar\":{\"outlinewidth\":0,\"ticks\":\"\"}}}],\"scatterternary\":[{\"type\":\"scatterternary\",\"marker\":{\"colorbar\":{\"outlinewidth\":0,\"ticks\":\"\"}}}],\"scattercarpet\":[{\"type\":\"scattercarpet\",\"marker\":{\"colorbar\":{\"outlinewidth\":0,\"ticks\":\"\"}}}],\"carpet\":[{\"aaxis\":{\"endlinecolor\":\"#2a3f5f\",\"gridcolor\":\"#C8D4E3\",\"linecolor\":\"#C8D4E3\",\"minorgridcolor\":\"#C8D4E3\",\"startlinecolor\":\"#2a3f5f\"},\"baxis\":{\"endlinecolor\":\"#2a3f5f\",\"gridcolor\":\"#C8D4E3\",\"linecolor\":\"#C8D4E3\",\"minorgridcolor\":\"#C8D4E3\",\"startlinecolor\":\"#2a3f5f\"},\"type\":\"carpet\"}],\"table\":[{\"cells\":{\"fill\":{\"color\":\"#EBF0F8\"},\"line\":{\"color\":\"white\"}},\"header\":{\"fill\":{\"color\":\"#C8D4E3\"},\"line\":{\"color\":\"white\"}},\"type\":\"table\"}],\"barpolar\":[{\"marker\":{\"line\":{\"color\":\"white\",\"width\":0.5},\"pattern\":{\"fillmode\":\"overlay\",\"size\":10,\"solidity\":0.2}},\"type\":\"barpolar\"}],\"pie\":[{\"automargin\":true,\"type\":\"pie\"}]},\"layout\":{\"autotypenumbers\":\"strict\",\"colorway\":[\"#636efa\",\"#EF553B\",\"#00cc96\",\"#ab63fa\",\"#FFA15A\",\"#19d3f3\",\"#FF6692\",\"#B6E880\",\"#FF97FF\",\"#FECB52\"],\"font\":{\"color\":\"#2a3f5f\"},\"hovermode\":\"closest\",\"hoverlabel\":{\"align\":\"left\"},\"paper_bgcolor\":\"white\",\"plot_bgcolor\":\"white\",\"polar\":{\"bgcolor\":\"white\",\"angularaxis\":{\"gridcolor\":\"#EBF0F8\",\"linecolor\":\"#EBF0F8\",\"ticks\":\"\"},\"radialaxis\":{\"gridcolor\":\"#EBF0F8\",\"linecolor\":\"#EBF0F8\",\"ticks\":\"\"}},\"ternary\":{\"bgcolor\":\"white\",\"aaxis\":{\"gridcolor\":\"#DFE8F3\",\"linecolor\":\"#A2B1C6\",\"ticks\":\"\"},\"baxis\":{\"gridcolor\":\"#DFE8F3\",\"linecolor\":\"#A2B1C6\",\"ticks\":\"\"},\"caxis\":{\"gridcolor\":\"#DFE8F3\",\"linecolor\":\"#A2B1C6\",\"ticks\":\"\"}},\"coloraxis\":{\"colorbar\":{\"outlinewidth\":0,\"ticks\":\"\"}},\"colorscale\":{\"sequential\":[[0.0,\"#0d0887\"],[0.1111111111111111,\"#46039f\"],[0.2222222222222222,\"#7201a8\"],[0.3333333333333333,\"#9c179e\"],[0.4444444444444444,\"#bd3786\"],[0.5555555555555556,\"#d8576b\"],[0.6666666666666666,\"#ed7953\"],[0.7777777777777778,\"#fb9f3a\"],[0.8888888888888888,\"#fdca26\"],[1.0,\"#f0f921\"]],\"sequentialminus\":[[0.0,\"#0d0887\"],[0.1111111111111111,\"#46039f\"],[0.2222222222222222,\"#7201a8\"],[0.3333333333333333,\"#9c179e\"],[0.4444444444444444,\"#bd3786\"],[0.5555555555555556,\"#d8576b\"],[0.6666666666666666,\"#ed7953\"],[0.7777777777777778,\"#fb9f3a\"],[0.8888888888888888,\"#fdca26\"],[1.0,\"#f0f921\"]],\"diverging\":[[0,\"#8e0152\"],[0.1,\"#c51b7d\"],[0.2,\"#de77ae\"],[0.3,\"#f1b6da\"],[0.4,\"#fde0ef\"],[0.5,\"#f7f7f7\"],[0.6,\"#e6f5d0\"],[0.7,\"#b8e186\"],[0.8,\"#7fbc41\"],[0.9,\"#4d9221\"],[1,\"#276419\"]]},\"xaxis\":{\"gridcolor\":\"#EBF0F8\",\"linecolor\":\"#EBF0F8\",\"ticks\":\"\",\"title\":{\"standoff\":15},\"zerolinecolor\":\"#EBF0F8\",\"automargin\":true,\"zerolinewidth\":2},\"yaxis\":{\"gridcolor\":\"#EBF0F8\",\"linecolor\":\"#EBF0F8\",\"ticks\":\"\",\"title\":{\"standoff\":15},\"zerolinecolor\":\"#EBF0F8\",\"automargin\":true,\"zerolinewidth\":2},\"scene\":{\"xaxis\":{\"backgroundcolor\":\"white\",\"gridcolor\":\"#DFE8F3\",\"linecolor\":\"#EBF0F8\",\"showbackground\":true,\"ticks\":\"\",\"zerolinecolor\":\"#EBF0F8\",\"gridwidth\":2},\"yaxis\":{\"backgroundcolor\":\"white\",\"gridcolor\":\"#DFE8F3\",\"linecolor\":\"#EBF0F8\",\"showbackground\":true,\"ticks\":\"\",\"zerolinecolor\":\"#EBF0F8\",\"gridwidth\":2},\"zaxis\":{\"backgroundcolor\":\"white\",\"gridcolor\":\"#DFE8F3\",\"linecolor\":\"#EBF0F8\",\"showbackground\":true,\"ticks\":\"\",\"zerolinecolor\":\"#EBF0F8\",\"gridwidth\":2}},\"shapedefaults\":{\"line\":{\"color\":\"#2a3f5f\"}},\"annotationdefaults\":{\"arrowcolor\":\"#2a3f5f\",\"arrowhead\":0,\"arrowwidth\":1},\"geo\":{\"bgcolor\":\"white\",\"landcolor\":\"white\",\"subunitcolor\":\"#C8D4E3\",\"showland\":true,\"showlakes\":true,\"lakecolor\":\"white\"},\"title\":{\"x\":0.05},\"mapbox\":{\"style\":\"light\"}}},\"xaxis\":{\"anchor\":\"y\",\"domain\":[0.0,1.0],\"title\":{\"text\":\"Hashtag\"}},\"yaxis\":{\"anchor\":\"x\",\"domain\":[0.0,1.0],\"title\":{\"text\":\"Count\"}},\"legend\":{\"tracegroupgap\":0},\"title\":{\"text\":\"Distribution of Hashtags\"},\"barmode\":\"relative\"},                        {\"responsive\": true}                    ).then(function(){\n",
       "                            \n",
       "var gd = document.getElementById('863f6308-3710-4a1d-9c7f-095059bcc776');\n",
       "var x = new MutationObserver(function (mutations, observer) {{\n",
       "        var display = window.getComputedStyle(gd).display;\n",
       "        if (!display || display === 'none') {{\n",
       "            console.log([gd, 'removed!']);\n",
       "            Plotly.purge(gd);\n",
       "            observer.disconnect();\n",
       "        }}\n",
       "}});\n",
       "\n",
       "// Listen for the removal of the full notebook cells\n",
       "var notebookContainer = gd.closest('#notebook-container');\n",
       "if (notebookContainer) {{\n",
       "    x.observe(notebookContainer, {childList: true});\n",
       "}}\n",
       "\n",
       "// Listen for the clearing of the current output cell\n",
       "var outputEl = gd.closest('.output');\n",
       "if (outputEl) {{\n",
       "    x.observe(outputEl, {childList: true});\n",
       "}}\n",
       "\n",
       "                        })                };                });            </script>        </div>"
      ]
     },
     "metadata": {},
     "output_type": "display_data"
    }
   ],
   "source": [
    "#distribution of hastags\n",
    "\n",
    "#list to store all hashtags\n",
    "all_hashtags = []\n",
    "\n",
    "#iterating through each row in the 'Hashtags' column\n",
    "for row in data['Hashtags']:\n",
    "    hashtags = str(row).split()\n",
    "    hashtags = [tag.strip() for tag in hashtags]\n",
    "    all_hashtags.extend(hashtags)\n",
    "\n",
    "#creating a dataframe to store the hashtag distribution\n",
    "hashtag_distribution = pd.Series(all_hashtags).value_counts().reset_index()\n",
    "hashtag_distribution.columns = ['Hashtag', 'Count']\n",
    "\n",
    "fig = px.bar(hashtag_distribution, x='Hashtag', \n",
    "             y='Count', title='Distribution of Hashtags')\n",
    "fig.show()"
   ]
  },
  {
   "cell_type": "code",
   "execution_count": 16,
   "id": "c288f624",
   "metadata": {
    "execution": {
     "iopub.execute_input": "2023-07-18T16:39:34.276428Z",
     "iopub.status.busy": "2023-07-18T16:39:34.276004Z",
     "iopub.status.idle": "2023-07-18T16:39:34.455645Z",
     "shell.execute_reply": "2023-07-18T16:39:34.454545Z"
    },
    "papermill": {
     "duration": 0.19455,
     "end_time": "2023-07-18T16:39:34.458261",
     "exception": false,
     "start_time": "2023-07-18T16:39:34.263711",
     "status": "completed"
    },
    "tags": []
   },
   "outputs": [
    {
     "data": {
      "text/html": [
       "<div>                            <div id=\"927671cb-1252-404f-aa79-58aedc90ae93\" class=\"plotly-graph-div\" style=\"height:525px; width:100%;\"></div>            <script type=\"text/javascript\">                require([\"plotly\"], function(Plotly) {                    window.PLOTLYENV=window.PLOTLYENV || {};                                    if (document.getElementById(\"927671cb-1252-404f-aa79-58aedc90ae93\")) {                    Plotly.newPlot(                        \"927671cb-1252-404f-aa79-58aedc90ae93\",                        [{\"alignmentgroup\":\"True\",\"hovertemplate\":\"Hashtag=%{x}\\u003cbr\\u003eLikes=%{y}\\u003cextra\\u003e\\u003c\\u002fextra\\u003e\",\"legendgroup\":\"\",\"marker\":{\"color\":\"#636efa\",\"pattern\":{\"shape\":\"\"}},\"name\":\"\",\"offsetgroup\":\"\",\"orientation\":\"v\",\"showlegend\":false,\"textposition\":\"auto\",\"x\":[\"#finance\",\"#money\",\"#business\",\"#investing\",\"#investment\",\"#trading\",\"#stockmarket\",\"#data\",\"#datascience\",\"#dataanalysis\",\"#dataanalytics\",\"#datascientist\",\"#machinelearning\",\"#python\",\"#pythonprogramming\",\"#pythonprojects\",\"#pythoncode\",\"#artificialintelligence\",\"#ai\",\"#dataanalyst\",\"#amankharwal\",\"#thecleverprogrammer\",\"#healthcare\",\"#health\",\"#covid\",\"#deeplearning\",\"#machinelearningprojects\",\"#datascienceprojects\",\"#machinelearningmodels\",\"#pythonlearning\",\"#pythondeveloper\",\"#pythoncoding\",\"#pythonprogrammer\",\"#datavisualization\",\"#bigdata\",\"#dataviz\",\"#analytics\",\"#technology\",\"#programming\",\"#statistics\",\"#coding\",\"#businessintelligence\",\"#datamining\",\"#tech\",\"#computerscience\",\"#tableau\",\"#database\",\"#algorithm\",\"#algorithms\",\"#machinelearningalgorithms\",\"#ml\",\"#softskills\",\"#stocks\",\"#forex\",\"#candlestick\",\"#candlestickcharts\",\"#pythonbooks\",\"#bookstagram\",\"#powerbi\",\"#dataanalysisprojects\",\"#businessanalytics\",\"#neuralnetwork\",\"#neuralnetworks\",\"#tensorflow\",\"#artificialintelligenceai\",\"#alexnet\",\"#sentimentanalysis\",\"#sentiment\",\"#nlp\",\"#naturallanguageprocessing\",\"#timeseries\",\"#time\",\"#timeseriesanalysis\",\"#iot\",\"#analysis\",\"#timeseriesmalaysia\",\"#career\",\"#job\",\"#jobs\",\"#jobsearch\",\"#education\",\"#success\",\"#careergoals\",\"#motivation\",\"#work\",\"#careerdevelopment\",\"#careers\",\"#goals\",\"#resume\",\"#students\",\"#careeradvice\",\"#marketing\",\"#digitalmarketing\",\"#media\",\"#socialmedia\",\"#IT\",\"#webdevelopment\",\"#stress\",\"#stressdetection\",\"#zomato\",\"#casestudy\",\"#businessmodel\",\"#boxplots\",\"#programmer\",\"#developer\",\"#javascript\",\"#code\",\"#coder\",\"#java\",\"#html\",\"#css\",\"#webdeveloper\",\"#software\",\"#codinglife\",\"#softwaredeveloper\",\"#linux\",\"#programmingmemes\",\"#webdesign\",\"#programmers\",\"#php\",\"#programminglife\",\"#hacking\",\"#bitcoin\",\"#cryptocurrency\",\"#projects\",\"#casestudies\",\"#amazonfinds\",\"#security\",\"#cybersecurity\",\"#network\",\"#internet\",\"#cloud\",\"#innovation\",\"#google\",\"#facebook\",\"#interview\",\"#datascienceinterview\",\"#otp\",\"#otpverification\",\"#qrcodes\",\"#bigdataanalytics\",\"#recommended\",\"#recommendations\",\"#recommendationsystem\",\"#recommendation\",\"#codinginterview\",\"#flipkart\",\"#news\",\"#pythonprogram\",\"@codergallery\",\"#whatsapp\",\"#roadmap\",\"#ukraine\",\"#instagram\",\"#instagramreach\",\"#datasciencejobs\",\"#datasciencetraining\",\"#datascienceeducation\",\"#datasciencecourse\",\"#sql\",\"#mysql\",\"#python3\",\"#pythonprogramminglanguage\",\"#clustering\"],\"xaxis\":\"x\",\"y\":[529,529,2012,529,380,380,380,15577,16811,14301,15783,15203,17009,18238,16251,16818,14239,16015,16233,1845,20962,20962,729,729,729,13704,8958,8958,761,3659,3659,3659,3659,2382,2671,567,2001,3187,3355,1766,3129,728,728,2961,2818,265,887,1615,1615,2065,1058,144,218,218,218,218,124,124,529,387,387,1120,600,450,450,81,1057,1057,1238,1238,812,812,812,812,812,812,410,680,410,410,410,410,410,410,410,410,410,410,410,410,410,410,410,410,410,410,1456,302,302,328,328,328,76,878,878,878,878,878,878,878,878,878,1113,878,878,608,608,608,608,608,608,608,390,390,302,302,184,235,235,235,235,235,235,150,85,600,180,272,272,167,142,373,373,373,373,270,94,96,118,118,178,525,203,171,171,1814,1814,1814,1814,308,308,296,296,240],\"yaxis\":\"y\",\"type\":\"bar\"}],                        {\"template\":{\"data\":{\"histogram2dcontour\":[{\"type\":\"histogram2dcontour\",\"colorbar\":{\"outlinewidth\":0,\"ticks\":\"\"},\"colorscale\":[[0.0,\"#0d0887\"],[0.1111111111111111,\"#46039f\"],[0.2222222222222222,\"#7201a8\"],[0.3333333333333333,\"#9c179e\"],[0.4444444444444444,\"#bd3786\"],[0.5555555555555556,\"#d8576b\"],[0.6666666666666666,\"#ed7953\"],[0.7777777777777778,\"#fb9f3a\"],[0.8888888888888888,\"#fdca26\"],[1.0,\"#f0f921\"]]}],\"choropleth\":[{\"type\":\"choropleth\",\"colorbar\":{\"outlinewidth\":0,\"ticks\":\"\"}}],\"histogram2d\":[{\"type\":\"histogram2d\",\"colorbar\":{\"outlinewidth\":0,\"ticks\":\"\"},\"colorscale\":[[0.0,\"#0d0887\"],[0.1111111111111111,\"#46039f\"],[0.2222222222222222,\"#7201a8\"],[0.3333333333333333,\"#9c179e\"],[0.4444444444444444,\"#bd3786\"],[0.5555555555555556,\"#d8576b\"],[0.6666666666666666,\"#ed7953\"],[0.7777777777777778,\"#fb9f3a\"],[0.8888888888888888,\"#fdca26\"],[1.0,\"#f0f921\"]]}],\"heatmap\":[{\"type\":\"heatmap\",\"colorbar\":{\"outlinewidth\":0,\"ticks\":\"\"},\"colorscale\":[[0.0,\"#0d0887\"],[0.1111111111111111,\"#46039f\"],[0.2222222222222222,\"#7201a8\"],[0.3333333333333333,\"#9c179e\"],[0.4444444444444444,\"#bd3786\"],[0.5555555555555556,\"#d8576b\"],[0.6666666666666666,\"#ed7953\"],[0.7777777777777778,\"#fb9f3a\"],[0.8888888888888888,\"#fdca26\"],[1.0,\"#f0f921\"]]}],\"heatmapgl\":[{\"type\":\"heatmapgl\",\"colorbar\":{\"outlinewidth\":0,\"ticks\":\"\"},\"colorscale\":[[0.0,\"#0d0887\"],[0.1111111111111111,\"#46039f\"],[0.2222222222222222,\"#7201a8\"],[0.3333333333333333,\"#9c179e\"],[0.4444444444444444,\"#bd3786\"],[0.5555555555555556,\"#d8576b\"],[0.6666666666666666,\"#ed7953\"],[0.7777777777777778,\"#fb9f3a\"],[0.8888888888888888,\"#fdca26\"],[1.0,\"#f0f921\"]]}],\"contourcarpet\":[{\"type\":\"contourcarpet\",\"colorbar\":{\"outlinewidth\":0,\"ticks\":\"\"}}],\"contour\":[{\"type\":\"contour\",\"colorbar\":{\"outlinewidth\":0,\"ticks\":\"\"},\"colorscale\":[[0.0,\"#0d0887\"],[0.1111111111111111,\"#46039f\"],[0.2222222222222222,\"#7201a8\"],[0.3333333333333333,\"#9c179e\"],[0.4444444444444444,\"#bd3786\"],[0.5555555555555556,\"#d8576b\"],[0.6666666666666666,\"#ed7953\"],[0.7777777777777778,\"#fb9f3a\"],[0.8888888888888888,\"#fdca26\"],[1.0,\"#f0f921\"]]}],\"surface\":[{\"type\":\"surface\",\"colorbar\":{\"outlinewidth\":0,\"ticks\":\"\"},\"colorscale\":[[0.0,\"#0d0887\"],[0.1111111111111111,\"#46039f\"],[0.2222222222222222,\"#7201a8\"],[0.3333333333333333,\"#9c179e\"],[0.4444444444444444,\"#bd3786\"],[0.5555555555555556,\"#d8576b\"],[0.6666666666666666,\"#ed7953\"],[0.7777777777777778,\"#fb9f3a\"],[0.8888888888888888,\"#fdca26\"],[1.0,\"#f0f921\"]]}],\"mesh3d\":[{\"type\":\"mesh3d\",\"colorbar\":{\"outlinewidth\":0,\"ticks\":\"\"}}],\"scatter\":[{\"fillpattern\":{\"fillmode\":\"overlay\",\"size\":10,\"solidity\":0.2},\"type\":\"scatter\"}],\"parcoords\":[{\"type\":\"parcoords\",\"line\":{\"colorbar\":{\"outlinewidth\":0,\"ticks\":\"\"}}}],\"scatterpolargl\":[{\"type\":\"scatterpolargl\",\"marker\":{\"colorbar\":{\"outlinewidth\":0,\"ticks\":\"\"}}}],\"bar\":[{\"error_x\":{\"color\":\"#2a3f5f\"},\"error_y\":{\"color\":\"#2a3f5f\"},\"marker\":{\"line\":{\"color\":\"white\",\"width\":0.5},\"pattern\":{\"fillmode\":\"overlay\",\"size\":10,\"solidity\":0.2}},\"type\":\"bar\"}],\"scattergeo\":[{\"type\":\"scattergeo\",\"marker\":{\"colorbar\":{\"outlinewidth\":0,\"ticks\":\"\"}}}],\"scatterpolar\":[{\"type\":\"scatterpolar\",\"marker\":{\"colorbar\":{\"outlinewidth\":0,\"ticks\":\"\"}}}],\"histogram\":[{\"marker\":{\"pattern\":{\"fillmode\":\"overlay\",\"size\":10,\"solidity\":0.2}},\"type\":\"histogram\"}],\"scattergl\":[{\"type\":\"scattergl\",\"marker\":{\"colorbar\":{\"outlinewidth\":0,\"ticks\":\"\"}}}],\"scatter3d\":[{\"type\":\"scatter3d\",\"line\":{\"colorbar\":{\"outlinewidth\":0,\"ticks\":\"\"}},\"marker\":{\"colorbar\":{\"outlinewidth\":0,\"ticks\":\"\"}}}],\"scattermapbox\":[{\"type\":\"scattermapbox\",\"marker\":{\"colorbar\":{\"outlinewidth\":0,\"ticks\":\"\"}}}],\"scatterternary\":[{\"type\":\"scatterternary\",\"marker\":{\"colorbar\":{\"outlinewidth\":0,\"ticks\":\"\"}}}],\"scattercarpet\":[{\"type\":\"scattercarpet\",\"marker\":{\"colorbar\":{\"outlinewidth\":0,\"ticks\":\"\"}}}],\"carpet\":[{\"aaxis\":{\"endlinecolor\":\"#2a3f5f\",\"gridcolor\":\"#C8D4E3\",\"linecolor\":\"#C8D4E3\",\"minorgridcolor\":\"#C8D4E3\",\"startlinecolor\":\"#2a3f5f\"},\"baxis\":{\"endlinecolor\":\"#2a3f5f\",\"gridcolor\":\"#C8D4E3\",\"linecolor\":\"#C8D4E3\",\"minorgridcolor\":\"#C8D4E3\",\"startlinecolor\":\"#2a3f5f\"},\"type\":\"carpet\"}],\"table\":[{\"cells\":{\"fill\":{\"color\":\"#EBF0F8\"},\"line\":{\"color\":\"white\"}},\"header\":{\"fill\":{\"color\":\"#C8D4E3\"},\"line\":{\"color\":\"white\"}},\"type\":\"table\"}],\"barpolar\":[{\"marker\":{\"line\":{\"color\":\"white\",\"width\":0.5},\"pattern\":{\"fillmode\":\"overlay\",\"size\":10,\"solidity\":0.2}},\"type\":\"barpolar\"}],\"pie\":[{\"automargin\":true,\"type\":\"pie\"}]},\"layout\":{\"autotypenumbers\":\"strict\",\"colorway\":[\"#636efa\",\"#EF553B\",\"#00cc96\",\"#ab63fa\",\"#FFA15A\",\"#19d3f3\",\"#FF6692\",\"#B6E880\",\"#FF97FF\",\"#FECB52\"],\"font\":{\"color\":\"#2a3f5f\"},\"hovermode\":\"closest\",\"hoverlabel\":{\"align\":\"left\"},\"paper_bgcolor\":\"white\",\"plot_bgcolor\":\"white\",\"polar\":{\"bgcolor\":\"white\",\"angularaxis\":{\"gridcolor\":\"#EBF0F8\",\"linecolor\":\"#EBF0F8\",\"ticks\":\"\"},\"radialaxis\":{\"gridcolor\":\"#EBF0F8\",\"linecolor\":\"#EBF0F8\",\"ticks\":\"\"}},\"ternary\":{\"bgcolor\":\"white\",\"aaxis\":{\"gridcolor\":\"#DFE8F3\",\"linecolor\":\"#A2B1C6\",\"ticks\":\"\"},\"baxis\":{\"gridcolor\":\"#DFE8F3\",\"linecolor\":\"#A2B1C6\",\"ticks\":\"\"},\"caxis\":{\"gridcolor\":\"#DFE8F3\",\"linecolor\":\"#A2B1C6\",\"ticks\":\"\"}},\"coloraxis\":{\"colorbar\":{\"outlinewidth\":0,\"ticks\":\"\"}},\"colorscale\":{\"sequential\":[[0.0,\"#0d0887\"],[0.1111111111111111,\"#46039f\"],[0.2222222222222222,\"#7201a8\"],[0.3333333333333333,\"#9c179e\"],[0.4444444444444444,\"#bd3786\"],[0.5555555555555556,\"#d8576b\"],[0.6666666666666666,\"#ed7953\"],[0.7777777777777778,\"#fb9f3a\"],[0.8888888888888888,\"#fdca26\"],[1.0,\"#f0f921\"]],\"sequentialminus\":[[0.0,\"#0d0887\"],[0.1111111111111111,\"#46039f\"],[0.2222222222222222,\"#7201a8\"],[0.3333333333333333,\"#9c179e\"],[0.4444444444444444,\"#bd3786\"],[0.5555555555555556,\"#d8576b\"],[0.6666666666666666,\"#ed7953\"],[0.7777777777777778,\"#fb9f3a\"],[0.8888888888888888,\"#fdca26\"],[1.0,\"#f0f921\"]],\"diverging\":[[0,\"#8e0152\"],[0.1,\"#c51b7d\"],[0.2,\"#de77ae\"],[0.3,\"#f1b6da\"],[0.4,\"#fde0ef\"],[0.5,\"#f7f7f7\"],[0.6,\"#e6f5d0\"],[0.7,\"#b8e186\"],[0.8,\"#7fbc41\"],[0.9,\"#4d9221\"],[1,\"#276419\"]]},\"xaxis\":{\"gridcolor\":\"#EBF0F8\",\"linecolor\":\"#EBF0F8\",\"ticks\":\"\",\"title\":{\"standoff\":15},\"zerolinecolor\":\"#EBF0F8\",\"automargin\":true,\"zerolinewidth\":2},\"yaxis\":{\"gridcolor\":\"#EBF0F8\",\"linecolor\":\"#EBF0F8\",\"ticks\":\"\",\"title\":{\"standoff\":15},\"zerolinecolor\":\"#EBF0F8\",\"automargin\":true,\"zerolinewidth\":2},\"scene\":{\"xaxis\":{\"backgroundcolor\":\"white\",\"gridcolor\":\"#DFE8F3\",\"linecolor\":\"#EBF0F8\",\"showbackground\":true,\"ticks\":\"\",\"zerolinecolor\":\"#EBF0F8\",\"gridwidth\":2},\"yaxis\":{\"backgroundcolor\":\"white\",\"gridcolor\":\"#DFE8F3\",\"linecolor\":\"#EBF0F8\",\"showbackground\":true,\"ticks\":\"\",\"zerolinecolor\":\"#EBF0F8\",\"gridwidth\":2},\"zaxis\":{\"backgroundcolor\":\"white\",\"gridcolor\":\"#DFE8F3\",\"linecolor\":\"#EBF0F8\",\"showbackground\":true,\"ticks\":\"\",\"zerolinecolor\":\"#EBF0F8\",\"gridwidth\":2}},\"shapedefaults\":{\"line\":{\"color\":\"#2a3f5f\"}},\"annotationdefaults\":{\"arrowcolor\":\"#2a3f5f\",\"arrowhead\":0,\"arrowwidth\":1},\"geo\":{\"bgcolor\":\"white\",\"landcolor\":\"white\",\"subunitcolor\":\"#C8D4E3\",\"showland\":true,\"showlakes\":true,\"lakecolor\":\"white\"},\"title\":{\"x\":0.05},\"mapbox\":{\"style\":\"light\"}}},\"xaxis\":{\"anchor\":\"y\",\"domain\":[0.0,1.0],\"title\":{\"text\":\"Hashtag\"}},\"yaxis\":{\"anchor\":\"x\",\"domain\":[0.0,1.0],\"title\":{\"text\":\"Likes\"}},\"legend\":{\"tracegroupgap\":0},\"title\":{\"text\":\"Likes Distribution for Each Hashtag\"},\"barmode\":\"relative\"},                        {\"responsive\": true}                    ).then(function(){\n",
       "                            \n",
       "var gd = document.getElementById('927671cb-1252-404f-aa79-58aedc90ae93');\n",
       "var x = new MutationObserver(function (mutations, observer) {{\n",
       "        var display = window.getComputedStyle(gd).display;\n",
       "        if (!display || display === 'none') {{\n",
       "            console.log([gd, 'removed!']);\n",
       "            Plotly.purge(gd);\n",
       "            observer.disconnect();\n",
       "        }}\n",
       "}});\n",
       "\n",
       "// Listen for the removal of the full notebook cells\n",
       "var notebookContainer = gd.closest('#notebook-container');\n",
       "if (notebookContainer) {{\n",
       "    x.observe(notebookContainer, {childList: true});\n",
       "}}\n",
       "\n",
       "// Listen for the clearing of the current output cell\n",
       "var outputEl = gd.closest('.output');\n",
       "if (outputEl) {{\n",
       "    x.observe(outputEl, {childList: true});\n",
       "}}\n",
       "\n",
       "                        })                };                });            </script>        </div>"
      ]
     },
     "metadata": {},
     "output_type": "display_data"
    },
    {
     "data": {
      "text/html": [
       "<div>                            <div id=\"22f65080-5931-4bea-984f-640211a20f10\" class=\"plotly-graph-div\" style=\"height:525px; width:100%;\"></div>            <script type=\"text/javascript\">                require([\"plotly\"], function(Plotly) {                    window.PLOTLYENV=window.PLOTLYENV || {};                                    if (document.getElementById(\"22f65080-5931-4bea-984f-640211a20f10\")) {                    Plotly.newPlot(                        \"22f65080-5931-4bea-984f-640211a20f10\",                        [{\"alignmentgroup\":\"True\",\"hovertemplate\":\"Hashtag=%{x}\\u003cbr\\u003eImpressions=%{y}\\u003cextra\\u003e\\u003c\\u002fextra\\u003e\",\"legendgroup\":\"\",\"marker\":{\"color\":\"#636efa\",\"pattern\":{\"shape\":\"\"}},\"name\":\"\",\"offsetgroup\":\"\",\"orientation\":\"v\",\"showlegend\":false,\"textposition\":\"auto\",\"x\":[\"#finance\",\"#money\",\"#business\",\"#investing\",\"#investment\",\"#trading\",\"#stockmarket\",\"#data\",\"#datascience\",\"#dataanalysis\",\"#dataanalytics\",\"#datascientist\",\"#machinelearning\",\"#python\",\"#pythonprogramming\",\"#pythonprojects\",\"#pythoncode\",\"#artificialintelligence\",\"#ai\",\"#dataanalyst\",\"#amankharwal\",\"#thecleverprogrammer\",\"#healthcare\",\"#health\",\"#covid\",\"#deeplearning\",\"#machinelearningprojects\",\"#datascienceprojects\",\"#machinelearningmodels\",\"#pythonlearning\",\"#pythondeveloper\",\"#pythoncoding\",\"#pythonprogrammer\",\"#datavisualization\",\"#bigdata\",\"#dataviz\",\"#analytics\",\"#technology\",\"#programming\",\"#statistics\",\"#coding\",\"#businessintelligence\",\"#datamining\",\"#tech\",\"#computerscience\",\"#tableau\",\"#database\",\"#algorithm\",\"#algorithms\",\"#machinelearningalgorithms\",\"#ml\",\"#softskills\",\"#stocks\",\"#forex\",\"#candlestick\",\"#candlestickcharts\",\"#pythonbooks\",\"#bookstagram\",\"#powerbi\",\"#dataanalysisprojects\",\"#businessanalytics\",\"#neuralnetwork\",\"#neuralnetworks\",\"#tensorflow\",\"#artificialintelligenceai\",\"#alexnet\",\"#sentimentanalysis\",\"#sentiment\",\"#nlp\",\"#naturallanguageprocessing\",\"#timeseries\",\"#time\",\"#timeseriesanalysis\",\"#iot\",\"#analysis\",\"#timeseriesmalaysia\",\"#career\",\"#job\",\"#jobs\",\"#jobsearch\",\"#education\",\"#success\",\"#careergoals\",\"#motivation\",\"#work\",\"#careerdevelopment\",\"#careers\",\"#goals\",\"#resume\",\"#students\",\"#careeradvice\",\"#marketing\",\"#digitalmarketing\",\"#media\",\"#socialmedia\",\"#IT\",\"#webdevelopment\",\"#stress\",\"#stressdetection\",\"#zomato\",\"#casestudy\",\"#businessmodel\",\"#boxplots\",\"#programmer\",\"#developer\",\"#javascript\",\"#code\",\"#coder\",\"#java\",\"#html\",\"#css\",\"#webdeveloper\",\"#software\",\"#codinglife\",\"#softwaredeveloper\",\"#linux\",\"#programmingmemes\",\"#webdesign\",\"#programmers\",\"#php\",\"#programminglife\",\"#hacking\",\"#bitcoin\",\"#cryptocurrency\",\"#projects\",\"#casestudies\",\"#amazonfinds\",\"#security\",\"#cybersecurity\",\"#network\",\"#internet\",\"#cloud\",\"#innovation\",\"#google\",\"#facebook\",\"#interview\",\"#datascienceinterview\",\"#otp\",\"#otpverification\",\"#qrcodes\",\"#bigdataanalytics\",\"#recommended\",\"#recommendations\",\"#recommendationsystem\",\"#recommendation\",\"#codinginterview\",\"#flipkart\",\"#news\",\"#pythonprogram\",\"@codergallery\",\"#whatsapp\",\"#roadmap\",\"#ukraine\",\"#instagram\",\"#instagramreach\",\"#datasciencejobs\",\"#datasciencetraining\",\"#datascienceeducation\",\"#datasciencecourse\",\"#sql\",\"#mysql\",\"#python3\",\"#pythonprogramminglanguage\",\"#clustering\"],\"xaxis\":\"x\",\"y\":[14224,14224,51387,14224,9757,9757,9757,515781,555660,488943,528807,514766,563647,578243,525346,567608,470276,537210,543047,47051,703186,703186,18292,18292,18292,476337,328447,328447,27201,135901,135901,135901,135901,64864,70884,15438,53464,85523,90132,47283,83264,17971,17971,78655,75019,6506,22088,57289,57289,71529,30316,3884,5837,5837,5837,5837,3541,3541,13389,9401,9401,31660,18529,14240,14240,2218,34102,34102,42567,42567,22444,22444,22444,22444,22444,22444,8004,14856,8004,8004,8004,8004,8004,8004,8004,8004,8004,8004,8004,8004,8004,8004,8004,8004,8004,8004,35456,12336,12336,10844,10844,10844,2064,22843,22843,22843,22843,22843,22843,22843,22843,22843,29024,22843,22843,15991,15991,15991,15991,15991,15991,15991,14121,14121,7848,7848,6030,6181,6181,6181,6181,6181,6181,3854,2327,16139,4998,8030,8030,3786,3988,10036,10036,10036,10036,6852,3601,3525,2957,2957,5538,10682,8001,7231,7231,86691,86691,86691,86691,17713,17713,15991,15991,9870],\"yaxis\":\"y\",\"type\":\"bar\"}],                        {\"template\":{\"data\":{\"histogram2dcontour\":[{\"type\":\"histogram2dcontour\",\"colorbar\":{\"outlinewidth\":0,\"ticks\":\"\"},\"colorscale\":[[0.0,\"#0d0887\"],[0.1111111111111111,\"#46039f\"],[0.2222222222222222,\"#7201a8\"],[0.3333333333333333,\"#9c179e\"],[0.4444444444444444,\"#bd3786\"],[0.5555555555555556,\"#d8576b\"],[0.6666666666666666,\"#ed7953\"],[0.7777777777777778,\"#fb9f3a\"],[0.8888888888888888,\"#fdca26\"],[1.0,\"#f0f921\"]]}],\"choropleth\":[{\"type\":\"choropleth\",\"colorbar\":{\"outlinewidth\":0,\"ticks\":\"\"}}],\"histogram2d\":[{\"type\":\"histogram2d\",\"colorbar\":{\"outlinewidth\":0,\"ticks\":\"\"},\"colorscale\":[[0.0,\"#0d0887\"],[0.1111111111111111,\"#46039f\"],[0.2222222222222222,\"#7201a8\"],[0.3333333333333333,\"#9c179e\"],[0.4444444444444444,\"#bd3786\"],[0.5555555555555556,\"#d8576b\"],[0.6666666666666666,\"#ed7953\"],[0.7777777777777778,\"#fb9f3a\"],[0.8888888888888888,\"#fdca26\"],[1.0,\"#f0f921\"]]}],\"heatmap\":[{\"type\":\"heatmap\",\"colorbar\":{\"outlinewidth\":0,\"ticks\":\"\"},\"colorscale\":[[0.0,\"#0d0887\"],[0.1111111111111111,\"#46039f\"],[0.2222222222222222,\"#7201a8\"],[0.3333333333333333,\"#9c179e\"],[0.4444444444444444,\"#bd3786\"],[0.5555555555555556,\"#d8576b\"],[0.6666666666666666,\"#ed7953\"],[0.7777777777777778,\"#fb9f3a\"],[0.8888888888888888,\"#fdca26\"],[1.0,\"#f0f921\"]]}],\"heatmapgl\":[{\"type\":\"heatmapgl\",\"colorbar\":{\"outlinewidth\":0,\"ticks\":\"\"},\"colorscale\":[[0.0,\"#0d0887\"],[0.1111111111111111,\"#46039f\"],[0.2222222222222222,\"#7201a8\"],[0.3333333333333333,\"#9c179e\"],[0.4444444444444444,\"#bd3786\"],[0.5555555555555556,\"#d8576b\"],[0.6666666666666666,\"#ed7953\"],[0.7777777777777778,\"#fb9f3a\"],[0.8888888888888888,\"#fdca26\"],[1.0,\"#f0f921\"]]}],\"contourcarpet\":[{\"type\":\"contourcarpet\",\"colorbar\":{\"outlinewidth\":0,\"ticks\":\"\"}}],\"contour\":[{\"type\":\"contour\",\"colorbar\":{\"outlinewidth\":0,\"ticks\":\"\"},\"colorscale\":[[0.0,\"#0d0887\"],[0.1111111111111111,\"#46039f\"],[0.2222222222222222,\"#7201a8\"],[0.3333333333333333,\"#9c179e\"],[0.4444444444444444,\"#bd3786\"],[0.5555555555555556,\"#d8576b\"],[0.6666666666666666,\"#ed7953\"],[0.7777777777777778,\"#fb9f3a\"],[0.8888888888888888,\"#fdca26\"],[1.0,\"#f0f921\"]]}],\"surface\":[{\"type\":\"surface\",\"colorbar\":{\"outlinewidth\":0,\"ticks\":\"\"},\"colorscale\":[[0.0,\"#0d0887\"],[0.1111111111111111,\"#46039f\"],[0.2222222222222222,\"#7201a8\"],[0.3333333333333333,\"#9c179e\"],[0.4444444444444444,\"#bd3786\"],[0.5555555555555556,\"#d8576b\"],[0.6666666666666666,\"#ed7953\"],[0.7777777777777778,\"#fb9f3a\"],[0.8888888888888888,\"#fdca26\"],[1.0,\"#f0f921\"]]}],\"mesh3d\":[{\"type\":\"mesh3d\",\"colorbar\":{\"outlinewidth\":0,\"ticks\":\"\"}}],\"scatter\":[{\"fillpattern\":{\"fillmode\":\"overlay\",\"size\":10,\"solidity\":0.2},\"type\":\"scatter\"}],\"parcoords\":[{\"type\":\"parcoords\",\"line\":{\"colorbar\":{\"outlinewidth\":0,\"ticks\":\"\"}}}],\"scatterpolargl\":[{\"type\":\"scatterpolargl\",\"marker\":{\"colorbar\":{\"outlinewidth\":0,\"ticks\":\"\"}}}],\"bar\":[{\"error_x\":{\"color\":\"#2a3f5f\"},\"error_y\":{\"color\":\"#2a3f5f\"},\"marker\":{\"line\":{\"color\":\"white\",\"width\":0.5},\"pattern\":{\"fillmode\":\"overlay\",\"size\":10,\"solidity\":0.2}},\"type\":\"bar\"}],\"scattergeo\":[{\"type\":\"scattergeo\",\"marker\":{\"colorbar\":{\"outlinewidth\":0,\"ticks\":\"\"}}}],\"scatterpolar\":[{\"type\":\"scatterpolar\",\"marker\":{\"colorbar\":{\"outlinewidth\":0,\"ticks\":\"\"}}}],\"histogram\":[{\"marker\":{\"pattern\":{\"fillmode\":\"overlay\",\"size\":10,\"solidity\":0.2}},\"type\":\"histogram\"}],\"scattergl\":[{\"type\":\"scattergl\",\"marker\":{\"colorbar\":{\"outlinewidth\":0,\"ticks\":\"\"}}}],\"scatter3d\":[{\"type\":\"scatter3d\",\"line\":{\"colorbar\":{\"outlinewidth\":0,\"ticks\":\"\"}},\"marker\":{\"colorbar\":{\"outlinewidth\":0,\"ticks\":\"\"}}}],\"scattermapbox\":[{\"type\":\"scattermapbox\",\"marker\":{\"colorbar\":{\"outlinewidth\":0,\"ticks\":\"\"}}}],\"scatterternary\":[{\"type\":\"scatterternary\",\"marker\":{\"colorbar\":{\"outlinewidth\":0,\"ticks\":\"\"}}}],\"scattercarpet\":[{\"type\":\"scattercarpet\",\"marker\":{\"colorbar\":{\"outlinewidth\":0,\"ticks\":\"\"}}}],\"carpet\":[{\"aaxis\":{\"endlinecolor\":\"#2a3f5f\",\"gridcolor\":\"#C8D4E3\",\"linecolor\":\"#C8D4E3\",\"minorgridcolor\":\"#C8D4E3\",\"startlinecolor\":\"#2a3f5f\"},\"baxis\":{\"endlinecolor\":\"#2a3f5f\",\"gridcolor\":\"#C8D4E3\",\"linecolor\":\"#C8D4E3\",\"minorgridcolor\":\"#C8D4E3\",\"startlinecolor\":\"#2a3f5f\"},\"type\":\"carpet\"}],\"table\":[{\"cells\":{\"fill\":{\"color\":\"#EBF0F8\"},\"line\":{\"color\":\"white\"}},\"header\":{\"fill\":{\"color\":\"#C8D4E3\"},\"line\":{\"color\":\"white\"}},\"type\":\"table\"}],\"barpolar\":[{\"marker\":{\"line\":{\"color\":\"white\",\"width\":0.5},\"pattern\":{\"fillmode\":\"overlay\",\"size\":10,\"solidity\":0.2}},\"type\":\"barpolar\"}],\"pie\":[{\"automargin\":true,\"type\":\"pie\"}]},\"layout\":{\"autotypenumbers\":\"strict\",\"colorway\":[\"#636efa\",\"#EF553B\",\"#00cc96\",\"#ab63fa\",\"#FFA15A\",\"#19d3f3\",\"#FF6692\",\"#B6E880\",\"#FF97FF\",\"#FECB52\"],\"font\":{\"color\":\"#2a3f5f\"},\"hovermode\":\"closest\",\"hoverlabel\":{\"align\":\"left\"},\"paper_bgcolor\":\"white\",\"plot_bgcolor\":\"white\",\"polar\":{\"bgcolor\":\"white\",\"angularaxis\":{\"gridcolor\":\"#EBF0F8\",\"linecolor\":\"#EBF0F8\",\"ticks\":\"\"},\"radialaxis\":{\"gridcolor\":\"#EBF0F8\",\"linecolor\":\"#EBF0F8\",\"ticks\":\"\"}},\"ternary\":{\"bgcolor\":\"white\",\"aaxis\":{\"gridcolor\":\"#DFE8F3\",\"linecolor\":\"#A2B1C6\",\"ticks\":\"\"},\"baxis\":{\"gridcolor\":\"#DFE8F3\",\"linecolor\":\"#A2B1C6\",\"ticks\":\"\"},\"caxis\":{\"gridcolor\":\"#DFE8F3\",\"linecolor\":\"#A2B1C6\",\"ticks\":\"\"}},\"coloraxis\":{\"colorbar\":{\"outlinewidth\":0,\"ticks\":\"\"}},\"colorscale\":{\"sequential\":[[0.0,\"#0d0887\"],[0.1111111111111111,\"#46039f\"],[0.2222222222222222,\"#7201a8\"],[0.3333333333333333,\"#9c179e\"],[0.4444444444444444,\"#bd3786\"],[0.5555555555555556,\"#d8576b\"],[0.6666666666666666,\"#ed7953\"],[0.7777777777777778,\"#fb9f3a\"],[0.8888888888888888,\"#fdca26\"],[1.0,\"#f0f921\"]],\"sequentialminus\":[[0.0,\"#0d0887\"],[0.1111111111111111,\"#46039f\"],[0.2222222222222222,\"#7201a8\"],[0.3333333333333333,\"#9c179e\"],[0.4444444444444444,\"#bd3786\"],[0.5555555555555556,\"#d8576b\"],[0.6666666666666666,\"#ed7953\"],[0.7777777777777778,\"#fb9f3a\"],[0.8888888888888888,\"#fdca26\"],[1.0,\"#f0f921\"]],\"diverging\":[[0,\"#8e0152\"],[0.1,\"#c51b7d\"],[0.2,\"#de77ae\"],[0.3,\"#f1b6da\"],[0.4,\"#fde0ef\"],[0.5,\"#f7f7f7\"],[0.6,\"#e6f5d0\"],[0.7,\"#b8e186\"],[0.8,\"#7fbc41\"],[0.9,\"#4d9221\"],[1,\"#276419\"]]},\"xaxis\":{\"gridcolor\":\"#EBF0F8\",\"linecolor\":\"#EBF0F8\",\"ticks\":\"\",\"title\":{\"standoff\":15},\"zerolinecolor\":\"#EBF0F8\",\"automargin\":true,\"zerolinewidth\":2},\"yaxis\":{\"gridcolor\":\"#EBF0F8\",\"linecolor\":\"#EBF0F8\",\"ticks\":\"\",\"title\":{\"standoff\":15},\"zerolinecolor\":\"#EBF0F8\",\"automargin\":true,\"zerolinewidth\":2},\"scene\":{\"xaxis\":{\"backgroundcolor\":\"white\",\"gridcolor\":\"#DFE8F3\",\"linecolor\":\"#EBF0F8\",\"showbackground\":true,\"ticks\":\"\",\"zerolinecolor\":\"#EBF0F8\",\"gridwidth\":2},\"yaxis\":{\"backgroundcolor\":\"white\",\"gridcolor\":\"#DFE8F3\",\"linecolor\":\"#EBF0F8\",\"showbackground\":true,\"ticks\":\"\",\"zerolinecolor\":\"#EBF0F8\",\"gridwidth\":2},\"zaxis\":{\"backgroundcolor\":\"white\",\"gridcolor\":\"#DFE8F3\",\"linecolor\":\"#EBF0F8\",\"showbackground\":true,\"ticks\":\"\",\"zerolinecolor\":\"#EBF0F8\",\"gridwidth\":2}},\"shapedefaults\":{\"line\":{\"color\":\"#2a3f5f\"}},\"annotationdefaults\":{\"arrowcolor\":\"#2a3f5f\",\"arrowhead\":0,\"arrowwidth\":1},\"geo\":{\"bgcolor\":\"white\",\"landcolor\":\"white\",\"subunitcolor\":\"#C8D4E3\",\"showland\":true,\"showlakes\":true,\"lakecolor\":\"white\"},\"title\":{\"x\":0.05},\"mapbox\":{\"style\":\"light\"}}},\"xaxis\":{\"anchor\":\"y\",\"domain\":[0.0,1.0],\"title\":{\"text\":\"Hashtag\"}},\"yaxis\":{\"anchor\":\"x\",\"domain\":[0.0,1.0],\"title\":{\"text\":\"Impressions\"}},\"legend\":{\"tracegroupgap\":0},\"title\":{\"text\":\"Impressions Distribution for Each Hashtag\"},\"barmode\":\"relative\"},                        {\"responsive\": true}                    ).then(function(){\n",
       "                            \n",
       "var gd = document.getElementById('22f65080-5931-4bea-984f-640211a20f10');\n",
       "var x = new MutationObserver(function (mutations, observer) {{\n",
       "        var display = window.getComputedStyle(gd).display;\n",
       "        if (!display || display === 'none') {{\n",
       "            console.log([gd, 'removed!']);\n",
       "            Plotly.purge(gd);\n",
       "            observer.disconnect();\n",
       "        }}\n",
       "}});\n",
       "\n",
       "// Listen for the removal of the full notebook cells\n",
       "var notebookContainer = gd.closest('#notebook-container');\n",
       "if (notebookContainer) {{\n",
       "    x.observe(notebookContainer, {childList: true});\n",
       "}}\n",
       "\n",
       "// Listen for the clearing of the current output cell\n",
       "var outputEl = gd.closest('.output');\n",
       "if (outputEl) {{\n",
       "    x.observe(outputEl, {childList: true});\n",
       "}}\n",
       "\n",
       "                        })                };                });            </script>        </div>"
      ]
     },
     "metadata": {},
     "output_type": "display_data"
    }
   ],
   "source": [
    "#creating a dictionary to store the likes and impressions for each hashtag\n",
    "hashtag_likes = {}\n",
    "hashtag_impressions = {}\n",
    "\n",
    "#iterating it through each row in the dataset\n",
    "for index, row in data.iterrows():\n",
    "    hashtags = str(row['Hashtags']).split()\n",
    "    for hashtag in hashtags:\n",
    "        hashtag = hashtag.strip()\n",
    "        if hashtag not in hashtag_likes:\n",
    "            hashtag_likes[hashtag] = 0\n",
    "            hashtag_impressions[hashtag] = 0\n",
    "        hashtag_likes[hashtag] += row['Likes']\n",
    "        hashtag_impressions[hashtag] += row['Impressions']\n",
    "\n",
    "#creating a dataframe for likes distribution\n",
    "likes_distribution = pd.DataFrame(list(hashtag_likes.items()), columns=['Hashtag', 'Likes'])\n",
    "\n",
    "#creating a dataframe for impressions distribution\n",
    "impressions_distribution = pd.DataFrame(list(hashtag_impressions.items()), columns=['Hashtag', 'Impressions'])\n",
    "\n",
    "fig_likes = px.bar(likes_distribution, x='Hashtag', y='Likes', \n",
    "                   title='Likes Distribution for Each Hashtag')\n",
    "\n",
    "fig_impressions = px.bar(impressions_distribution, x='Hashtag', \n",
    "                         y='Impressions', \n",
    "                         title='Impressions Distribution for Each Hashtag')\n",
    "\n",
    "fig_likes.show()\n",
    "fig_impressions.show()"
   ]
  },
  {
   "cell_type": "code",
   "execution_count": null,
   "id": "372ab2d0",
   "metadata": {
    "papermill": {
     "duration": 0.01123,
     "end_time": "2023-07-18T16:39:34.481115",
     "exception": false,
     "start_time": "2023-07-18T16:39:34.469885",
     "status": "completed"
    },
    "tags": []
   },
   "outputs": [],
   "source": []
  }
 ],
 "metadata": {
  "kernelspec": {
   "display_name": "Python 3",
   "language": "python",
   "name": "python3"
  },
  "language_info": {
   "codemirror_mode": {
    "name": "ipython",
    "version": 3
   },
   "file_extension": ".py",
   "mimetype": "text/x-python",
   "name": "python",
   "nbconvert_exporter": "python",
   "pygments_lexer": "ipython3",
   "version": "3.10.12"
  },
  "papermill": {
   "default_parameters": {},
   "duration": 20.386957,
   "end_time": "2023-07-18T16:39:35.617841",
   "environment_variables": {},
   "exception": null,
   "input_path": "__notebook__.ipynb",
   "output_path": "__notebook__.ipynb",
   "parameters": {},
   "start_time": "2023-07-18T16:39:15.230884",
   "version": "2.4.0"
  }
 },
 "nbformat": 4,
 "nbformat_minor": 5
}
